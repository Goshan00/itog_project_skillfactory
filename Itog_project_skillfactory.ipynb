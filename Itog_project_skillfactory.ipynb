{
  "cells": [
    {
      "cell_type": "markdown",
      "id": "036e65f2-ae94-4fc4-94cc-40ce662c254d",
      "metadata": {
        "id": "036e65f2-ae94-4fc4-94cc-40ce662c254d"
      },
      "source": [
        "<h3>«Модель прогнозирования\n",
        "стоимости жилья для агентства недвижимости»</h3>"
      ]
    },
    {
      "cell_type": "code",
      "execution_count": null,
      "id": "e992f94c-79d2-4b96-a3a4-4198e1314364",
      "metadata": {
        "id": "e992f94c-79d2-4b96-a3a4-4198e1314364"
      },
      "outputs": [],
      "source": [
        "#импортирование библиотек\n",
        "import pandas as pd\n",
        "import numpy as np\n",
        "import matplotlib.pyplot as plt\n",
        "import seaborn as sns\n",
        "from scipy import stats\n",
        "import statsmodels.api as sm\n",
        "from sklearn.model_selection import train_test_split\n",
        "from sklearn import model_selection\n",
        "from sklearn import feature_selection\n",
        "from sklearn import linear_model\n",
        "from sklearn import metrics\n",
        "from sklearn import preprocessing\n",
        "from sklearn import tree\n",
        "from sklearn import ensemble\n",
        "from sklearn.pipeline import Pipeline\n",
        "import ydata_profiling\n",
        "import xgboost as xgb\n",
        "from sklearn.preprocessing import LabelEncoder\n",
        "from sklearn.metrics import mean_squared_error\n",
        "from sklearn.metrics import mean_absolute_error"
      ]
    },
    {
      "cell_type": "markdown",
      "id": "b1c91351-910c-4c99-ab3d-a62c3d0fa49c",
      "metadata": {
        "id": "b1c91351-910c-4c99-ab3d-a62c3d0fa49c"
      },
      "source": [
        "<h2>Анализ данных</h2>"
      ]
    },
    {
      "cell_type": "markdown",
      "id": "58f1aa47-16d1-491e-aff0-15e72ed92e8f",
      "metadata": {
        "id": "58f1aa47-16d1-491e-aff0-15e72ed92e8f"
      },
      "source": [
        "Заранее проговарим, что в исходном датафрейме данные требуют тщательного анализа и модификации, для точности прогнозирования будущей модели\n",
        "<br>Какие столбцы мы изначально имеем:<br>\n",
        "'status' — статус продажи;  \n",
        "'private pool' и 'PrivatePool' — наличие собственного бассейна;  \n",
        "'propertyType' — тип объекта недвижимости;  \n",
        "'street' — адрес объекта;  \n",
        "'baths' — количество ванных комнат;  \n",
        "'homeFacts' — сведения о строительстве объекта (содержит несколько типов сведений, влияющих на оценку объекта);  \n",
        "'fireplace' — наличие камина;  \n",
        "'city' — город;  \n",
        "'schools' — сведения о школах в районе;  \n",
        "'sqft' — площадь в футах;  \n",
        "'zipcode' — почтовый индекс;  \n",
        "'beds' — количество спален;  \n",
        "'state' — штат;  \n",
        "'stories' — количество этажей;  \n",
        "'mls-id' и 'MlsId' — идентификатор MLS (Multiple Listing Service, система мультилистинга);  \n",
        "'target' — цена объекта недвижимости (целевой признак, который необходимо спрогнозировать)"
      ]
    },
    {
      "cell_type": "code",
      "execution_count": null,
      "id": "d175a01a-15d6-46e0-b573-be3ef9f3de92",
      "metadata": {
        "id": "d175a01a-15d6-46e0-b573-be3ef9f3de92",
        "outputId": "c733c021-2afb-4692-af9b-c648cfd1b228"
      },
      "outputs": [
        {
          "data": {
            "text/html": [
              "<div>\n",
              "<style scoped>\n",
              "    .dataframe tbody tr th:only-of-type {\n",
              "        vertical-align: middle;\n",
              "    }\n",
              "\n",
              "    .dataframe tbody tr th {\n",
              "        vertical-align: top;\n",
              "    }\n",
              "\n",
              "    .dataframe thead th {\n",
              "        text-align: right;\n",
              "    }\n",
              "</style>\n",
              "<table border=\"1\" class=\"dataframe\">\n",
              "  <thead>\n",
              "    <tr style=\"text-align: right;\">\n",
              "      <th></th>\n",
              "      <th>status</th>\n",
              "      <th>private pool</th>\n",
              "      <th>propertyType</th>\n",
              "      <th>street</th>\n",
              "      <th>baths</th>\n",
              "      <th>homeFacts</th>\n",
              "      <th>fireplace</th>\n",
              "      <th>city</th>\n",
              "      <th>schools</th>\n",
              "      <th>sqft</th>\n",
              "      <th>zipcode</th>\n",
              "      <th>beds</th>\n",
              "      <th>state</th>\n",
              "      <th>stories</th>\n",
              "      <th>mls-id</th>\n",
              "      <th>PrivatePool</th>\n",
              "      <th>MlsId</th>\n",
              "      <th>target</th>\n",
              "    </tr>\n",
              "  </thead>\n",
              "  <tbody>\n",
              "    <tr>\n",
              "      <th>0</th>\n",
              "      <td>Active</td>\n",
              "      <td>NaN</td>\n",
              "      <td>Single Family Home</td>\n",
              "      <td>240 Heather Ln</td>\n",
              "      <td>3.5</td>\n",
              "      <td>{'atAGlanceFacts': [{'factValue': '2019', 'fac...</td>\n",
              "      <td>Gas Logs</td>\n",
              "      <td>Southern Pines</td>\n",
              "      <td>[{'rating': ['4', '4', '7', 'NR', '4', '7', 'N...</td>\n",
              "      <td>2900</td>\n",
              "      <td>28387</td>\n",
              "      <td>4</td>\n",
              "      <td>NC</td>\n",
              "      <td>NaN</td>\n",
              "      <td>NaN</td>\n",
              "      <td>NaN</td>\n",
              "      <td>611019</td>\n",
              "      <td>$418,000</td>\n",
              "    </tr>\n",
              "    <tr>\n",
              "      <th>1</th>\n",
              "      <td>for sale</td>\n",
              "      <td>NaN</td>\n",
              "      <td>single-family home</td>\n",
              "      <td>12911 E Heroy Ave</td>\n",
              "      <td>3 Baths</td>\n",
              "      <td>{'atAGlanceFacts': [{'factValue': '2019', 'fac...</td>\n",
              "      <td>NaN</td>\n",
              "      <td>Spokane Valley</td>\n",
              "      <td>[{'rating': ['4/10', 'None/10', '4/10'], 'data...</td>\n",
              "      <td>1,947 sqft</td>\n",
              "      <td>99216</td>\n",
              "      <td>3 Beds</td>\n",
              "      <td>WA</td>\n",
              "      <td>2.0</td>\n",
              "      <td>NaN</td>\n",
              "      <td>NaN</td>\n",
              "      <td>201916904</td>\n",
              "      <td>$310,000</td>\n",
              "    </tr>\n",
              "  </tbody>\n",
              "</table>\n",
              "</div>"
            ],
            "text/plain": [
              "     status private pool        propertyType             street    baths  \\\n",
              "0    Active          NaN  Single Family Home     240 Heather Ln      3.5   \n",
              "1  for sale          NaN  single-family home  12911 E Heroy Ave  3 Baths   \n",
              "\n",
              "                                           homeFacts fireplace  \\\n",
              "0  {'atAGlanceFacts': [{'factValue': '2019', 'fac...  Gas Logs   \n",
              "1  {'atAGlanceFacts': [{'factValue': '2019', 'fac...       NaN   \n",
              "\n",
              "             city                                            schools  \\\n",
              "0  Southern Pines  [{'rating': ['4', '4', '7', 'NR', '4', '7', 'N...   \n",
              "1  Spokane Valley  [{'rating': ['4/10', 'None/10', '4/10'], 'data...   \n",
              "\n",
              "         sqft zipcode    beds state stories mls-id PrivatePool      MlsId  \\\n",
              "0        2900   28387       4    NC     NaN    NaN         NaN     611019   \n",
              "1  1,947 sqft   99216  3 Beds    WA     2.0    NaN         NaN  201916904   \n",
              "\n",
              "     target  \n",
              "0  $418,000  \n",
              "1  $310,000  "
            ]
          },
          "execution_count": 2,
          "metadata": {},
          "output_type": "execute_result"
        }
      ],
      "source": [
        "#рассмотрим наш датафрейм\n",
        "df=pd.read_csv('data.csv')\n",
        "df.head(2)"
      ]
    },
    {
      "cell_type": "code",
      "execution_count": null,
      "id": "4318bf1e-f5ea-4c2e-ac40-290ceec386eb",
      "metadata": {
        "id": "4318bf1e-f5ea-4c2e-ac40-290ceec386eb",
        "outputId": "2a1e99bf-918f-4fa2-a725-a1753802e175"
      },
      "outputs": [
        {
          "data": {
            "text/plain": [
              "(377185, 18)"
            ]
          },
          "execution_count": 3,
          "metadata": {},
          "output_type": "execute_result"
        }
      ],
      "source": [
        "df.shape"
      ]
    },
    {
      "cell_type": "code",
      "execution_count": null,
      "id": "60b890c2-b979-4007-abe3-cf5cf18dcaab",
      "metadata": {
        "id": "60b890c2-b979-4007-abe3-cf5cf18dcaab",
        "outputId": "4fd1b112-bb0a-4f18-a7f7-fada821fa3f9"
      },
      "outputs": [
        {
          "name": "stdout",
          "output_type": "stream",
          "text": [
            "<class 'pandas.core.frame.DataFrame'>\n",
            "RangeIndex: 377185 entries, 0 to 377184\n",
            "Data columns (total 18 columns):\n",
            " #   Column        Non-Null Count   Dtype \n",
            "---  ------        --------------   ----- \n",
            " 0   status        337267 non-null  object\n",
            " 1   private pool  4181 non-null    object\n",
            " 2   propertyType  342452 non-null  object\n",
            " 3   street        377183 non-null  object\n",
            " 4   baths         270847 non-null  object\n",
            " 5   homeFacts     377185 non-null  object\n",
            " 6   fireplace     103114 non-null  object\n",
            " 7   city          377151 non-null  object\n",
            " 8   schools       377185 non-null  object\n",
            " 9   sqft          336608 non-null  object\n",
            " 10  zipcode       377185 non-null  object\n",
            " 11  beds          285903 non-null  object\n",
            " 12  state         377185 non-null  object\n",
            " 13  stories       226469 non-null  object\n",
            " 14  mls-id        24942 non-null   object\n",
            " 15  PrivatePool   40311 non-null   object\n",
            " 16  MlsId         310305 non-null  object\n",
            " 17  target        374704 non-null  object\n",
            "dtypes: object(18)\n",
            "memory usage: 51.8+ MB\n"
          ]
        }
      ],
      "source": [
        "df.info()"
      ]
    },
    {
      "cell_type": "markdown",
      "id": "a440cdd3-40ba-4847-8913-d820614dfef0",
      "metadata": {
        "id": "a440cdd3-40ba-4847-8913-d820614dfef0"
      },
      "source": [
        "Уже можно сделать вывод что придётся работать с типами данных"
      ]
    },
    {
      "cell_type": "code",
      "execution_count": null,
      "id": "deb3e341-cc56-4554-aa91-23e5e6f10e33",
      "metadata": {
        "id": "deb3e341-cc56-4554-aa91-23e5e6f10e33",
        "outputId": "db0c463b-e53d-4cce-ba58-9c344afd69bd"
      },
      "outputs": [
        {
          "data": {
            "text/html": [
              "<div>\n",
              "<style scoped>\n",
              "    .dataframe tbody tr th:only-of-type {\n",
              "        vertical-align: middle;\n",
              "    }\n",
              "\n",
              "    .dataframe tbody tr th {\n",
              "        vertical-align: top;\n",
              "    }\n",
              "\n",
              "    .dataframe thead th {\n",
              "        text-align: right;\n",
              "    }\n",
              "</style>\n",
              "<table border=\"1\" class=\"dataframe\">\n",
              "  <thead>\n",
              "    <tr style=\"text-align: right;\">\n",
              "      <th></th>\n",
              "      <th>NaN_Counts</th>\n",
              "      <th>NaN_Proportions(%)</th>\n",
              "    </tr>\n",
              "  </thead>\n",
              "  <tbody>\n",
              "    <tr>\n",
              "      <th>private pool</th>\n",
              "      <td>373004</td>\n",
              "      <td>98.891525</td>\n",
              "    </tr>\n",
              "    <tr>\n",
              "      <th>mls-id</th>\n",
              "      <td>352243</td>\n",
              "      <td>93.387330</td>\n",
              "    </tr>\n",
              "    <tr>\n",
              "      <th>PrivatePool</th>\n",
              "      <td>336874</td>\n",
              "      <td>89.312672</td>\n",
              "    </tr>\n",
              "    <tr>\n",
              "      <th>fireplace</th>\n",
              "      <td>274071</td>\n",
              "      <td>72.662221</td>\n",
              "    </tr>\n",
              "    <tr>\n",
              "      <th>stories</th>\n",
              "      <td>150716</td>\n",
              "      <td>39.958111</td>\n",
              "    </tr>\n",
              "  </tbody>\n",
              "</table>\n",
              "</div>"
            ],
            "text/plain": [
              "              NaN_Counts  NaN_Proportions(%)\n",
              "private pool      373004           98.891525\n",
              "mls-id            352243           93.387330\n",
              "PrivatePool       336874           89.312672\n",
              "fireplace         274071           72.662221\n",
              "stories           150716           39.958111"
            ]
          },
          "execution_count": 5,
          "metadata": {},
          "output_type": "execute_result"
        }
      ],
      "source": [
        "#посмотрим на уровень пропусков в даных\n",
        "missing_data_in_df=pd.DataFrame({'NaN_Counts': df.isna().sum(), 'NaN_Proportions(%)': (df.isna().sum() / df.shape[0]) * 100}).sort_values(by='NaN_Counts', ascending=False)\n",
        "missing_data_in_df.head()"
      ]
    },
    {
      "cell_type": "markdown",
      "id": "a43df347-9ca9-4b21-9cc9-616fb7cd838e",
      "metadata": {
        "id": "a43df347-9ca9-4b21-9cc9-616fb7cd838e"
      },
      "source": [
        "Перед тем, как сразу же удалять данные с большим количеством пропусков, поработаем с каждым признаком отдельно"
      ]
    },
    {
      "cell_type": "markdown",
      "id": "a04ef4f4-cd9c-4f23-b44a-3f4829d53264",
      "metadata": {
        "id": "a04ef4f4-cd9c-4f23-b44a-3f4829d53264"
      },
      "source": [
        "Обработаем данные через ydata_profiling:"
      ]
    },
    {
      "cell_type": "code",
      "execution_count": null,
      "id": "bfbbd308-a980-4bba-8fcb-ce10d0dbb84f",
      "metadata": {
        "id": "bfbbd308-a980-4bba-8fcb-ce10d0dbb84f"
      },
      "outputs": [],
      "source": [
        "#profile = ydata_profiling.ProfileReport(df, title=\"Profiling Report\")\n",
        "#profile.to_notebook_iframe()"
      ]
    },
    {
      "cell_type": "code",
      "execution_count": null,
      "id": "468b0a2a-6c96-4cb4-81a9-8c4ba77993ad",
      "metadata": {
        "id": "468b0a2a-6c96-4cb4-81a9-8c4ba77993ad"
      },
      "outputs": [],
      "source": [
        "#сохраним полученный отчёт\n",
        "#profile.to_file(\"data_report.html\")"
      ]
    },
    {
      "cell_type": "markdown",
      "id": "4229514c-7405-42db-8242-fafd465d5cd0",
      "metadata": {
        "id": "4229514c-7405-42db-8242-fafd465d5cd0"
      },
      "source": [
        "Из полученных данных, следует подтверждение представления о наличии таких проблем, как: пропуски в данных, большая вариативность переменных типа object, также можно отметить наличие дубликатов"
      ]
    },
    {
      "cell_type": "code",
      "execution_count": null,
      "id": "7c657bc4-bc57-4f30-933e-176a660f0549",
      "metadata": {
        "id": "7c657bc4-bc57-4f30-933e-176a660f0549",
        "outputId": "1bc2e6be-642b-4508-c58f-cc6c3b78c8e7"
      },
      "outputs": [
        {
          "data": {
            "text/plain": [
              "50"
            ]
          },
          "execution_count": 8,
          "metadata": {},
          "output_type": "execute_result"
        }
      ],
      "source": [
        "#Оценим число дубликатов\n",
        "df.duplicated().sum()"
      ]
    },
    {
      "cell_type": "code",
      "execution_count": null,
      "id": "ab66420f-99a4-4615-a181-c8f23b4b8735",
      "metadata": {
        "id": "ab66420f-99a4-4615-a181-c8f23b4b8735"
      },
      "outputs": [],
      "source": [
        "df = df.drop_duplicates(ignore_index=True) #удалим дубликаты"
      ]
    },
    {
      "cell_type": "markdown",
      "id": "3774c79f-fcff-48b2-82f9-49775fcf4500",
      "metadata": {
        "id": "3774c79f-fcff-48b2-82f9-49775fcf4500"
      },
      "source": [
        "Удалим строки в которых более 7 столбцов содержат пропуски"
      ]
    },
    {
      "cell_type": "markdown",
      "id": "8e21d109-1e81-47f5-b9af-eca4e075ced7",
      "metadata": {
        "id": "8e21d109-1e81-47f5-b9af-eca4e075ced7"
      },
      "source": [
        "<h5>Перейдём к работе со столбцами</h5>"
      ]
    },
    {
      "cell_type": "markdown",
      "id": "2c841f7c-768a-4137-bea2-aa56d08d9145",
      "metadata": {
        "id": "2c841f7c-768a-4137-bea2-aa56d08d9145"
      },
      "source": [
        "<h4>1.Столбцы 'mls-id' и 'MlsId'</h4>"
      ]
    },
    {
      "cell_type": "markdown",
      "id": "cefac6c7-bb75-40bb-90df-679f852949f2",
      "metadata": {
        "id": "cefac6c7-bb75-40bb-90df-679f852949f2"
      },
      "source": [
        "Начнём с простого, уменьшим размерность, очевидно индентификаторы вызывают вопросы о степени влияния на стоимость."
      ]
    },
    {
      "cell_type": "code",
      "execution_count": null,
      "id": "f2e080ae-07ac-4ade-bdba-cfd675a14e67",
      "metadata": {
        "id": "f2e080ae-07ac-4ade-bdba-cfd675a14e67",
        "outputId": "61028ce6-84bf-4381-b077-d9cccf87964a"
      },
      "outputs": [
        {
          "data": {
            "text/plain": [
              "mls-id\n",
              "No MLS#      3\n",
              "No           3\n",
              "1498550      2\n",
              "39888954     2\n",
              "608063       2\n",
              "            ..\n",
              "1020314      1\n",
              "A10762436    1\n",
              "1592770      1\n",
              "14201834     1\n",
              "F10202858    1\n",
              "Name: count, Length: 24907, dtype: int64"
            ]
          },
          "execution_count": 10,
          "metadata": {},
          "output_type": "execute_result"
        }
      ],
      "source": [
        "df['mls-id'].value_counts()"
      ]
    },
    {
      "cell_type": "code",
      "execution_count": null,
      "id": "0ce70205-6289-4b4d-811d-d8ff56a270f4",
      "metadata": {
        "id": "0ce70205-6289-4b4d-811d-d8ff56a270f4",
        "outputId": "418c125c-f0a4-435d-c83d-a74b3600f8ec"
      },
      "outputs": [
        {
          "data": {
            "text/plain": [
              "MlsId\n",
              "NO MLS                     24\n",
              "No MLS #                   16\n",
              " A, Houston, TX 77008      13\n",
              " 12A, Orlando, FL 32833    11\n",
              "No                          9\n",
              "                           ..\n",
              "219080357                   1\n",
              "PAPH850238                  1\n",
              "RX-10580440                 1\n",
              "10515909                    1\n",
              "10374233                    1\n",
              "Name: count, Length: 232944, dtype: int64"
            ]
          },
          "execution_count": 11,
          "metadata": {},
          "output_type": "execute_result"
        }
      ],
      "source": [
        "df['MlsId'].value_counts()"
      ]
    },
    {
      "cell_type": "markdown",
      "id": "32d45b80-2686-41b1-bb92-a60c7b62d052",
      "metadata": {
        "id": "32d45b80-2686-41b1-bb92-a60c7b62d052"
      },
      "source": [
        "Большая вариативность переменных, отсутствие преобладающих значений, многие значения не заполнены, логическая связь с таргетом не наблдается, удалим атрибуты"
      ]
    },
    {
      "cell_type": "code",
      "execution_count": null,
      "id": "da9b101e-7694-4c82-9fcb-93b826126f1b",
      "metadata": {
        "id": "da9b101e-7694-4c82-9fcb-93b826126f1b"
      },
      "outputs": [],
      "source": [
        "df.drop(['mls-id','MlsId'],axis=1, inplace=True)"
      ]
    },
    {
      "cell_type": "markdown",
      "id": "3e54f724-e7dc-4f8f-8266-ab8ed0353ebd",
      "metadata": {
        "id": "3e54f724-e7dc-4f8f-8266-ab8ed0353ebd"
      },
      "source": [
        "Продолжая уменьшать размерность, обратим внимание на столбцы отвечающие за одну и ту же функцию 'private pool' и 'PrivatePool'."
      ]
    },
    {
      "cell_type": "markdown",
      "id": "53a5bded-86a3-4525-98dc-068c8a50cbfe",
      "metadata": {
        "id": "53a5bded-86a3-4525-98dc-068c8a50cbfe"
      },
      "source": [
        "<h4>2.'private pool' и 'PrivatePool'</h4>"
      ]
    },
    {
      "cell_type": "code",
      "execution_count": null,
      "id": "6553312b-5fd6-4b51-b4f4-52d78a0640a8",
      "metadata": {
        "id": "6553312b-5fd6-4b51-b4f4-52d78a0640a8",
        "outputId": "418643b8-6153-4f88-e9cb-65194111409a"
      },
      "outputs": [
        {
          "data": {
            "text/plain": [
              "private pool\n",
              "Yes    4181\n",
              "Name: count, dtype: int64"
            ]
          },
          "execution_count": 13,
          "metadata": {},
          "output_type": "execute_result"
        }
      ],
      "source": [
        "df['private pool'].value_counts()"
      ]
    },
    {
      "cell_type": "code",
      "execution_count": null,
      "id": "872b9414-e0fd-4f40-8ec6-4b5b56086c29",
      "metadata": {
        "id": "872b9414-e0fd-4f40-8ec6-4b5b56086c29",
        "outputId": "7e54f1ab-2faf-4b82-fc9b-47a668a7a7e6"
      },
      "outputs": [
        {
          "data": {
            "text/plain": [
              "PrivatePool\n",
              "yes    28792\n",
              "Yes    11518\n",
              "Name: count, dtype: int64"
            ]
          },
          "execution_count": 14,
          "metadata": {},
          "output_type": "execute_result"
        }
      ],
      "source": [
        "df['PrivatePool'].value_counts()"
      ]
    },
    {
      "cell_type": "markdown",
      "id": "343ebaed-f04f-487d-8435-d0ab1ebef4fe",
      "metadata": {
        "id": "343ebaed-f04f-487d-8435-d0ab1ebef4fe"
      },
      "source": [
        "Посмотрим на их отношение друг с другом"
      ]
    },
    {
      "cell_type": "code",
      "execution_count": null,
      "id": "f17fbad3-5b5b-4816-a2d3-bfd9d65b42c7",
      "metadata": {
        "id": "f17fbad3-5b5b-4816-a2d3-bfd9d65b42c7"
      },
      "outputs": [],
      "source": [
        "df_pool=df[['private pool', 'PrivatePool']]"
      ]
    },
    {
      "cell_type": "code",
      "execution_count": null,
      "id": "16fbd109-8788-4e74-affe-8adf02b0be47",
      "metadata": {
        "id": "16fbd109-8788-4e74-affe-8adf02b0be47",
        "outputId": "c73e86f9-39c6-4280-8279-1f2b3efece05"
      },
      "outputs": [
        {
          "data": {
            "text/html": [
              "<div>\n",
              "<style scoped>\n",
              "    .dataframe tbody tr th:only-of-type {\n",
              "        vertical-align: middle;\n",
              "    }\n",
              "\n",
              "    .dataframe tbody tr th {\n",
              "        vertical-align: top;\n",
              "    }\n",
              "\n",
              "    .dataframe thead th {\n",
              "        text-align: right;\n",
              "    }\n",
              "</style>\n",
              "<table border=\"1\" class=\"dataframe\">\n",
              "  <thead>\n",
              "    <tr style=\"text-align: right;\">\n",
              "      <th></th>\n",
              "      <th>private pool</th>\n",
              "      <th>PrivatePool</th>\n",
              "    </tr>\n",
              "  </thead>\n",
              "  <tbody>\n",
              "    <tr>\n",
              "      <th>205</th>\n",
              "      <td>Yes</td>\n",
              "      <td>NaN</td>\n",
              "    </tr>\n",
              "    <tr>\n",
              "      <th>321</th>\n",
              "      <td>Yes</td>\n",
              "      <td>NaN</td>\n",
              "    </tr>\n",
              "    <tr>\n",
              "      <th>355</th>\n",
              "      <td>Yes</td>\n",
              "      <td>NaN</td>\n",
              "    </tr>\n",
              "    <tr>\n",
              "      <th>404</th>\n",
              "      <td>Yes</td>\n",
              "      <td>NaN</td>\n",
              "    </tr>\n",
              "    <tr>\n",
              "      <th>425</th>\n",
              "      <td>Yes</td>\n",
              "      <td>NaN</td>\n",
              "    </tr>\n",
              "    <tr>\n",
              "      <th>...</th>\n",
              "      <td>...</td>\n",
              "      <td>...</td>\n",
              "    </tr>\n",
              "    <tr>\n",
              "      <th>376577</th>\n",
              "      <td>Yes</td>\n",
              "      <td>NaN</td>\n",
              "    </tr>\n",
              "    <tr>\n",
              "      <th>376636</th>\n",
              "      <td>Yes</td>\n",
              "      <td>NaN</td>\n",
              "    </tr>\n",
              "    <tr>\n",
              "      <th>376644</th>\n",
              "      <td>Yes</td>\n",
              "      <td>NaN</td>\n",
              "    </tr>\n",
              "    <tr>\n",
              "      <th>376803</th>\n",
              "      <td>Yes</td>\n",
              "      <td>NaN</td>\n",
              "    </tr>\n",
              "    <tr>\n",
              "      <th>377062</th>\n",
              "      <td>Yes</td>\n",
              "      <td>NaN</td>\n",
              "    </tr>\n",
              "  </tbody>\n",
              "</table>\n",
              "<p>4181 rows × 2 columns</p>\n",
              "</div>"
            ],
            "text/plain": [
              "       private pool PrivatePool\n",
              "205             Yes         NaN\n",
              "321             Yes         NaN\n",
              "355             Yes         NaN\n",
              "404             Yes         NaN\n",
              "425             Yes         NaN\n",
              "...             ...         ...\n",
              "376577          Yes         NaN\n",
              "376636          Yes         NaN\n",
              "376644          Yes         NaN\n",
              "376803          Yes         NaN\n",
              "377062          Yes         NaN\n",
              "\n",
              "[4181 rows x 2 columns]"
            ]
          },
          "execution_count": 16,
          "metadata": {},
          "output_type": "execute_result"
        }
      ],
      "source": [
        "# Выведем строки, заполненные в колонке 'private pool' и отсутствующие в колонке 'PrivatePool'\n",
        "df_pool[df_pool['private pool'].notnull() & df_pool['PrivatePool'].isnull()]"
      ]
    },
    {
      "cell_type": "code",
      "execution_count": null,
      "id": "4b5f05fd-cfac-45ef-be7e-51d441531881",
      "metadata": {
        "id": "4b5f05fd-cfac-45ef-be7e-51d441531881",
        "outputId": "840ab112-bec5-4d63-a3e7-8af63d327389"
      },
      "outputs": [
        {
          "data": {
            "text/html": [
              "<div>\n",
              "<style scoped>\n",
              "    .dataframe tbody tr th:only-of-type {\n",
              "        vertical-align: middle;\n",
              "    }\n",
              "\n",
              "    .dataframe tbody tr th {\n",
              "        vertical-align: top;\n",
              "    }\n",
              "\n",
              "    .dataframe thead th {\n",
              "        text-align: right;\n",
              "    }\n",
              "</style>\n",
              "<table border=\"1\" class=\"dataframe\">\n",
              "  <thead>\n",
              "    <tr style=\"text-align: right;\">\n",
              "      <th></th>\n",
              "      <th>private pool</th>\n",
              "      <th>PrivatePool</th>\n",
              "    </tr>\n",
              "  </thead>\n",
              "  <tbody>\n",
              "    <tr>\n",
              "      <th>2</th>\n",
              "      <td>NaN</td>\n",
              "      <td>yes</td>\n",
              "    </tr>\n",
              "    <tr>\n",
              "      <th>12</th>\n",
              "      <td>NaN</td>\n",
              "      <td>yes</td>\n",
              "    </tr>\n",
              "    <tr>\n",
              "      <th>19</th>\n",
              "      <td>NaN</td>\n",
              "      <td>yes</td>\n",
              "    </tr>\n",
              "    <tr>\n",
              "      <th>43</th>\n",
              "      <td>NaN</td>\n",
              "      <td>yes</td>\n",
              "    </tr>\n",
              "    <tr>\n",
              "      <th>60</th>\n",
              "      <td>NaN</td>\n",
              "      <td>Yes</td>\n",
              "    </tr>\n",
              "    <tr>\n",
              "      <th>...</th>\n",
              "      <td>...</td>\n",
              "      <td>...</td>\n",
              "    </tr>\n",
              "    <tr>\n",
              "      <th>377118</th>\n",
              "      <td>NaN</td>\n",
              "      <td>yes</td>\n",
              "    </tr>\n",
              "    <tr>\n",
              "      <th>377120</th>\n",
              "      <td>NaN</td>\n",
              "      <td>Yes</td>\n",
              "    </tr>\n",
              "    <tr>\n",
              "      <th>377121</th>\n",
              "      <td>NaN</td>\n",
              "      <td>yes</td>\n",
              "    </tr>\n",
              "    <tr>\n",
              "      <th>377124</th>\n",
              "      <td>NaN</td>\n",
              "      <td>yes</td>\n",
              "    </tr>\n",
              "    <tr>\n",
              "      <th>377130</th>\n",
              "      <td>NaN</td>\n",
              "      <td>Yes</td>\n",
              "    </tr>\n",
              "  </tbody>\n",
              "</table>\n",
              "<p>40310 rows × 2 columns</p>\n",
              "</div>"
            ],
            "text/plain": [
              "       private pool PrivatePool\n",
              "2               NaN         yes\n",
              "12              NaN         yes\n",
              "19              NaN         yes\n",
              "43              NaN         yes\n",
              "60              NaN         Yes\n",
              "...             ...         ...\n",
              "377118          NaN         yes\n",
              "377120          NaN         Yes\n",
              "377121          NaN         yes\n",
              "377124          NaN         yes\n",
              "377130          NaN         Yes\n",
              "\n",
              "[40310 rows x 2 columns]"
            ]
          },
          "execution_count": 17,
          "metadata": {},
          "output_type": "execute_result"
        }
      ],
      "source": [
        "df_pool[df['PrivatePool'].notnull() & df_pool['private pool'].isnull()]"
      ]
    },
    {
      "cell_type": "markdown",
      "id": "b83fd76d-ae51-4f46-818a-57bac247ceca",
      "metadata": {
        "id": "b83fd76d-ae51-4f46-818a-57bac247ceca"
      },
      "source": [
        "Судя по всему значения не пересекаются"
      ]
    },
    {
      "cell_type": "code",
      "execution_count": null,
      "id": "1e684943-7107-4699-a482-883aa55eba09",
      "metadata": {
        "id": "1e684943-7107-4699-a482-883aa55eba09",
        "outputId": "2e3e4d6e-2c73-4f8e-8daa-65fab602bb98"
      },
      "outputs": [
        {
          "data": {
            "text/plain": [
              "91"
            ]
          },
          "execution_count": 18,
          "metadata": {},
          "output_type": "execute_result"
        }
      ],
      "source": [
        "df.drop(['PrivatePool', 'private pool'], axis=1).duplicated().sum()#дублирующие строки без указанных колонок для возможного анализа смысла колонок"
      ]
    },
    {
      "cell_type": "code",
      "execution_count": null,
      "id": "e7a8f362-ad0b-4ccf-9ae4-65dbe6091402",
      "metadata": {
        "id": "e7a8f362-ad0b-4ccf-9ae4-65dbe6091402",
        "outputId": "e1ddf0e0-fad7-4d5a-ebee-dddfc0b223a7"
      },
      "outputs": [
        {
          "data": {
            "text/html": [
              "<div>\n",
              "<style scoped>\n",
              "    .dataframe tbody tr th:only-of-type {\n",
              "        vertical-align: middle;\n",
              "    }\n",
              "\n",
              "    .dataframe tbody tr th {\n",
              "        vertical-align: top;\n",
              "    }\n",
              "\n",
              "    .dataframe thead th {\n",
              "        text-align: right;\n",
              "    }\n",
              "</style>\n",
              "<table border=\"1\" class=\"dataframe\">\n",
              "  <thead>\n",
              "    <tr style=\"text-align: right;\">\n",
              "      <th></th>\n",
              "      <th>status</th>\n",
              "      <th>private pool</th>\n",
              "      <th>propertyType</th>\n",
              "      <th>street</th>\n",
              "      <th>baths</th>\n",
              "      <th>homeFacts</th>\n",
              "      <th>fireplace</th>\n",
              "      <th>city</th>\n",
              "      <th>schools</th>\n",
              "      <th>sqft</th>\n",
              "      <th>zipcode</th>\n",
              "      <th>beds</th>\n",
              "      <th>state</th>\n",
              "      <th>stories</th>\n",
              "      <th>PrivatePool</th>\n",
              "      <th>target</th>\n",
              "    </tr>\n",
              "  </thead>\n",
              "  <tbody>\n",
              "  </tbody>\n",
              "</table>\n",
              "</div>"
            ],
            "text/plain": [
              "Empty DataFrame\n",
              "Columns: [status, private pool, propertyType, street, baths, homeFacts, fireplace, city, schools, sqft, zipcode, beds, state, stories, PrivatePool, target]\n",
              "Index: []"
            ]
          },
          "execution_count": 19,
          "metadata": {},
          "output_type": "execute_result"
        }
      ],
      "source": [
        "df_dup=df[df.drop(['PrivatePool', 'private pool'], axis=1).duplicated()]\n",
        "df_dup[(df_dup['PrivatePool'].notnull()) | (df_dup['private pool'].notnull())]\n",
        "#все дубли содержат Nan в требуемых колонках"
      ]
    },
    {
      "cell_type": "markdown",
      "id": "e7e3004a-885a-4d72-82ac-abd9a0a0bd09",
      "metadata": {
        "id": "e7e3004a-885a-4d72-82ac-abd9a0a0bd09"
      },
      "source": [
        "Оценить на примере одного дома, как изменяется стоимость в зависимости от колонки не получится, тогда просто объеденим значения в колонках"
      ]
    },
    {
      "cell_type": "markdown",
      "id": "9f6316eb-7e0a-457a-9918-d19e9d819808",
      "metadata": {
        "id": "9f6316eb-7e0a-457a-9918-d19e9d819808"
      },
      "source": [
        "Объеденим значения колонок, заменим на логические выражения true/false"
      ]
    },
    {
      "cell_type": "code",
      "execution_count": null,
      "id": "447bb6cb-e426-4a5b-ae7b-3d1df2c0b3de",
      "metadata": {
        "id": "447bb6cb-e426-4a5b-ae7b-3d1df2c0b3de",
        "outputId": "e607736d-9ad9-415d-9650-5c4d5727e2bb"
      },
      "outputs": [
        {
          "data": {
            "text/plain": [
              "PrivatePool\n",
              "False    332644\n",
              "True      44491\n",
              "Name: count, dtype: int64"
            ]
          },
          "execution_count": 20,
          "metadata": {},
          "output_type": "execute_result"
        }
      ],
      "source": [
        "df['PrivatePool'] = df['private pool'].fillna(df['PrivatePool'])\n",
        "df['PrivatePool'] = df['PrivatePool'].fillna(False)\n",
        "df['PrivatePool'] = df['PrivatePool'].astype(bool)\n",
        "df.drop('private pool', axis=1, inplace=True)\n",
        "df['PrivatePool'].value_counts()"
      ]
    },
    {
      "cell_type": "markdown",
      "id": "31ab8d67-3935-4521-b151-61acbee836fb",
      "metadata": {
        "id": "31ab8d67-3935-4521-b151-61acbee836fb"
      },
      "source": [
        "Мы можем закодировать всё под bool, тогда False будут принимать все пустые значения, а этих значений у нас преобладающее количество, учтём этот момент, и оценим качество модели в дальнейшем"
      ]
    },
    {
      "cell_type": "markdown",
      "id": "b1e3264c-4ad8-46d6-be73-2439a84a6fdb",
      "metadata": {
        "id": "b1e3264c-4ad8-46d6-be73-2439a84a6fdb"
      },
      "source": [
        "Продолжим анализировать столбцы"
      ]
    },
    {
      "cell_type": "markdown",
      "id": "c376ac99-d140-4a69-b9f8-a803ff70d593",
      "metadata": {
        "id": "c376ac99-d140-4a69-b9f8-a803ff70d593"
      },
      "source": [
        "<h4>3.'target'</h4>"
      ]
    },
    {
      "cell_type": "code",
      "execution_count": null,
      "id": "85c0677b-edbb-43fd-bfc8-02dab907c804",
      "metadata": {
        "id": "85c0677b-edbb-43fd-bfc8-02dab907c804",
        "outputId": "864749a4-7fe6-43a7-b795-e25d5c890d16"
      },
      "outputs": [
        {
          "data": {
            "text/plain": [
              "target\n",
              "$225,000     1462\n",
              "$275,000     1355\n",
              "$250,000     1312\n",
              "$350,000     1296\n",
              "$299,900     1276\n",
              "             ... \n",
              "274,359         1\n",
              "$273,490+       1\n",
              "$645,000+       1\n",
              "$28,272         1\n",
              "$171,306        1\n",
              "Name: count, Length: 43939, dtype: int64"
            ]
          },
          "execution_count": 21,
          "metadata": {},
          "output_type": "execute_result"
        }
      ],
      "source": [
        "df['target'].value_counts()"
      ]
    },
    {
      "cell_type": "code",
      "execution_count": null,
      "id": "a869de1f-d63d-4526-b1ea-512ad8c0f8c4",
      "metadata": {
        "id": "a869de1f-d63d-4526-b1ea-512ad8c0f8c4",
        "outputId": "7e1e3271-8aa9-42e6-838f-1cc7ab96411a"
      },
      "outputs": [
        {
          "data": {
            "text/plain": [
              "array(['$418,000', '$310,000', '$2,895,000', ..., '$815,881', '342,969',\n",
              "       '$171,306'], dtype=object)"
            ]
          },
          "execution_count": 22,
          "metadata": {},
          "output_type": "execute_result"
        }
      ],
      "source": [
        "df.target.unique()"
      ]
    },
    {
      "cell_type": "code",
      "execution_count": null,
      "id": "76a5c700-b7ef-4e48-95bc-919f23919c91",
      "metadata": {
        "id": "76a5c700-b7ef-4e48-95bc-919f23919c91",
        "outputId": "5254985a-05b6-4805-a9fb-9f06ab44b535"
      },
      "outputs": [
        {
          "name": "stdout",
          "output_type": "stream",
          "text": [
            "2480\n"
          ]
        }
      ],
      "source": [
        "#Удалим строки с пустым таргетом\n",
        "print(df['target'].isnull().sum())\n",
        "df = df[df['target'].notnull()]"
      ]
    },
    {
      "cell_type": "code",
      "execution_count": null,
      "id": "41efed23-3eaa-42df-8ab1-017cfbf433f5",
      "metadata": {
        "id": "41efed23-3eaa-42df-8ab1-017cfbf433f5",
        "outputId": "937d50a9-e6bd-4f55-e9f8-253a5afdb794"
      },
      "outputs": [
        {
          "data": {
            "text/plain": [
              "array(['for rent'], dtype=object)"
            ]
          },
          "execution_count": 24,
          "metadata": {},
          "output_type": "execute_result"
        }
      ],
      "source": [
        "df[df.target.str.contains('/mo',regex=True)].status.unique() #просто подтверждение гипотезы о наличии арендной платы значений с '/mo'"
      ]
    },
    {
      "cell_type": "markdown",
      "id": "7fd588db-6749-4edb-9b5d-0a87fae85509",
      "metadata": {
        "id": "7fd588db-6749-4edb-9b5d-0a87fae85509"
      },
      "source": [
        "Преобразуем тип данных"
      ]
    },
    {
      "cell_type": "code",
      "execution_count": null,
      "id": "5058f2cf-789b-4bac-9b2c-2dd4ed7fd44c",
      "metadata": {
        "id": "5058f2cf-789b-4bac-9b2c-2dd4ed7fd44c"
      },
      "outputs": [],
      "source": [
        "df['target'] = df['target'].str.replace('[^0-9]','',regex=True) #исключаем все символы, кроме цифр"
      ]
    },
    {
      "cell_type": "code",
      "execution_count": null,
      "id": "1958ec26-c7ba-4eb7-936f-8aad34ad788c",
      "metadata": {
        "id": "1958ec26-c7ba-4eb7-936f-8aad34ad788c",
        "outputId": "55b4defb-a4c0-42bd-fc15-e112c8f4fa63"
      },
      "outputs": [
        {
          "name": "stdout",
          "output_type": "stream",
          "text": [
            "0\n"
          ]
        }
      ],
      "source": [
        "print(len(df[df['target'] == ''])) #исключаем значения '', если они есть\n",
        "df=df[df['target'] != '']"
      ]
    },
    {
      "cell_type": "code",
      "execution_count": null,
      "id": "8e7dc7c1-005c-4bea-9b9f-7ce7e5746aeb",
      "metadata": {
        "id": "8e7dc7c1-005c-4bea-9b9f-7ce7e5746aeb"
      },
      "outputs": [],
      "source": [
        "df['target']=df['target'].astype(int) #преобразуем тип в int"
      ]
    },
    {
      "cell_type": "markdown",
      "id": "41cbc114-39e6-401d-84f8-d3f00598bc9e",
      "metadata": {
        "id": "41cbc114-39e6-401d-84f8-d3f00598bc9e"
      },
      "source": [
        "Аналогично рассмотрим дубликаты, при которых одинаковые параметры будут выдавать разную стоимость, потому что очевидно это будет проблемой при обучении модели"
      ]
    },
    {
      "cell_type": "code",
      "execution_count": null,
      "id": "0a39f98e-ca4c-4f49-be43-d6d61ae9c50e",
      "metadata": {
        "id": "0a39f98e-ca4c-4f49-be43-d6d61ae9c50e",
        "outputId": "fdd07b52-98a0-4592-97b5-c419cbc3ba45"
      },
      "outputs": [
        {
          "data": {
            "text/plain": [
              "129"
            ]
          },
          "execution_count": 28,
          "metadata": {},
          "output_type": "execute_result"
        }
      ],
      "source": [
        "df.drop('target',axis=1).duplicated().sum()"
      ]
    },
    {
      "cell_type": "code",
      "execution_count": null,
      "id": "c3094146-4199-4bdc-8ba6-c89a47463d45",
      "metadata": {
        "id": "c3094146-4199-4bdc-8ba6-c89a47463d45",
        "outputId": "c32e7d7a-a0e8-416e-a4a2-b455212b0cbc"
      },
      "outputs": [
        {
          "data": {
            "text/html": [
              "<div>\n",
              "<style scoped>\n",
              "    .dataframe tbody tr th:only-of-type {\n",
              "        vertical-align: middle;\n",
              "    }\n",
              "\n",
              "    .dataframe tbody tr th {\n",
              "        vertical-align: top;\n",
              "    }\n",
              "\n",
              "    .dataframe thead th {\n",
              "        text-align: right;\n",
              "    }\n",
              "</style>\n",
              "<table border=\"1\" class=\"dataframe\">\n",
              "  <thead>\n",
              "    <tr style=\"text-align: right;\">\n",
              "      <th></th>\n",
              "      <th>status</th>\n",
              "      <th>propertyType</th>\n",
              "      <th>street</th>\n",
              "      <th>baths</th>\n",
              "      <th>homeFacts</th>\n",
              "      <th>fireplace</th>\n",
              "      <th>city</th>\n",
              "      <th>schools</th>\n",
              "      <th>sqft</th>\n",
              "      <th>zipcode</th>\n",
              "      <th>beds</th>\n",
              "      <th>state</th>\n",
              "      <th>stories</th>\n",
              "      <th>PrivatePool</th>\n",
              "      <th>target</th>\n",
              "    </tr>\n",
              "  </thead>\n",
              "  <tbody>\n",
              "    <tr>\n",
              "      <th>223468</th>\n",
              "      <td>for sale</td>\n",
              "      <td>lot/land</td>\n",
              "      <td>1385 Dekalb Ave</td>\n",
              "      <td>NaN</td>\n",
              "      <td>{'atAGlanceFacts': [{'factValue': '', 'factLab...</td>\n",
              "      <td>NaN</td>\n",
              "      <td>Brooklyn</td>\n",
              "      <td>[{'rating': ['5/10'], 'data': {'Distance': ['0...</td>\n",
              "      <td>NaN</td>\n",
              "      <td>11221</td>\n",
              "      <td>NaN</td>\n",
              "      <td>NY</td>\n",
              "      <td>NaN</td>\n",
              "      <td>False</td>\n",
              "      <td>599000</td>\n",
              "    </tr>\n",
              "    <tr>\n",
              "      <th>4901</th>\n",
              "      <td>for sale</td>\n",
              "      <td>lot/land</td>\n",
              "      <td>1385 Dekalb Ave</td>\n",
              "      <td>NaN</td>\n",
              "      <td>{'atAGlanceFacts': [{'factValue': '', 'factLab...</td>\n",
              "      <td>NaN</td>\n",
              "      <td>Brooklyn</td>\n",
              "      <td>[{'rating': ['5/10'], 'data': {'Distance': ['0...</td>\n",
              "      <td>NaN</td>\n",
              "      <td>11221</td>\n",
              "      <td>NaN</td>\n",
              "      <td>NY</td>\n",
              "      <td>NaN</td>\n",
              "      <td>False</td>\n",
              "      <td>599000</td>\n",
              "    </tr>\n",
              "    <tr>\n",
              "      <th>307215</th>\n",
              "      <td>Active</td>\n",
              "      <td>Single Family Home</td>\n",
              "      <td>503 Halliard Lane</td>\n",
              "      <td>3.5</td>\n",
              "      <td>{'atAGlanceFacts': [{'factValue': '', 'factLab...</td>\n",
              "      <td>NaN</td>\n",
              "      <td>National Harbor</td>\n",
              "      <td>[{'rating': ['3', '3', '5', '3', '6', '3', 'NR...</td>\n",
              "      <td>2,586</td>\n",
              "      <td>20745</td>\n",
              "      <td>3.0</td>\n",
              "      <td>MD</td>\n",
              "      <td>NaN</td>\n",
              "      <td>False</td>\n",
              "      <td>642990</td>\n",
              "    </tr>\n",
              "    <tr>\n",
              "      <th>17714</th>\n",
              "      <td>Active</td>\n",
              "      <td>Single Family Home</td>\n",
              "      <td>503 Halliard Lane</td>\n",
              "      <td>3.5</td>\n",
              "      <td>{'atAGlanceFacts': [{'factValue': '', 'factLab...</td>\n",
              "      <td>NaN</td>\n",
              "      <td>National Harbor</td>\n",
              "      <td>[{'rating': ['3', '3', '5', '3', '6', '3', 'NR...</td>\n",
              "      <td>2,586</td>\n",
              "      <td>20745</td>\n",
              "      <td>3.0</td>\n",
              "      <td>MD</td>\n",
              "      <td>NaN</td>\n",
              "      <td>False</td>\n",
              "      <td>642990</td>\n",
              "    </tr>\n",
              "    <tr>\n",
              "      <th>365550</th>\n",
              "      <td>for sale</td>\n",
              "      <td>lot/land</td>\n",
              "      <td>Stancil Farm Rd</td>\n",
              "      <td>NaN</td>\n",
              "      <td>{'atAGlanceFacts': [{'factValue': '', 'factLab...</td>\n",
              "      <td>NaN</td>\n",
              "      <td>Raleigh</td>\n",
              "      <td>[{'rating': ['3/10'], 'data': {'Distance': ['6...</td>\n",
              "      <td>NaN</td>\n",
              "      <td>27603</td>\n",
              "      <td>NaN</td>\n",
              "      <td>NC</td>\n",
              "      <td>NaN</td>\n",
              "      <td>False</td>\n",
              "      <td>650000</td>\n",
              "    </tr>\n",
              "  </tbody>\n",
              "</table>\n",
              "</div>"
            ],
            "text/plain": [
              "          status        propertyType             street baths  \\\n",
              "223468  for sale            lot/land    1385 Dekalb Ave   NaN   \n",
              "4901    for sale            lot/land    1385 Dekalb Ave   NaN   \n",
              "307215    Active  Single Family Home  503 Halliard Lane   3.5   \n",
              "17714     Active  Single Family Home  503 Halliard Lane   3.5   \n",
              "365550  for sale            lot/land    Stancil Farm Rd   NaN   \n",
              "\n",
              "                                                homeFacts fireplace  \\\n",
              "223468  {'atAGlanceFacts': [{'factValue': '', 'factLab...       NaN   \n",
              "4901    {'atAGlanceFacts': [{'factValue': '', 'factLab...       NaN   \n",
              "307215  {'atAGlanceFacts': [{'factValue': '', 'factLab...       NaN   \n",
              "17714   {'atAGlanceFacts': [{'factValue': '', 'factLab...       NaN   \n",
              "365550  {'atAGlanceFacts': [{'factValue': '', 'factLab...       NaN   \n",
              "\n",
              "                   city                                            schools  \\\n",
              "223468         Brooklyn  [{'rating': ['5/10'], 'data': {'Distance': ['0...   \n",
              "4901           Brooklyn  [{'rating': ['5/10'], 'data': {'Distance': ['0...   \n",
              "307215  National Harbor  [{'rating': ['3', '3', '5', '3', '6', '3', 'NR...   \n",
              "17714   National Harbor  [{'rating': ['3', '3', '5', '3', '6', '3', 'NR...   \n",
              "365550          Raleigh  [{'rating': ['3/10'], 'data': {'Distance': ['6...   \n",
              "\n",
              "         sqft zipcode beds state stories  PrivatePool  target  \n",
              "223468    NaN   11221  NaN    NY     NaN        False  599000  \n",
              "4901      NaN   11221  NaN    NY     NaN        False  599000  \n",
              "307215  2,586   20745  3.0    MD     NaN        False  642990  \n",
              "17714   2,586   20745  3.0    MD     NaN        False  642990  \n",
              "365550    NaN   27603  NaN    NC     NaN        False  650000  "
            ]
          },
          "execution_count": 29,
          "metadata": {},
          "output_type": "execute_result"
        }
      ],
      "source": [
        "df[df.drop('target',axis=1).duplicated(keep=False)].sort_values(by='zipcode').head()"
      ]
    },
    {
      "cell_type": "code",
      "execution_count": null,
      "id": "fe506a4d-bf41-40d8-8d58-d1d6abc323b6",
      "metadata": {
        "id": "fe506a4d-bf41-40d8-8d58-d1d6abc323b6"
      },
      "outputs": [],
      "source": [
        "df = df.drop_duplicates(subset=df.columns.difference(['target']), keep='last') #оставим только последние данные в таблице"
      ]
    },
    {
      "cell_type": "markdown",
      "id": "cc3cf069-8fcd-43f2-9fd8-8f654a966399",
      "metadata": {
        "id": "cc3cf069-8fcd-43f2-9fd8-8f654a966399"
      },
      "source": [
        "<h4>4.sqft</h4>"
      ]
    },
    {
      "cell_type": "code",
      "execution_count": null,
      "id": "b479d2ee-f958-4c24-bfed-102892211a85",
      "metadata": {
        "id": "b479d2ee-f958-4c24-bfed-102892211a85"
      },
      "outputs": [],
      "source": [
        "df_sqft=df"
      ]
    },
    {
      "cell_type": "code",
      "execution_count": null,
      "id": "ff87beb0-0717-4e72-8dd4-1ba80f4d7e0c",
      "metadata": {
        "id": "ff87beb0-0717-4e72-8dd4-1ba80f4d7e0c",
        "outputId": "a1aa7483-50d2-4984-bd04-659fc9c4ce87"
      },
      "outputs": [
        {
          "data": {
            "text/html": [
              "<div>\n",
              "<style scoped>\n",
              "    .dataframe tbody tr th:only-of-type {\n",
              "        vertical-align: middle;\n",
              "    }\n",
              "\n",
              "    .dataframe tbody tr th {\n",
              "        vertical-align: top;\n",
              "    }\n",
              "\n",
              "    .dataframe thead th {\n",
              "        text-align: right;\n",
              "    }\n",
              "</style>\n",
              "<table border=\"1\" class=\"dataframe\">\n",
              "  <thead>\n",
              "    <tr style=\"text-align: right;\">\n",
              "      <th></th>\n",
              "      <th>status</th>\n",
              "      <th>propertyType</th>\n",
              "      <th>street</th>\n",
              "      <th>baths</th>\n",
              "      <th>homeFacts</th>\n",
              "      <th>fireplace</th>\n",
              "      <th>city</th>\n",
              "      <th>schools</th>\n",
              "      <th>sqft</th>\n",
              "      <th>zipcode</th>\n",
              "      <th>beds</th>\n",
              "      <th>state</th>\n",
              "      <th>stories</th>\n",
              "      <th>PrivatePool</th>\n",
              "      <th>target</th>\n",
              "    </tr>\n",
              "  </thead>\n",
              "  <tbody>\n",
              "  </tbody>\n",
              "</table>\n",
              "</div>"
            ],
            "text/plain": [
              "Empty DataFrame\n",
              "Columns: [status, propertyType, street, baths, homeFacts, fireplace, city, schools, sqft, zipcode, beds, state, stories, PrivatePool, target]\n",
              "Index: []"
            ]
          },
          "execution_count": 32,
          "metadata": {},
          "output_type": "execute_result"
        }
      ],
      "source": [
        "df[df['sqft'].str.contains(r'^(?!.*sqft)[\\d\\W]*acr', na=False, regex=True)] #проверка на sqft"
      ]
    },
    {
      "cell_type": "code",
      "execution_count": null,
      "id": "985cdb8d-dd2e-49cc-b6c5-0db4c4bfaea1",
      "metadata": {
        "id": "985cdb8d-dd2e-49cc-b6c5-0db4c4bfaea1",
        "outputId": "f4ed1124-a3d1-4f08-f44e-154324272a0c"
      },
      "outputs": [
        {
          "data": {
            "text/plain": [
              "sqft\n",
              "0                                          11800\n",
              "1,200 sqft                                   829\n",
              "1,000 sqft                                   648\n",
              "1,100 sqft                                   570\n",
              "1,800 sqft                                   562\n",
              "                                           ...  \n",
              "Total interior livable area: 5,190 sqft        1\n",
              "Total interior livable area: 5,150 sqft        1\n",
              "12,160 sqft                                    1\n",
              "18,400 sqft                                    1\n",
              "Total interior livable area: 4,615 sqft        1\n",
              "Name: count, Length: 25373, dtype: int64"
            ]
          },
          "execution_count": 33,
          "metadata": {},
          "output_type": "execute_result"
        }
      ],
      "source": [
        "df['sqft'].value_counts()"
      ]
    },
    {
      "cell_type": "markdown",
      "id": "7b341943-3a62-4d91-a403-3482dcfa8635",
      "metadata": {
        "id": "7b341943-3a62-4d91-a403-3482dcfa8635"
      },
      "source": [
        "Сначала поглядим на значение 0"
      ]
    },
    {
      "cell_type": "code",
      "execution_count": null,
      "id": "fc76b23c-0f18-43a4-b75b-a816ce520b6a",
      "metadata": {
        "id": "fc76b23c-0f18-43a4-b75b-a816ce520b6a",
        "outputId": "5023c64c-af7b-458f-cc92-c42eb1debd1d"
      },
      "outputs": [
        {
          "data": {
            "text/plain": [
              "array(['Land', 'Condo/Townhome/Row Home/Co-Op', 'Farms/Ranches',\n",
              "       'Single Family Home', 'Other', 'Multi-Family Home',\n",
              "       'Mfd/Mobile Home'], dtype=object)"
            ]
          },
          "execution_count": 34,
          "metadata": {},
          "output_type": "execute_result"
        }
      ],
      "source": [
        "df[df.sqft=='0'].propertyType.unique() #связи не вижу"
      ]
    },
    {
      "cell_type": "code",
      "execution_count": null,
      "id": "71dec9c7-7965-49be-9c64-ae71471e500c",
      "metadata": {
        "id": "71dec9c7-7965-49be-9c64-ae71471e500c"
      },
      "outputs": [],
      "source": [
        "df.loc[df.sqft=='0', 'sqft']=np.nan"
      ]
    },
    {
      "cell_type": "code",
      "execution_count": null,
      "id": "2654e605-d068-4fd0-8d72-6ebfe9790b21",
      "metadata": {
        "id": "2654e605-d068-4fd0-8d72-6ebfe9790b21"
      },
      "outputs": [],
      "source": [
        "df['sqft'] = df['sqft'].str.replace('[^0-9]','',regex=True)"
      ]
    },
    {
      "cell_type": "code",
      "execution_count": null,
      "id": "e94ad14a-7463-42a7-a54d-281b83079908",
      "metadata": {
        "id": "e94ad14a-7463-42a7-a54d-281b83079908",
        "outputId": "3a577a4e-4b25-4b88-ff00-5837ab4d6e6a"
      },
      "outputs": [
        {
          "name": "stdout",
          "output_type": "stream",
          "text": [
            "810\n"
          ]
        }
      ],
      "source": [
        "print(len(df[df['sqft'] == '']))\n",
        "df['sqft']=df['sqft'].replace('', np.nan)"
      ]
    },
    {
      "cell_type": "code",
      "execution_count": null,
      "id": "b964c318-6cc3-4014-bad6-ff1dac2b755d",
      "metadata": {
        "id": "b964c318-6cc3-4014-bad6-ff1dac2b755d",
        "outputId": "fa424c94-38a2-460a-e200-faf0b39b3dce"
      },
      "outputs": [
        {
          "data": {
            "text/plain": [
              "52680"
            ]
          },
          "execution_count": 38,
          "metadata": {},
          "output_type": "execute_result"
        }
      ],
      "source": [
        "df.sqft.isnull().sum() #оценим количество пустых значений"
      ]
    },
    {
      "cell_type": "code",
      "execution_count": null,
      "id": "e5ed5788-881e-4ef1-ad9e-5c29662ab0cf",
      "metadata": {
        "id": "e5ed5788-881e-4ef1-ad9e-5c29662ab0cf"
      },
      "outputs": [],
      "source": [
        "df['sqft']=df['sqft'].astype('Int64') #преобразуем в Int64"
      ]
    },
    {
      "cell_type": "code",
      "execution_count": null,
      "id": "64285dac-bd6f-4033-a2cb-3e2f78785e8a",
      "metadata": {
        "id": "64285dac-bd6f-4033-a2cb-3e2f78785e8a",
        "outputId": "97a3419c-5713-4b3f-f9ce-d6f9c67c1878"
      },
      "outputs": [
        {
          "data": {
            "text/plain": [
              "62732     795979430\n",
              "376479    456602479\n",
              "74211       7078574\n",
              "142138      5728968\n",
              "52213       4356000\n",
              "187378      4356000\n",
              "232308      2807917\n",
              "354842      2807917\n",
              "233845      2613600\n",
              "37391       2585006\n",
              "Name: sqft, dtype: Int64"
            ]
          },
          "execution_count": 40,
          "metadata": {},
          "output_type": "execute_result"
        }
      ],
      "source": [
        "df['sqft'].nlargest(10)"
      ]
    },
    {
      "cell_type": "code",
      "execution_count": null,
      "id": "fc5b166b-76ad-45b8-aa81-277116ffb419",
      "metadata": {
        "id": "fc5b166b-76ad-45b8-aa81-277116ffb419"
      },
      "outputs": [],
      "source": [
        "df.loc[df['sqft']>1000000, 'sqft']=np.nan #оставим только такие, занулим 21 значение, чтобы избежать больших выбросов"
      ]
    },
    {
      "cell_type": "code",
      "execution_count": null,
      "id": "4def69b9-d47c-4079-b232-898f28fdb466",
      "metadata": {
        "id": "4def69b9-d47c-4079-b232-898f28fdb466",
        "outputId": "296cdab7-12e8-493f-f7a3-98a3a3dc2ecf"
      },
      "outputs": [
        {
          "data": {
            "text/plain": [
              "564      1\n",
              "3763     1\n",
              "5961     1\n",
              "16440    1\n",
              "18537    1\n",
              "Name: sqft, dtype: Int64"
            ]
          },
          "execution_count": 42,
          "metadata": {},
          "output_type": "execute_result"
        }
      ],
      "source": [
        "df['sqft'].nsmallest()"
      ]
    },
    {
      "cell_type": "code",
      "execution_count": null,
      "id": "32d75b35-80bf-4008-97a4-d358b1112c58",
      "metadata": {
        "id": "32d75b35-80bf-4008-97a4-d358b1112c58",
        "outputId": "cbe2817d-91a7-4119-f3a4-406928b417df"
      },
      "outputs": [
        {
          "data": {
            "text/plain": [
              "564             Single Family\n",
              "3763            Single Family\n",
              "5881      mobile/manufactured\n",
              "5961                 lot/land\n",
              "9261                 lot/land\n",
              "                 ...         \n",
              "372351           multi-family\n",
              "373407     single-family home\n",
              "374203           multi-family\n",
              "375085          Single Family\n",
              "375447          Single Family\n",
              "Name: propertyType, Length: 164, dtype: object"
            ]
          },
          "execution_count": 43,
          "metadata": {},
          "output_type": "execute_result"
        }
      ],
      "source": [
        "df[df['sqft']<150].propertyType #значения никак не поясняются"
      ]
    },
    {
      "cell_type": "code",
      "execution_count": null,
      "id": "f6a1397a-b0dd-4025-b22a-b6ff130bd464",
      "metadata": {
        "id": "f6a1397a-b0dd-4025-b22a-b6ff130bd464"
      },
      "outputs": [],
      "source": [
        "df.loc[df['sqft']<150, 'sqft']=np.nan"
      ]
    },
    {
      "cell_type": "markdown",
      "id": "0a923c39-df51-4362-b4b7-7f2e8dc672d4",
      "metadata": {
        "id": "0a923c39-df51-4362-b4b7-7f2e8dc672d4"
      },
      "source": [
        "Проверка дубликатов"
      ]
    },
    {
      "cell_type": "code",
      "execution_count": null,
      "id": "c9478afb-f981-49f9-88b0-c4afb6f640a8",
      "metadata": {
        "id": "c9478afb-f981-49f9-88b0-c4afb6f640a8",
        "outputId": "69cfc3a0-10b4-49f6-d57d-17d2b9709b04"
      },
      "outputs": [
        {
          "data": {
            "text/plain": [
              "7"
            ]
          },
          "execution_count": 45,
          "metadata": {},
          "output_type": "execute_result"
        }
      ],
      "source": [
        "df.drop('sqft',axis=1).duplicated().sum() #большое количество дублей"
      ]
    },
    {
      "cell_type": "code",
      "execution_count": null,
      "id": "6adc040d-e8c5-4973-a0a3-f3554bcfd60c",
      "metadata": {
        "id": "6adc040d-e8c5-4973-a0a3-f3554bcfd60c"
      },
      "outputs": [],
      "source": [
        "df = df.drop_duplicates(subset=df.columns.difference(['sqft']), keep='last')"
      ]
    },
    {
      "cell_type": "markdown",
      "id": "0681ae1d-c019-47a5-a96b-a5dd21b8a94d",
      "metadata": {
        "id": "0681ae1d-c019-47a5-a96b-a5dd21b8a94d"
      },
      "source": [
        "<h4>5.'stories'</h4>"
      ]
    },
    {
      "cell_type": "code",
      "execution_count": null,
      "id": "243a1e04-bedf-4c95-9b03-a2127f329a32",
      "metadata": {
        "id": "243a1e04-bedf-4c95-9b03-a2127f329a32",
        "outputId": "aac4f7ea-5ead-4403-8557-0294c473f2dc"
      },
      "outputs": [
        {
          "data": {
            "text/plain": [
              "stories\n",
              "1.0              66804\n",
              "2.0              55001\n",
              "1                22794\n",
              "2                17975\n",
              "3.0              11230\n",
              "0.0               7209\n",
              "One               5758\n",
              "0                 4231\n",
              "3                 4201\n",
              "9.0               2914\n",
              "2.00              2775\n",
              "Two               2495\n",
              "4.0               2136\n",
              "2 Story           1970\n",
              "1 Story           1253\n",
              "1.00              1200\n",
              "4                  888\n",
              "3+                 868\n",
              "6.0                716\n",
              "1.50               650\n",
              "5.0                614\n",
              "Three Or More      569\n",
              "3.00               517\n",
              "9                  467\n",
              "One Story          395\n",
              "Lot                365\n",
              "Townhouse          325\n",
              "7.0                312\n",
              "Ranch/1 Story      293\n",
              "6                  282\n",
              "Name: count, dtype: int64"
            ]
          },
          "execution_count": 47,
          "metadata": {},
          "output_type": "execute_result"
        }
      ],
      "source": [
        "df['stories'].value_counts()[0:30]"
      ]
    },
    {
      "cell_type": "code",
      "execution_count": null,
      "id": "4a5b1d38-d41f-47ec-a628-709d046a2741",
      "metadata": {
        "id": "4a5b1d38-d41f-47ec-a628-709d046a2741",
        "outputId": "d7ad29d8-dd2a-44bb-caca-76aee34f2dc9"
      },
      "outputs": [
        {
          "data": {
            "text/plain": [
              "array([nan, '2.0', '1.0', '3.0', 'One', '2', 'Multi/Split', '4.0', '0.0',\n",
              "       '0', 'One Level', '1', '9.0', '3', '1 Level, Site Built',\n",
              "       'One Story', '3.00', '1.00', '14.0', 'Two', '3+', '1 Story', '5.0',\n",
              "       '2 Story', 'Ranch/1 Story', 'Condominium', 'Stories/Levels', '7.0',\n",
              "       '2 Level, Site Built', '2 Level', '15', '3 Level, Site Built', '4',\n",
              "       '22.0', '2.00', '6.0', '1.0000', 'Lot', '3 Story', 'Three Or More',\n",
              "       '1.5', '1 Level', 'Two Story or More', 'Site Built, Tri-Level',\n",
              "       '54.0', '23', 'Farm House', '8.0', '16.0', '1.50', '18', '9', '21',\n",
              "       '8', '12.0', 'Split Level w/ Sub', '11.0', '1.5 Stories', '7',\n",
              "       '11', 'Townhouse', '12', '21.0', '16', '1.5 Story/Basement',\n",
              "       '28.0', 'Traditional', '2.5 Story', '17', '2.0000', '63.0',\n",
              "       'Acreage', 'Ground Level, One', '6', 'Split Foyer', '2 Stories',\n",
              "       '27.0', '19.0', '2.50', '1.30', '2 Story/Basement', 'Split Level',\n",
              "       '1.5 Story', '1.5 Level', '2 Or More Stories',\n",
              "       '1 Level, Condo, Site Built', '15.0', '20', '1.5000', '4.00',\n",
              "       '1 Story Basement', '5', 'Multi-Level', '17.0', 'Other Multi-unit',\n",
              "       'Ranch', 'Tri-Level', '13.0', '1 Story/Ranch', '51.0', '18.0',\n",
              "       '31', '19', 'High-Rise', 'Mid-Rise', 'Detached', '3 Stories',\n",
              "       '4 Story', '22', '46.0', '2.5', 'One and One Half', ', 2',\n",
              "       '1 1/2 Levels', '1.5 Level, Site Built', '70', '1 Story/F.R.O.G.',\n",
              "       'Commercial', '25.0', '3 Level, Townhouse', '3+ Story', '1.000',\n",
              "       '33.0', '10', '3 Level, Site Built, Townhouse',\n",
              "       'Three Or More, Multi/Split', 'Fourplex', '95.0', '90.0',\n",
              "       'Manufactured Doublewide', '6+ Stories', '91', '35.0', '13',\n",
              "       '2 Levels', '31.0', 'Mobile', '33', 'Cabin/Cottage',\n",
              "       'Three Or More Levels', '24', 'Victorian', '1.75', '38',\n",
              "       'One, Two', '1-2 Stories, 3-4 Stories', 'Site Built',\n",
              "       'Contemporary', '20.0', 'Garden', 'Site Built, Townhouse',\n",
              "       'Cape Cod', '26.0', '30', 'Dwelling Stories',\n",
              "       '2 Level, Condo, Site Built', '36.0', 'Modular Home', 'Bi-Level',\n",
              "       '26', '42', '45', 'One, Two, Multi/Split', '14', '3 - 5 Stories',\n",
              "       'Multi Level', ', 1', '29.0', '55.0', '3.0000', '78.0', '25', '56',\n",
              "       'Split Entry (Bi-Level)', '3 Level', '27', '36', '47.0',\n",
              "       '3-4 Stories', '10.0', '47', '29', '1 Level, Non-Site Built',\n",
              "       '40.0', 'Site Built, Split Foyer', '1 Story, Townhouse', '43.0',\n",
              "       '80.0', '43', '23.0', '24.0', 'Total Floors in Bldg',\n",
              "       '3 Story, Multi Level', 'Multi Level, Three or More', '34',\n",
              "       'Raised Ranch', '5.00', '1.7', '32', 'Unimproved Commercial', '57',\n",
              "       '41.0', 'Condo', '45.0', '39', '64.0', '1.7000', 'Bungalow', '48',\n",
              "       '1.5, 2', '2 Story, Tri Level', 'Two, Multi/Split',\n",
              "       '3 Story, Tri Level', '57.0', '41', '2 Level, Split Foyer', '40',\n",
              "       '28', '3 Levels', 'Other, Two, Multi/Split',\n",
              "       '2 Level, Site Built, Townhouse', '32.0', '58.0', '58', '30.0',\n",
              "       '52.0', 'Multi-Story', '42.0', '37.0', '1 Story, Split Level',\n",
              "       '50', '30.00', '38.0', '44', '48.0', '16.00', 'Tri Level',\n",
              "       'Tri/Multi Level', '2 Story, Split Level', 'Co-op',\n",
              "       'Manufactured Singlewide', '2 Level, Condo', '3 Story/Basement',\n",
              "       '1 Level, Site Built, Townhouse', '68.0', '60.0',\n",
              "       'Site Built, Split Level', '46', 'T3-Townhouse 3+ Stories', '77.0',\n",
              "       'Farm', '1 1/2 Story', '1 Leveland + Loft', '1.70', '2.5000',\n",
              "       'Duplex', '2.5 Story/Basement', '64', '70.0', 'Ground Level', '37',\n",
              "       '78', '56.0', '1.500', '34.0', 'Two Stories',\n",
              "       'Bedroom - Split Plan', 'Manufactured Home, Non-Site Built',\n",
              "       '1-2 Stories', '1 Level, Condo', '1.2', 'Condo, Site Built',\n",
              "       'One, Three Or More', '4.0000', 'Multi-Level, New Englander',\n",
              "       '39.0', 'Townhouse-2 Story, T3-Townhouse 3+ Stories', '2.000',\n",
              "       'Sixplex', '75', '35', '2 Story or 2 Level', '66.0', '62.0',\n",
              "       '6.00', 'Quad Level', 'Triplex', 'A Frame', '15.00', 'Tudor',\n",
              "       '2 Story, Multi Level', 'Colonial', '82', ', 3', 'Hillside',\n",
              "       'Live/Work', 'Apartments', '3 Level, Site Built, Split Level',\n",
              "       '3 Level, Condo, Site Built', '77', '95', 'Log Home', '4 Stories',\n",
              "       '1.5 Level, Site Built, Tri-Level', '49.0', '1120.0', '1, 1',\n",
              "       '1 Story, 2 Story', 'Loft', '52', '3.000', '1 Level, Townhouse',\n",
              "       '66', 'Two, Three Or More', '2.20', 'Multi Level, Tri Level', '60',\n",
              "       'Cape, Other Style', '11.00', '1.3000', 'Craftsman',\n",
              "       'Split Foyer, Tri-Level', '2 Stories, Tear Down', 'Log', '3.5',\n",
              "       'Condo 5+ Stories', 'Federal', '1002.0', '7.00',\n",
              "       '1 Story, Hillside', '2 Stories, Townhouse',\n",
              "       '2 Level, Site Built, Split Foyer', '96.0', 'Multi/Split, Two',\n",
              "       'Ground Level, Two', 'Chalet', '80', '1 Level, 2 Level',\n",
              "       '1 Level, 1.5 Level', 'Ground Level, Split Level, Two',\n",
              "       '1 Level, Split Foyer', '1 Story, Multi Level',\n",
              "       'One and One Half, Three Or More',\n",
              "       '3 Level, Site Built, Tri-Level', 'Double Wide', 'Patio Home',\n",
              "       '50.0', '65.0'], dtype=object)"
            ]
          },
          "execution_count": 48,
          "metadata": {},
          "output_type": "execute_result"
        }
      ],
      "source": [
        "df['stories'].unique()"
      ]
    },
    {
      "cell_type": "code",
      "execution_count": null,
      "id": "edb747d8-f60e-4b99-9e55-0490376dc224",
      "metadata": {
        "id": "edb747d8-f60e-4b99-9e55-0490376dc224",
        "outputId": "2b7f3304-127c-4d29-a29f-9c919b7aa080"
      },
      "outputs": [
        {
          "data": {
            "text/plain": [
              "149623"
            ]
          },
          "execution_count": 49,
          "metadata": {},
          "output_type": "execute_result"
        }
      ],
      "source": [
        "df.stories.isna().sum()"
      ]
    },
    {
      "cell_type": "markdown",
      "id": "eb1a0a7a-e873-4c8f-9c01-97adec6c9166",
      "metadata": {
        "id": "eb1a0a7a-e873-4c8f-9c01-97adec6c9166"
      },
      "source": [
        "Пока оставим, признак кажется существенным, потом проверим точность модели с ним и без него"
      ]
    },
    {
      "cell_type": "code",
      "execution_count": null,
      "id": "4db371b3-39eb-4f6f-8a8a-3c5d3c3dea6a",
      "metadata": {
        "id": "4db371b3-39eb-4f6f-8a8a-3c5d3c3dea6a"
      },
      "outputs": [],
      "source": [
        "dict_word={\n",
        "    'One': 1,\n",
        "    'Two': 2,\n",
        "    'Three Or More':3,\n",
        "    'One Story': 1,\n",
        "    'One Level': 1,\n",
        "    'Townhouse':2,\n",
        "    'Two Story or More': 2,\n",
        "    'Ranch': 1,\n",
        "    'Stories/Levels':3,\n",
        "    'Acreage':1,\n",
        "    'Condominium':2,\n",
        "    'Lot':3,\n",
        "    'Traditional': 2\n",
        "}"
      ]
    },
    {
      "cell_type": "code",
      "execution_count": null,
      "id": "311f6043-4abf-46a4-9d1e-dc0dbd30d794",
      "metadata": {
        "id": "311f6043-4abf-46a4-9d1e-dc0dbd30d794"
      },
      "outputs": [],
      "source": [
        "df=df.replace({'stories': dict})"
      ]
    },
    {
      "cell_type": "code",
      "execution_count": null,
      "id": "4f70408f-5b87-4afc-8e82-c9c5f35c9fbd",
      "metadata": {
        "id": "4f70408f-5b87-4afc-8e82-c9c5f35c9fbd"
      },
      "outputs": [],
      "source": [
        "df['stories'] = df['stories'].str.replace('[^0-9.]','',regex=True)"
      ]
    },
    {
      "cell_type": "code",
      "execution_count": null,
      "id": "8e442888-be37-4c90-b487-f4fa4a0130b0",
      "metadata": {
        "id": "8e442888-be37-4c90-b487-f4fa4a0130b0"
      },
      "outputs": [],
      "source": [
        "df['stories'] = df['stories'].str.replace(r'\\..*', '', regex=True)"
      ]
    },
    {
      "cell_type": "code",
      "execution_count": null,
      "id": "66fc47d1-50c4-4354-aea4-47afc0239ae8",
      "metadata": {
        "id": "66fc47d1-50c4-4354-aea4-47afc0239ae8",
        "outputId": "f1376254-3bb1-4500-cf3e-9569616a00ce"
      },
      "outputs": [
        {
          "name": "stdout",
          "output_type": "stream",
          "text": [
            "12074\n"
          ]
        }
      ],
      "source": [
        "print(len(df[df['stories'] == '']))\n",
        "df['stories']=df['stories'].replace('', np.nan)"
      ]
    },
    {
      "cell_type": "code",
      "execution_count": null,
      "id": "53a935a9-c0e3-41fc-ba3c-2069f6889e23",
      "metadata": {
        "id": "53a935a9-c0e3-41fc-ba3c-2069f6889e23",
        "outputId": "28131ede-3865-4541-fceb-0c6734076e6a"
      },
      "outputs": [
        {
          "data": {
            "text/plain": [
              "array([nan, '2', '1', '3', '4', '0', '9', '14', '5', '7', '15', '22', '6',\n",
              "       '54', '23', '8', '16', '18', '21', '12', '11', '28', '17', '63',\n",
              "       '27', '19', '20', '13', '51', '31', '46', '112', '70', '25', '33',\n",
              "       '10', '95', '90', '91', '35', '24', '38', '1234', '26', '30', '36',\n",
              "       '42', '45', '29', '55', '78', '56', '47', '34', '40', '43', '80',\n",
              "       '32', '57', '41', '39', '64', '48', '58', '52', '37', '50', '44',\n",
              "       '68', '60', '77', '233', '75', '66', '62', '82', '49', '1120',\n",
              "       '1002', '96', '65'], dtype=object)"
            ]
          },
          "execution_count": 55,
          "metadata": {},
          "output_type": "execute_result"
        }
      ],
      "source": [
        "df['stories'].unique()"
      ]
    },
    {
      "cell_type": "code",
      "execution_count": null,
      "id": "e774e85f-b603-4803-8100-ae3b82edbda1",
      "metadata": {
        "id": "e774e85f-b603-4803-8100-ae3b82edbda1"
      },
      "outputs": [],
      "source": [
        "df['stories'] =df['stories'].astype('Int64')"
      ]
    },
    {
      "cell_type": "code",
      "execution_count": null,
      "id": "406e5ae2-4fdf-4a51-8071-bec5fce73254",
      "metadata": {
        "id": "406e5ae2-4fdf-4a51-8071-bec5fce73254",
        "outputId": "85e96bf2-7cee-4817-c3a1-62b66b6ede97"
      },
      "outputs": [
        {
          "data": {
            "text/plain": [
              "<IntegerArray>\n",
              "[<NA>,    2,    1,    3,    4,    0,    9,   14,    5,    7,   15,   22,    6,\n",
              "   54,   23,    8,   16,   18,   21,   12,   11,   28,   17,   63,   27,   19,\n",
              "   20,   13,   51,   31,   46,  112,   70,   25,   33,   10,   95,   90,   91,\n",
              "   35,   24,   38, 1234,   26,   30,   36,   42,   45,   29,   55,   78,   56,\n",
              "   47,   34,   40,   43,   80,   32,   57,   41,   39,   64,   48,   58,   52,\n",
              "   37,   50,   44,   68,   60,   77,  233,   75,   66,   62,   82,   49, 1120,\n",
              " 1002,   96,   65]\n",
              "Length: 81, dtype: Int64"
            ]
          },
          "execution_count": 57,
          "metadata": {},
          "output_type": "execute_result"
        }
      ],
      "source": [
        "df['stories'].unique()"
      ]
    },
    {
      "cell_type": "code",
      "execution_count": null,
      "id": "c339ab44-9910-4f29-bfe8-dbfeea46dc86",
      "metadata": {
        "id": "c339ab44-9910-4f29-bfe8-dbfeea46dc86"
      },
      "outputs": [],
      "source": [
        "df.loc[df['stories']>5, 'stories']=np.nan"
      ]
    },
    {
      "cell_type": "code",
      "execution_count": null,
      "id": "36773f5d-7f92-4ac8-8f03-95c726b12564",
      "metadata": {
        "id": "36773f5d-7f92-4ac8-8f03-95c726b12564",
        "outputId": "85db7de9-7ec3-4876-84ac-4cd00a6b1069"
      },
      "outputs": [
        {
          "data": {
            "text/plain": [
              "205749"
            ]
          },
          "execution_count": 59,
          "metadata": {},
          "output_type": "execute_result"
        }
      ],
      "source": [
        "df.stories.value_counts().sum()"
      ]
    },
    {
      "cell_type": "markdown",
      "id": "9bf10c1b-a588-4200-9fda-80d04467183a",
      "metadata": {
        "id": "9bf10c1b-a588-4200-9fda-80d04467183a"
      },
      "source": [
        "Рассмотрим дублированные строки:"
      ]
    },
    {
      "cell_type": "code",
      "execution_count": null,
      "id": "c2837142-8ea5-4ff7-87d7-0861a10b5971",
      "metadata": {
        "id": "c2837142-8ea5-4ff7-87d7-0861a10b5971",
        "outputId": "d5c43e3a-52d0-4109-ccc5-25ebeca35c8f"
      },
      "outputs": [
        {
          "data": {
            "text/plain": [
              "28"
            ]
          },
          "execution_count": 60,
          "metadata": {},
          "output_type": "execute_result"
        }
      ],
      "source": [
        "df.drop('stories',axis=1).duplicated().sum()"
      ]
    },
    {
      "cell_type": "code",
      "execution_count": null,
      "id": "f78dbdfe-8fa7-4ac1-bd4d-48c1145328a9",
      "metadata": {
        "id": "f78dbdfe-8fa7-4ac1-bd4d-48c1145328a9"
      },
      "outputs": [],
      "source": [
        "df = df.drop_duplicates(subset=df.columns.difference(['stories']), keep='last')"
      ]
    },
    {
      "cell_type": "markdown",
      "id": "d6622645-009b-46e3-8095-4cd8e8782b4f",
      "metadata": {
        "id": "d6622645-009b-46e3-8095-4cd8e8782b4f"
      },
      "source": [
        "<h4>6.bath</h4>"
      ]
    },
    {
      "cell_type": "code",
      "execution_count": null,
      "id": "ba9dff1e-f112-436c-b6a4-88c3838e7831",
      "metadata": {
        "id": "ba9dff1e-f112-436c-b6a4-88c3838e7831",
        "outputId": "5b7e0615-6187-4969-8c4e-8b6cbfccf38e"
      },
      "outputs": [
        {
          "data": {
            "text/plain": [
              "105273"
            ]
          },
          "execution_count": 62,
          "metadata": {},
          "output_type": "execute_result"
        }
      ],
      "source": [
        "df['baths'].isna().sum()"
      ]
    },
    {
      "cell_type": "code",
      "execution_count": null,
      "id": "63ae343b-c4cb-4036-968d-09f1b80f31d2",
      "metadata": {
        "id": "63ae343b-c4cb-4036-968d-09f1b80f31d2",
        "outputId": "47f855b2-1e4f-4c3a-e4ec-6a3fe867e917"
      },
      "outputs": [
        {
          "data": {
            "text/plain": [
              "baths\n",
              "2 Baths         52059\n",
              "3 Baths         35386\n",
              "2               20414\n",
              "2.0             16353\n",
              "4 Baths         14717\n",
              "3.0             10795\n",
              "3               10085\n",
              "Bathrooms: 2     9410\n",
              "2.5              8097\n",
              "Bathrooms: 3     6569\n",
              "1                6568\n",
              "1.0              5799\n",
              "5 Baths          5367\n",
              "4.0              4559\n",
              "2.5 Baths        4447\n",
              "0                3806\n",
              "4                3560\n",
              "3.5              3445\n",
              "Bathrooms: 1     3126\n",
              "2 ba             2679\n",
              "6 Baths          2599\n",
              "Name: count, dtype: int64"
            ]
          },
          "execution_count": 63,
          "metadata": {},
          "output_type": "execute_result"
        }
      ],
      "source": [
        "df['baths'].value_counts()[0:21]"
      ]
    },
    {
      "cell_type": "code",
      "execution_count": null,
      "id": "340a4ac8-0965-47ca-8f94-8eb1c8d0eb4e",
      "metadata": {
        "id": "340a4ac8-0965-47ca-8f94-8eb1c8d0eb4e",
        "outputId": "ce41dc90-6b79-4ec0-d16a-fefc7d1c19bb"
      },
      "outputs": [
        {
          "data": {
            "text/plain": [
              "array(['3.5', '3 Baths', '2 Baths', '8 Baths', nan, '2', '3',\n",
              "       'Bathrooms: 2', '1,750', '4 Baths', '2 ba', 'Bathrooms: 5',\n",
              "       '1,000', '7 Baths', '2.0', '3.0', 'Bathrooms: 1', '4.0',\n",
              "       '2.1 Baths', '2.5 Baths', '1', 'Bathrooms: 3', '4.5', '6 Baths',\n",
              "       'Bathrooms: 4', '3 ba', '5', '2,500', '5.5 Baths', '1.0',\n",
              "       '5 Baths', '1.5', '4', '~', '2.5', '4,000', '3.5 Baths', '2,000',\n",
              "       '3,000', '8.0', '1 ba', '0', '5.0', '1,500', '7.0', '1,250',\n",
              "       '9 Baths', '2,250', '6.0', '12 Baths', '5.5', '3,500', '1.5 Baths',\n",
              "       '2,750', 'Bathrooms: 6', '4.5 Baths', '750', '5.5+', '6',\n",
              "       '10 Baths', '6 ba', 'Bathrooms: 19', '10.0', '4 ba', '12 ba',\n",
              "       '2.5+', '8', '7.5+', 'Bathrooms: 10', '0 / 0', 'Sq. Ft. ', '5 ba',\n",
              "       '4.5+', '18 Baths', '-- baths', 'Bathrooms: 7', '7', '18', '3.5+',\n",
              "       '1.5+', '11 Baths', '5,000', '1.75 Baths', '9', '12.0', '6.5',\n",
              "       'Bathrooms: 8', '10', '19 Baths', 'Bathrooms: 9', '16 Baths',\n",
              "       '13 Baths', 'Bathrooms: 13', '14', '9.0', '8.5+', '7 ba', '12',\n",
              "       '1.1 Baths', '2.5 ba', 'Bathrooms: 12', '17', 'Bathrooms: 241',\n",
              "       '16.0', '10.5+', '8 ba', '6.5+', '6.5 Baths', '14 Baths', '3.5 ba',\n",
              "       '7,500+', '7.5', '11.0', '20 Baths', '11', '40 Baths',\n",
              "       '1-0 / 1-0 / 1', '14.0', '1.75 ba', '2.75 Baths', '24 Baths',\n",
              "       '22.0', '0.00', '2.25 Baths', '3.1 Baths', '3.25 Baths', '—', '13',\n",
              "       '4.5 ba', '22', '9 ba', '32', '7.5 Baths', '18.0', 'Bathrooms: 11',\n",
              "       '17 Baths', '0.0', 'Bathrooms: 27', '26', '9.5', '8.5', '26 Baths',\n",
              "       '2 baths', '15 Baths', '16', '35', '3.75 Baths', '29 Baths',\n",
              "       '22 Baths', 'Bathrooms: 18', '116 / 116 / 116', '40', '21 Baths',\n",
              "       '5.2 Baths', '29', '14.5+', '76 Baths', '13.0',\n",
              "       'Bathrooms: SemiMod', '3-1 / 2-2', '32 Baths', '2.25 ba', '15.0',\n",
              "       '23 Baths', '43 Baths', '21', '1.25 Baths', '34 Baths', '1.5 ba',\n",
              "       '20', '2.2 Baths', '1 / 1 / 1 / 1', '55.0', '3 baths', '8.5 Baths',\n",
              "       '25 Baths', '12.5+', 'Bathrooms: 24', '44 Baths', '0.5 Baths',\n",
              "       '4.25 Baths', '4.75 Baths', '0.75 Baths', '4.1 Baths', '15',\n",
              "       'Bathrooms: 14', '5.25 Baths', '10 ba', '41.0', 'Bathrooms: 16',\n",
              "       '10.5', 'Bathrooms: 21', '9.5+', '36 Baths', '30 Baths', '27',\n",
              "       '10.5 Baths', '12.5', '24.0', '23.0', '24', '28 Baths', '34.0',\n",
              "       '64.0', '11.5+', '13 ba', '39 Baths', '30', '30.0', '17.0',\n",
              "       '42 Baths', '5.5 ba', '16 ba', '11.5 Baths', '27 Baths', '11 ba',\n",
              "       '3.2 Baths', '20.0', '2-1 / 2-1 / 1-1 / 1-1', '23', '60 Baths',\n",
              "       '1 / 1-0 / 1-0 / 1-0', '6.75 Baths', '1-2 Baths', 'Bathrooms: 15',\n",
              "       '68 Baths', '44.0'], dtype=object)"
            ]
          },
          "execution_count": 64,
          "metadata": {},
          "output_type": "execute_result"
        }
      ],
      "source": [
        "df['baths'].unique()"
      ]
    },
    {
      "cell_type": "code",
      "execution_count": null,
      "id": "27fe361c-9053-4661-9893-70c73287a5e9",
      "metadata": {
        "id": "27fe361c-9053-4661-9893-70c73287a5e9"
      },
      "outputs": [],
      "source": [
        "df['baths'] = df['baths'].str.replace('[^0-9.]','',regex=True)"
      ]
    },
    {
      "cell_type": "code",
      "execution_count": null,
      "id": "7775e5e8-787c-49f1-800a-a02b8238bee3",
      "metadata": {
        "id": "7775e5e8-787c-49f1-800a-a02b8238bee3"
      },
      "outputs": [],
      "source": [
        "df['baths'] = df['baths'].str.replace(r'\\..*', '', regex=True)"
      ]
    },
    {
      "cell_type": "code",
      "execution_count": null,
      "id": "4ea81306-c46f-44b0-abc9-a8fbd62590d3",
      "metadata": {
        "id": "4ea81306-c46f-44b0-abc9-a8fbd62590d3",
        "outputId": "ccb1bcf6-bc8a-45e8-8224-dcd9c0133ccf"
      },
      "outputs": [
        {
          "name": "stdout",
          "output_type": "stream",
          "text": [
            "1482\n"
          ]
        }
      ],
      "source": [
        "print(len(df[df['baths'] == '']))\n",
        "df['baths']=df['baths'].replace('', np.nan)"
      ]
    },
    {
      "cell_type": "code",
      "execution_count": null,
      "id": "ad12c29a-79ea-4618-970e-c30fe981a96c",
      "metadata": {
        "id": "ad12c29a-79ea-4618-970e-c30fe981a96c",
        "outputId": "c3368d02-35b0-42a9-f335-6a8811cdc813"
      },
      "outputs": [
        {
          "data": {
            "text/plain": [
              "array(['3', '2', '8', nan, '1750', '4', '5', '1000', '7', '1', '6',\n",
              "       '2500', '4000', '2000', '3000', '0', '1500', '1250', '9', '2250',\n",
              "       '12', '3500', '2750', '750', '10', '19', '00', '18', '11', '5000',\n",
              "       '16', '13', '14', '17', '241', '7500', '20', '40', '10101', '24',\n",
              "       '22', '32', '27', '26', '15', '35', '29', '116116116', '21', '76',\n",
              "       '3122', '23', '43', '34', '1111', '55', '25', '44', '41', '36',\n",
              "       '30', '28', '64', '39', '42', '21211111', '60', '1101010', '68'],\n",
              "      dtype=object)"
            ]
          },
          "execution_count": 68,
          "metadata": {},
          "output_type": "execute_result"
        }
      ],
      "source": [
        "df['baths'].unique()"
      ]
    },
    {
      "cell_type": "code",
      "execution_count": null,
      "id": "e1dadf97-dbdb-4411-b963-aa06eaf49a95",
      "metadata": {
        "id": "e1dadf97-dbdb-4411-b963-aa06eaf49a95"
      },
      "outputs": [],
      "source": [
        "df['baths'] = df['baths'].astype('Int64')"
      ]
    },
    {
      "cell_type": "code",
      "execution_count": null,
      "id": "7d708686-a80a-4efd-b20a-094a2c59e6da",
      "metadata": {
        "id": "7d708686-a80a-4efd-b20a-094a2c59e6da"
      },
      "outputs": [],
      "source": [
        "df.loc[df['baths']>10, 'baths']=np.nan"
      ]
    },
    {
      "cell_type": "code",
      "execution_count": null,
      "id": "4dece7dc-83b5-4778-a9f8-7c4b4c04f05d",
      "metadata": {
        "id": "4dece7dc-83b5-4778-a9f8-7c4b4c04f05d",
        "outputId": "c3d4351c-6627-4d61-bfc6-2c9aba5138ef"
      },
      "outputs": [
        {
          "data": {
            "text/plain": [
              "252443"
            ]
          },
          "execution_count": 71,
          "metadata": {},
          "output_type": "execute_result"
        }
      ],
      "source": [
        "df['baths'].value_counts().sum()"
      ]
    },
    {
      "cell_type": "markdown",
      "id": "53cb9914-642e-48ab-ab3b-649a5a128f06",
      "metadata": {
        "id": "53cb9914-642e-48ab-ab3b-649a5a128f06"
      },
      "source": [
        "Работаем с дублями:"
      ]
    },
    {
      "cell_type": "code",
      "execution_count": null,
      "id": "504c7095-d044-47dc-9653-bc7807be2cfb",
      "metadata": {
        "id": "504c7095-d044-47dc-9653-bc7807be2cfb",
        "outputId": "35c6e7c5-7b9b-4099-bb4c-71dfa1f42597"
      },
      "outputs": [
        {
          "data": {
            "text/plain": [
              "0"
            ]
          },
          "execution_count": 72,
          "metadata": {},
          "output_type": "execute_result"
        }
      ],
      "source": [
        "df.drop('baths',axis=1).duplicated().sum()"
      ]
    },
    {
      "cell_type": "code",
      "execution_count": null,
      "id": "80ceef74-3e82-435c-ac8a-ce75b8428b9a",
      "metadata": {
        "id": "80ceef74-3e82-435c-ac8a-ce75b8428b9a",
        "outputId": "252036e6-bbe7-4ff9-9e29-f72c085fc28c"
      },
      "outputs": [
        {
          "data": {
            "text/plain": [
              "122048"
            ]
          },
          "execution_count": 73,
          "metadata": {},
          "output_type": "execute_result"
        }
      ],
      "source": [
        "df.baths.isnull().sum()"
      ]
    },
    {
      "cell_type": "markdown",
      "id": "ef21b609-3a5c-4d4f-8baf-8316208ed302",
      "metadata": {
        "id": "ef21b609-3a5c-4d4f-8baf-8316208ed302"
      },
      "source": [
        "<h4>7.'fireplace'</h4>"
      ]
    },
    {
      "cell_type": "markdown",
      "id": "e9090ec5-ca51-4192-a821-cbdede05b87f",
      "metadata": {
        "id": "e9090ec5-ca51-4192-a821-cbdede05b87f"
      },
      "source": [
        "Проблема аналогичная проблеме с PrivatePool"
      ]
    },
    {
      "cell_type": "code",
      "execution_count": null,
      "id": "dd50d8d0-9dcf-4189-bdf8-4b5108d121f3",
      "metadata": {
        "id": "dd50d8d0-9dcf-4189-bdf8-4b5108d121f3",
        "outputId": "d32dc85b-0759-4fce-9d24-3f5b7ab2b44e"
      },
      "outputs": [
        {
          "data": {
            "text/plain": [
              "fireplace\n",
              "yes                                                                         50005\n",
              "Yes                                                                         20619\n",
              "1                                                                           14532\n",
              "2                                                                            2432\n",
              "Not Applicable                                                               1990\n",
              "Fireplace                                                                     847\n",
              "3                                                                             563\n",
              "Living Room                                                                   433\n",
              "LOCATION                                                                      399\n",
              "Wood Burning                                                                  311\n",
              "Gas/Gas Logs                                                                  300\n",
              "No                                                                            289\n",
              "Fireplace YN                                                                  287\n",
              "Special Features                                                              279\n",
              "1 Fireplace                                                                   274\n",
              "0                                                                             270\n",
              "FAMILYRM                                                                      246\n",
              "Fireplace Features                                                            239\n",
              "Great Room                                                                    207\n",
              "Wood                                                                          206\n",
              "Gas Logs, Great Room                                                          188\n",
              "Ceiling Fan                                                                   186\n",
              "Living Room, Wood Burning                                                     185\n",
              "4                                                                             184\n",
              "Family Room, Wood Burning                                                     149\n",
              "FAMILYRM, Gas Logs                                                            146\n",
              "Gas                                                                           134\n",
              "Gas Logs, In Great Room                                                       112\n",
              "Gas Logs                                                                      107\n",
              "Gas Logs, In Living Room                                                      104\n",
              "Family Room                                                                   103\n",
              "Ceiling Fan, Walk-In Closets                                                   93\n",
              "Gas Log, One                                                                   91\n",
              "Gas Logs, Living Room                                                          89\n",
              "Gas Logs, In Den/Family Room                                                   89\n",
              "One                                                                            75\n",
              "Decorative                                                                     75\n",
              "Gas, Family Room                                                               73\n",
              "1 Fireplace, Fireplace Family Rm                                               72\n",
              "Electric                                                                       72\n",
              "# Fireplaces - Woodburning                                                     68\n",
              "Ceiling Fan, Extra Closets, Storage, Walk-In Closets                           66\n",
              "Den                                                                            65\n",
              "5                                                                              65\n",
              "Ceiling Fan, Extra Closets, Storage, Utility Connection, Walk-In Closets       62\n",
              "# Fireplaces - Gas                                                             60\n",
              "Log Woodburning, One                                                           58\n",
              "Gas, Living Room                                                               56\n",
              "In Living Room                                                                 54\n",
              "Gas Fuel,LOCATION                                                              50\n",
              "Name: count, dtype: int64"
            ]
          },
          "execution_count": 74,
          "metadata": {},
          "output_type": "execute_result"
        }
      ],
      "source": [
        "df['fireplace'].value_counts()[0:50]"
      ]
    },
    {
      "cell_type": "code",
      "execution_count": null,
      "id": "51f141cf-095c-4eb6-8aca-747da003519f",
      "metadata": {
        "id": "51f141cf-095c-4eb6-8aca-747da003519f"
      },
      "outputs": [],
      "source": [
        "df=df.drop('fireplace', axis=1)"
      ]
    },
    {
      "cell_type": "markdown",
      "id": "4a2d7a90-bfc7-4cff-9778-099edc11a3f8",
      "metadata": {
        "id": "4a2d7a90-bfc7-4cff-9778-099edc11a3f8"
      },
      "source": [
        "<h4>8.'beds'</h4>"
      ]
    },
    {
      "cell_type": "markdown",
      "id": "9a4414e7-2b72-4de4-945b-c4feb632e886",
      "metadata": {
        "id": "9a4414e7-2b72-4de4-945b-c4feb632e886"
      },
      "source": [
        "Тут опять данные вперемешку, что-то в количестве, что-то в площади, где-то почему-то baths"
      ]
    },
    {
      "cell_type": "code",
      "execution_count": null,
      "id": "347435df-a0f5-4fe7-abcb-898109f7e516",
      "metadata": {
        "id": "347435df-a0f5-4fe7-abcb-898109f7e516",
        "outputId": "ea09c5a8-9df4-407e-e447-f508b9b7b078"
      },
      "outputs": [
        {
          "data": {
            "text/plain": [
              "beds\n",
              "3 Beds        53057\n",
              "4 Beds        35213\n",
              "3             31177\n",
              "2 Beds        26184\n",
              "4             19906\n",
              "2             15991\n",
              "Baths         15258\n",
              "3 bd          12678\n",
              "5 Beds        11224\n",
              "4 bd           8192\n",
              "3.0            8078\n",
              "5              6385\n",
              "4.0            5222\n",
              "2 bd           5166\n",
              "1              4583\n",
              "6 Beds         3790\n",
              "5 bd           2619\n",
              "2.0            2428\n",
              "6              1792\n",
              "5.0            1371\n",
              "0              1207\n",
              "7 Beds         1098\n",
              "1 bd           1068\n",
              "-- bd           845\n",
              "8 Beds          754\n",
              "Bath            737\n",
              "6 bd            643\n",
              "7               510\n",
              "1.0             428\n",
              "                350\n",
              "9 Beds          344\n",
              "8               316\n",
              "6.0             311\n",
              "0.0             223\n",
              "10 Beds         174\n",
              "7 bd            145\n",
              "12 Beds         130\n",
              "-- sqft          94\n",
              "9                94\n",
              "8 bd             94\n",
              "5,000 sqft       90\n",
              "11 Beds          84\n",
              "7.0              67\n",
              "10               66\n",
              "1 acre           46\n",
              "64 Beds          44\n",
              "8.0              41\n",
              "16 Beds          41\n",
              "0.34 acres       39\n",
              "0.28 acres       37\n",
              "Name: count, dtype: int64"
            ]
          },
          "execution_count": 76,
          "metadata": {},
          "output_type": "execute_result"
        }
      ],
      "source": [
        "df['beds'].value_counts()[0:50]"
      ]
    },
    {
      "cell_type": "markdown",
      "id": "dbf546c8-142a-4ba7-9663-83a16202e0e9",
      "metadata": {
        "id": "dbf546c8-142a-4ba7-9663-83a16202e0e9"
      },
      "source": [
        "Непонятно, но большая часть значений определена, поработаем с ними:"
      ]
    },
    {
      "cell_type": "code",
      "execution_count": null,
      "id": "cd52c3a2-154f-4322-88e9-d553251ba0ca",
      "metadata": {
        "id": "cd52c3a2-154f-4322-88e9-d553251ba0ca"
      },
      "outputs": [],
      "source": [
        "df.beds = df.beds.replace('^.*acr.*',np.nan, regex=True)\n",
        "df.beds = df.beds.replace('^.*sq.*',np.nan, regex=True)\n",
        "df.beds = df.beds.str.replace('[^0-9]','', regex=True)\n",
        "df.beds = df.beds.replace('',np.nan, regex=True)"
      ]
    },
    {
      "cell_type": "code",
      "execution_count": null,
      "id": "24753c31-f653-4d7c-9c99-624431fb654f",
      "metadata": {
        "id": "24753c31-f653-4d7c-9c99-624431fb654f",
        "outputId": "bf0cf0a5-447e-4c5a-fa5d-56e7496ab607"
      },
      "outputs": [
        {
          "data": {
            "text/plain": [
              "263476"
            ]
          },
          "execution_count": 78,
          "metadata": {},
          "output_type": "execute_result"
        }
      ],
      "source": [
        "df['beds'].value_counts().sum()"
      ]
    },
    {
      "cell_type": "code",
      "execution_count": null,
      "id": "3e02a02f-65ee-4049-88ad-9ff27cc6ba07",
      "metadata": {
        "id": "3e02a02f-65ee-4049-88ad-9ff27cc6ba07",
        "outputId": "b678abbf-7dfb-4c17-a423-13955d601ea9"
      },
      "outputs": [
        {
          "data": {
            "text/plain": [
              "array(['4', '3', '5', nan, '2', '8', '20', '1', '30', '6', '12', '14',\n",
              "       '7', '50', '40', '9', '0', '70', '16', '10', '60', '13', '18',\n",
              "       '00', '32', '11', '26', '64', '144', '22', '24', '15', '100', '80',\n",
              "       '28', '36', '19', '48', '25', '17', '27', '47', '23', '44', '120',\n",
              "       '300', '33', '90', '140', '130', '31', '160', '34', '99', '78',\n",
              "       '36073122', '110', '53', '270', '51', '21', '75', '29', '150',\n",
              "       '39', '42', '70824812', '52', '46', '76', '35', '88'], dtype=object)"
            ]
          },
          "execution_count": 79,
          "metadata": {},
          "output_type": "execute_result"
        }
      ],
      "source": [
        "df['beds'].unique()"
      ]
    },
    {
      "cell_type": "code",
      "execution_count": null,
      "id": "bced9863-fcaf-4040-a289-2cf6818a9f4e",
      "metadata": {
        "id": "bced9863-fcaf-4040-a289-2cf6818a9f4e"
      },
      "outputs": [],
      "source": [
        "df['beds']=df['beds'].astype('Int64')"
      ]
    },
    {
      "cell_type": "code",
      "execution_count": null,
      "id": "0a4f6572-0f8f-413b-82f8-ba08a24b551a",
      "metadata": {
        "id": "0a4f6572-0f8f-413b-82f8-ba08a24b551a"
      },
      "outputs": [],
      "source": [
        "df.loc[df.beds>10, 'beds']=np.nan"
      ]
    },
    {
      "cell_type": "markdown",
      "id": "757086ca-f4ec-48fb-911f-be91d1c5ba0e",
      "metadata": {
        "id": "757086ca-f4ec-48fb-911f-be91d1c5ba0e"
      },
      "source": [
        "Работа с дублями:"
      ]
    },
    {
      "cell_type": "code",
      "execution_count": null,
      "id": "16f2fafd-eb85-4855-8cc9-0db546cf7086",
      "metadata": {
        "id": "16f2fafd-eb85-4855-8cc9-0db546cf7086",
        "outputId": "c7c1d232-389d-41c8-9aa3-b075011dbff6"
      },
      "outputs": [
        {
          "data": {
            "text/plain": [
              "3"
            ]
          },
          "execution_count": 82,
          "metadata": {},
          "output_type": "execute_result"
        }
      ],
      "source": [
        "df.drop('beds',axis=1).duplicated().sum()"
      ]
    },
    {
      "cell_type": "code",
      "execution_count": null,
      "id": "58468942-3ab1-4af8-9572-11575737483c",
      "metadata": {
        "id": "58468942-3ab1-4af8-9572-11575737483c"
      },
      "outputs": [],
      "source": [
        "df = df.drop_duplicates(subset=df.columns.difference(['beds']), keep='last')"
      ]
    },
    {
      "cell_type": "code",
      "execution_count": null,
      "id": "62c2fc22-37b9-44d9-9418-de650d2efbbe",
      "metadata": {
        "id": "62c2fc22-37b9-44d9-9418-de650d2efbbe",
        "outputId": "fab34cac-b7b3-4177-c3a8-f2900ded0313"
      },
      "outputs": [
        {
          "data": {
            "text/plain": [
              "245181"
            ]
          },
          "execution_count": 84,
          "metadata": {},
          "output_type": "execute_result"
        }
      ],
      "source": [
        "df['beds'].value_counts().sum()"
      ]
    },
    {
      "cell_type": "markdown",
      "id": "05d2f13d-b3f7-41d7-a639-c009002e43c3",
      "metadata": {
        "id": "05d2f13d-b3f7-41d7-a639-c009002e43c3"
      },
      "source": [
        "<h4>9.'street'</h4>"
      ]
    },
    {
      "cell_type": "code",
      "execution_count": null,
      "id": "5a60d90a-14da-447d-9c6b-2d3a30cba9ae",
      "metadata": {
        "id": "5a60d90a-14da-447d-9c6b-2d3a30cba9ae",
        "outputId": "2d4635ba-e057-4450-cf65-92d936f0f155"
      },
      "outputs": [
        {
          "data": {
            "text/plain": [
              "street\n",
              "Address Not Disclosed          672\n",
              "Undisclosed Address            510\n",
              "(undisclosed Address)          390\n",
              "Address Not Available          174\n",
              "Unknown Address                 70\n",
              "2103 E State Hwy 21             56\n",
              "11305 Gulf Fwy                  50\n",
              "17030 Youngblood Rd.            38\n",
              "9470 Lancaster Rd. SW           32\n",
              "NE 58th Cir                     27\n",
              "9845 Basil Western Rd NW        25\n",
              "8426 Terrace Valley Circle      25\n",
              "1 Palmer Dr                     25\n",
              "6320 SW 89th Court Road         24\n",
              "8447 SW 99th Street Rd          22\n",
              "Whitetail Trail                 19\n",
              "5221 S. Zapata Hwy              19\n",
              "Stone Bluff Drive               18\n",
              "1365 Neihart Way                17\n",
              "2005 West Happy Valley Road     17\n",
              "Name: count, dtype: int64"
            ]
          },
          "execution_count": 85,
          "metadata": {},
          "output_type": "execute_result"
        }
      ],
      "source": [
        "df['street'].value_counts()[0:20]"
      ]
    },
    {
      "cell_type": "markdown",
      "id": "10266edd-cdef-436a-879c-4d9edb8d72e4",
      "metadata": {
        "id": "10266edd-cdef-436a-879c-4d9edb8d72e4"
      },
      "source": [
        "Значения сильно вариативны, нет преобладающих, удалим признак"
      ]
    },
    {
      "cell_type": "code",
      "execution_count": null,
      "id": "5390ac4b-7af9-4c4f-8a24-6bcafa4f959b",
      "metadata": {
        "id": "5390ac4b-7af9-4c4f-8a24-6bcafa4f959b"
      },
      "outputs": [],
      "source": [
        "df=df.drop('street', axis=1)"
      ]
    },
    {
      "cell_type": "markdown",
      "id": "93207239-f4c0-4f3c-9005-1c9848781676",
      "metadata": {
        "id": "93207239-f4c0-4f3c-9005-1c9848781676"
      },
      "source": [
        "<h4>10.'state'</h4>"
      ]
    },
    {
      "cell_type": "code",
      "execution_count": null,
      "id": "b03051e8-a01f-4fb2-ab6f-b7882760218f",
      "metadata": {
        "id": "b03051e8-a01f-4fb2-ab6f-b7882760218f",
        "outputId": "dbbed97f-2b2d-4c76-ff99-2770991a6fec"
      },
      "outputs": [
        {
          "data": {
            "text/plain": [
              "369297"
            ]
          },
          "execution_count": 87,
          "metadata": {},
          "output_type": "execute_result"
        }
      ],
      "source": [
        "df['state'].value_counts()[0:20].sum()"
      ]
    },
    {
      "cell_type": "markdown",
      "id": "284d01af-ea4c-445d-98d6-bd441670511a",
      "metadata": {
        "id": "284d01af-ea4c-445d-98d6-bd441670511a"
      },
      "source": [
        "Попробуем закодировать их в label_encoder"
      ]
    },
    {
      "cell_type": "code",
      "execution_count": null,
      "id": "062cc60f-5f49-421b-93c3-8c35adfb2cf4",
      "metadata": {
        "id": "062cc60f-5f49-421b-93c3-8c35adfb2cf4",
        "outputId": "f5e97164-9882-490d-8a2a-78a06ecab560"
      },
      "outputs": [
        {
          "data": {
            "text/plain": [
              "20"
            ]
          },
          "execution_count": 88,
          "metadata": {},
          "output_type": "execute_result"
        }
      ],
      "source": [
        "objects_to_encode = df['state'].value_counts().index.tolist()[:20]\n",
        "len(objects_to_encode) #20 самых частых значений"
      ]
    },
    {
      "cell_type": "code",
      "execution_count": null,
      "id": "24025bae-f38c-4b8c-9412-8a27579fbbcb",
      "metadata": {
        "id": "24025bae-f38c-4b8c-9412-8a27579fbbcb"
      },
      "outputs": [],
      "source": [
        "#df = df.reset_index(drop=True)"
      ]
    },
    {
      "cell_type": "code",
      "execution_count": null,
      "id": "37ba84d1-8fab-4f24-aedc-ad0925b78684",
      "metadata": {
        "id": "37ba84d1-8fab-4f24-aedc-ad0925b78684"
      },
      "outputs": [],
      "source": [
        "df.loc[~df['state'].isin(objects_to_encode), 'state'] = np.nan"
      ]
    },
    {
      "cell_type": "code",
      "execution_count": null,
      "id": "5d6e0267-c0a8-4d8d-94c2-7238771516c3",
      "metadata": {
        "id": "5d6e0267-c0a8-4d8d-94c2-7238771516c3"
      },
      "outputs": [],
      "source": [
        "from sklearn.preprocessing import LabelEncoder\n",
        "\n",
        "# Создание экземпляра LabelEncoder\n",
        "label_encoder = LabelEncoder()\n",
        "\n",
        "# Применение LabelEncoder к столбцу 'state'\n",
        "df['state'] = label_encoder.fit_transform(df['state'])"
      ]
    },
    {
      "cell_type": "code",
      "execution_count": null,
      "id": "46e59f18-2510-4ec3-8272-9ba479780648",
      "metadata": {
        "id": "46e59f18-2510-4ec3-8272-9ba479780648",
        "outputId": "06391069-486d-43f0-9053-eb4b750fc269"
      },
      "outputs": [
        {
          "data": {
            "text/plain": [
              "array(['AZ', 'CA', 'CO', 'DC', 'FL', 'GA', 'IL', 'IN', 'MA', 'MI', 'NC',\n",
              "       'NV', 'NY', 'OH', 'OR', 'PA', 'TN', 'TX', 'UT', 'WA', nan],\n",
              "      dtype=object)"
            ]
          },
          "execution_count": 92,
          "metadata": {},
          "output_type": "execute_result"
        }
      ],
      "source": [
        "label_encoder.classes_"
      ]
    },
    {
      "cell_type": "code",
      "execution_count": null,
      "id": "58f16c7d-148f-49f1-9aa1-37c588909015",
      "metadata": {
        "id": "58f16c7d-148f-49f1-9aa1-37c588909015",
        "outputId": "a134546e-5747-4144-abba-3e616369828f"
      },
      "outputs": [
        {
          "data": {
            "text/plain": [
              "state\n",
              "4     114601\n",
              "17     83305\n",
              "12     24332\n",
              "1      23204\n",
              "10     21769\n",
              "16     18224\n",
              "19     13719\n",
              "13     12418\n",
              "6       8848\n",
              "11      8421\n",
              "5       6635\n",
              "2       6372\n",
              "15      5508\n",
              "20      5191\n",
              "9       5125\n",
              "3       4583\n",
              "0       3345\n",
              "7       3293\n",
              "14      2778\n",
              "8       1498\n",
              "18      1319\n",
              "Name: count, dtype: int64"
            ]
          },
          "execution_count": 93,
          "metadata": {},
          "output_type": "execute_result"
        }
      ],
      "source": [
        "df['state'].value_counts()"
      ]
    },
    {
      "cell_type": "markdown",
      "id": "57a8cc41-05c6-4622-ba64-ce2e34de949b",
      "metadata": {
        "id": "57a8cc41-05c6-4622-ba64-ce2e34de949b"
      },
      "source": [
        "<h4>11.'zipcode'</h4>"
      ]
    },
    {
      "cell_type": "code",
      "execution_count": null,
      "id": "1e9f2779-2dcb-4e1f-821d-b0fa777d733d",
      "metadata": {
        "id": "1e9f2779-2dcb-4e1f-821d-b0fa777d733d",
        "outputId": "82ba8fe0-0fa4-4874-9c90-b1f227e53432"
      },
      "outputs": [
        {
          "data": {
            "text/plain": [
              "zipcode\n",
              "32137    2138\n",
              "33131    1561\n",
              "34747    1486\n",
              "78245    1383\n",
              "34759    1333\n",
              "33132    1327\n",
              "33137    1306\n",
              "78253    1278\n",
              "78254    1228\n",
              "33130    1168\n",
              "34746    1150\n",
              "32164    1106\n",
              "33160    1103\n",
              "33133    1063\n",
              "33308    1023\n",
              "33178    1002\n",
              "33141     982\n",
              "77845     962\n",
              "33140     953\n",
              "33304     950\n",
              "Name: count, dtype: int64"
            ]
          },
          "execution_count": 94,
          "metadata": {},
          "output_type": "execute_result"
        }
      ],
      "source": [
        "df['zipcode'].value_counts()[0:20]"
      ]
    },
    {
      "cell_type": "code",
      "execution_count": null,
      "id": "42fce69e-d5d7-4ca3-9415-c4a0cf7547c5",
      "metadata": {
        "id": "42fce69e-d5d7-4ca3-9415-c4a0cf7547c5"
      },
      "outputs": [],
      "source": [
        "df=df.drop('zipcode', axis=1)"
      ]
    },
    {
      "cell_type": "markdown",
      "id": "8be4425e-2976-47f8-82fa-4030ae784739",
      "metadata": {
        "id": "8be4425e-2976-47f8-82fa-4030ae784739"
      },
      "source": [
        "<h4>12. 'city'</h4>"
      ]
    },
    {
      "cell_type": "code",
      "execution_count": null,
      "id": "3d30de46-a887-4f0c-b88f-6a571adb353b",
      "metadata": {
        "id": "3d30de46-a887-4f0c-b88f-6a571adb353b",
        "outputId": "1b471842-81dd-4be2-def7-df4ae4c986bc"
      },
      "outputs": [
        {
          "data": {
            "text/plain": [
              "31"
            ]
          },
          "execution_count": 96,
          "metadata": {},
          "output_type": "execute_result"
        }
      ],
      "source": [
        "df.city.isnull().sum()  #пустых значений немного и это хорошо ;)"
      ]
    },
    {
      "cell_type": "code",
      "execution_count": null,
      "id": "5d416bf4-db3e-46b4-a4f6-42887f343f86",
      "metadata": {
        "id": "5d416bf4-db3e-46b4-a4f6-42887f343f86"
      },
      "outputs": [],
      "source": [
        "df['city'] = df['city'].str.lower()"
      ]
    },
    {
      "cell_type": "code",
      "execution_count": null,
      "id": "12b80cbc-8377-4e94-b33e-ba567bd2ba64",
      "metadata": {
        "id": "12b80cbc-8377-4e94-b33e-ba567bd2ba64",
        "outputId": "8510acfa-c9f4-47dc-b461-d109cb409b9b"
      },
      "outputs": [
        {
          "data": {
            "text/plain": [
              "256"
            ]
          },
          "execution_count": 98,
          "metadata": {},
          "output_type": "execute_result"
        }
      ],
      "source": [
        "objects_to_encode1 = df['city'].value_counts().index.tolist()[:256]\n",
        "len(objects_to_encode1) #20 самых частых значений"
      ]
    },
    {
      "cell_type": "code",
      "execution_count": null,
      "id": "cc3ade07-d1cd-4c99-bed2-f93a9c97c804",
      "metadata": {
        "id": "cc3ade07-d1cd-4c99-bed2-f93a9c97c804"
      },
      "outputs": [],
      "source": [
        "df.loc[~df['city'].isin(objects_to_encode1), 'city'] = np.nan"
      ]
    },
    {
      "cell_type": "code",
      "execution_count": null,
      "id": "cf659cf1-c12b-49e2-bcd9-67d6430e9eb3",
      "metadata": {
        "id": "cf659cf1-c12b-49e2-bcd9-67d6430e9eb3"
      },
      "outputs": [],
      "source": [
        "#Создание экземпляра LabelEncoder\n",
        "label_encoder1 = LabelEncoder()\n",
        "\n",
        "#Применение LabelEncoder к столбцу 'state'\n",
        "df['city'] = label_encoder1.fit_transform(df['city'])"
      ]
    },
    {
      "cell_type": "code",
      "execution_count": null,
      "id": "0a8ede82-e04a-4f9a-baa4-9ab6be5a962d",
      "metadata": {
        "id": "0a8ede82-e04a-4f9a-baa4-9ab6be5a962d",
        "outputId": "f63ddd8a-a7d5-4f3c-923d-92ca149bdf8d"
      },
      "outputs": [
        {
          "data": {
            "text/plain": [
              "array(['albany', 'amarillo', 'anaheim', 'antioch', 'arlington',\n",
              "       'asheville', 'atlanta', 'aurora', 'austin', 'aventura',\n",
              "       'bainbridge island', 'bal harbour', 'bay harbor islands',\n",
              "       'bayside', 'beaumont', 'belleview', 'bellevue', 'bellingham',\n",
              "       'beverly hills', 'binghamton', 'bonita springs', 'boston',\n",
              "       'brandon', 'bremerton', 'brentwood', 'bronx', 'brooklyn',\n",
              "       'brooksville', 'brownsville', 'bryan', 'buckeye', 'buffalo',\n",
              "       'burlington', 'canal winchester', 'cape coral', 'cary',\n",
              "       'celebration', 'charlotte', 'chattanooga', 'chicago', 'cincinnati',\n",
              "       'clarksville', 'clearwater', 'cleveland', 'cleveland heights',\n",
              "       'college station', 'columbus', 'concord', 'conroe', 'coral gables',\n",
              "       'coral springs', 'crystal lake', 'cutler bay', 'dallas', 'davie',\n",
              "       'deltona', 'denton', 'denver', 'des moines', 'detroit', 'doral',\n",
              "       'dunnellon', 'durham', 'el paso', 'englewood', 'euclid', 'everett',\n",
              "       'fairfield', 'farmers branch', 'fayetteville', 'flushing',\n",
              "       'forest hills', 'fort lauderdale', 'fort worth', 'franklin',\n",
              "       'fremont', 'fresno', 'gainesville', 'garfield heights', 'garland',\n",
              "       'gastonia', 'glendale', 'grand prairie', 'greensboro',\n",
              "       'greenville', 'gulfport', 'henderson', 'hermitage', 'hialeah',\n",
              "       'hickory', 'high point', 'hixson', 'hollywood', 'horizon city',\n",
              "       'houston', 'huffman', 'huntersville', 'huntington beach',\n",
              "       'huntley', 'indianapolis', 'irvine', 'irving', 'jacksonville',\n",
              "       'jacksonville beach', 'jamaica', 'johnson city', 'kennewick',\n",
              "       'kent', 'key biscayne', 'killeen', 'kingsport', 'kingwood',\n",
              "       'kissimmee', 'knoxville', 'la jolla', 'lakeland', 'lakeway',\n",
              "       'lakewood', 'lancaster', 'laredo', 'las vegas', 'lauderdale lakes',\n",
              "       'lauderhill', 'league city', 'leesburg', 'lehigh acres',\n",
              "       'litchfield park', 'littleton', 'longview', 'los angeles',\n",
              "       'lubbock', 'magnolia', 'maple heights', 'marysville', 'matthews',\n",
              "       'mcallen', 'mckinney', 'memphis', 'miami', 'miami beach',\n",
              "       'miami gardens', 'miami lakes', 'miami shores', 'midland',\n",
              "       'milwaukee', 'mint hill', 'miramar', 'mocksville', 'mooresville',\n",
              "       'murfreesboro', 'nashville', 'new york', 'north bay village',\n",
              "       'north fort myers', 'north miami', 'north miami beach',\n",
              "       'north richland hills', 'oakland', 'oakland park', 'ocala',\n",
              "       'old hickory', 'olympia', 'ooltewah', 'orlando', 'palm bay',\n",
              "       'palm coast', 'palmetto bay', 'panama city', 'panama city beach',\n",
              "       'parkland', 'parma', 'pasadena', 'pearland', 'pembroke pines',\n",
              "       'pensacola', 'peoria', 'philadelphia', 'phoenix', 'pickerington',\n",
              "       'pinecrest', 'placida', 'plantation', 'poinciana', 'pompano beach',\n",
              "       'port charlotte', 'port saint lucie', 'portland', 'pt saint lucie',\n",
              "       'punta gorda', 'raleigh', 'reno', 'renton', 'reunion', 'richmond',\n",
              "       'rotonda west', 'round rock', 'sacramento', 'saginaw',\n",
              "       'saint johns', 'saint louis', 'saint petersburg', 'salem',\n",
              "       'salt lake city', 'san antonio', 'san diego', 'san francisco',\n",
              "       'san jose', 'sandy springs', 'santa ana', 'sarasota', 'seattle',\n",
              "       'shaker heights', 'shoreline', 'signal mountain', 'soddy daisy',\n",
              "       'solon', 'south euclid', 'southwest ranches', 'spokane', 'spring',\n",
              "       'spring hill', 'springfield', 'st johns', 'st pete beach',\n",
              "       'st petersburg', 'staten island', 'statesville',\n",
              "       'sunny isles beach', 'sunrise', 'surfside', 'surprise', 'syracuse',\n",
              "       'tacoma', 'tallahassee', 'tamarac', 'tampa', 'temple terrace',\n",
              "       'texas city', 'the woodlands', 'thornton', 'tierra verde',\n",
              "       'tomball', 'treasure island', 'tyler', 'vacaville', 'vancouver',\n",
              "       'waco', 'washington', 'west palm beach', 'weston', 'wilmington',\n",
              "       'wilton manors', 'winston salem', 'winter haven', 'woodstock',\n",
              "       'yakima', nan], dtype=object)"
            ]
          },
          "execution_count": 101,
          "metadata": {},
          "output_type": "execute_result"
        }
      ],
      "source": [
        "label_encoder1.classes_"
      ]
    },
    {
      "cell_type": "code",
      "execution_count": null,
      "id": "0a9d4994-84e7-478a-8415-76d261de83e7",
      "metadata": {
        "id": "0a9d4994-84e7-478a-8415-76d261de83e7",
        "outputId": "09af4430-f656-42d1-ec7a-2e66848c8a0c"
      },
      "outputs": [
        {
          "data": {
            "text/plain": [
              "city\n",
              "256    43790\n",
              "94     24394\n",
              "203    15499\n",
              "138    15413\n",
              "102     9901\n",
              "       ...  \n",
              "222      188\n",
              "13       188\n",
              "23       185\n",
              "68       184\n",
              "95       183\n",
              "Name: count, Length: 257, dtype: int64"
            ]
          },
          "execution_count": 102,
          "metadata": {},
          "output_type": "execute_result"
        }
      ],
      "source": [
        "df['city'].value_counts()"
      ]
    },
    {
      "cell_type": "code",
      "execution_count": null,
      "id": "1c46de1d-5e24-4320-9545-2c9261b920c6",
      "metadata": {
        "id": "1c46de1d-5e24-4320-9545-2c9261b920c6"
      },
      "outputs": [],
      "source": [
        "#df=df.drop('city', axis=1)"
      ]
    },
    {
      "cell_type": "markdown",
      "id": "3859303f-f42e-4bae-b376-654a84a77848",
      "metadata": {
        "id": "3859303f-f42e-4bae-b376-654a84a77848"
      },
      "source": [
        "Перейдём к более сложным моментам"
      ]
    },
    {
      "cell_type": "markdown",
      "id": "ba101fd8-d613-464e-aaf3-ec26ae2a4bc6",
      "metadata": {
        "id": "ba101fd8-d613-464e-aaf3-ec26ae2a4bc6"
      },
      "source": [
        "<h4>13.'status'</h4>"
      ]
    },
    {
      "cell_type": "code",
      "execution_count": null,
      "id": "3a92c396-12e1-45d2-835c-9636ecacb1a8",
      "metadata": {
        "id": "3a92c396-12e1-45d2-835c-9636ecacb1a8",
        "outputId": "5bf421d9-581b-4523-e978-5979e3a09315"
      },
      "outputs": [
        {
          "data": {
            "text/plain": [
              "39254"
            ]
          },
          "execution_count": 104,
          "metadata": {},
          "output_type": "execute_result"
        }
      ],
      "source": [
        "df.status.isnull().sum()"
      ]
    },
    {
      "cell_type": "code",
      "execution_count": null,
      "id": "c64bbff6-dec0-4717-b07b-0c634cdaadfc",
      "metadata": {
        "id": "c64bbff6-dec0-4717-b07b-0c634cdaadfc",
        "outputId": "2f65d19c-849c-4616-fa63-b43525ad899c"
      },
      "outputs": [
        {
          "data": {
            "text/plain": [
              "334319"
            ]
          },
          "execution_count": 105,
          "metadata": {},
          "output_type": "execute_result"
        }
      ],
      "source": [
        "df.status.value_counts()[0:30].sum()"
      ]
    },
    {
      "cell_type": "code",
      "execution_count": null,
      "id": "e75997bf-5949-45b0-bdd6-06b4446726e9",
      "metadata": {
        "id": "e75997bf-5949-45b0-bdd6-06b4446726e9",
        "outputId": "5bac8a8d-543e-4214-c32d-0f309c890d0a"
      },
      "outputs": [
        {
          "data": {
            "text/plain": [
              "array(['Active', 'for sale', nan, 'New construction', 'New', 'For sale',\n",
              "       'Pending', 'P', 'Active/Contingent', ' / auction',\n",
              "       'Under Contract', 'Pre-foreclosure / auction',\n",
              "       'Under Contract   Showing', 'Pre-foreclosure',\n",
              "       'Under Contract Backups', 'Active Under Contract', 'foreclosure',\n",
              "       'Foreclosed', 'Option Pending', 'Under Contract Show', 'for rent',\n",
              "       'Auction', 'A Active', 'Contingent', 'Pending   Continue To Show',\n",
              "       'Price Change', 'Back on Market', 'Active Option', 'Foreclosure',\n",
              "       'Coming soon: Nov 21.', 'Contingent Finance And Inspection',\n",
              "       'Coming soon: Dec 4.', 'P Pending Sale', 'Coming soon: Nov 23.',\n",
              "       'Active With Contingencies', 'Pending Ab', 'Pf', 'Contingent Show',\n",
              "       'Contract P', 'Contingent Take Backup', 'Apartment for rent',\n",
              "       'Backup Contract', 'Option Contract', 'Pending Continue To Show',\n",
              "       'pending', 'Pending Inspection', 'Active Option Contract', 'C',\n",
              "       'Auction - Active', 'Contingent   Show', 'Pi',\n",
              "       'Due Diligence Period', 'Contract Contingent On Buyer Sale',\n",
              "       'U Under Contract', 'Coming soon: Nov 29.', 'Coming soon: Dec 2.',\n",
              "       'Active Contingency', 'Pending With Contingencies',\n",
              "       'Lease/Purchase Pending', 'Pending Bring Backup',\n",
              "       'C Continue Show', 'Pending Taking Backups',\n",
              "       'Offer Pending Signature', 'Under Contract - Show',\n",
              "       'Contingent Lien Holder Release', 'Active - Auction',\n",
              "       'Active With Offer', 'Coming soon: Nov 30.', 'Listing Extended',\n",
              "       'Pending, Continue to Show', 'For Sale', 'Contingency Contract',\n",
              "       'Coming soon: Dec 10.', 'Contingent Escape',\n",
              "       'Pending - Taking Backups', 'Coming soon: Dec 24.',\n",
              "       'Active Backup', 'Coming soon: Nov 14.', 'Coming soon: Nov 22.',\n",
              "       'Coming soon: Oct 21.', 'Under contract', 'Coming soon: Dec 14.',\n",
              "       'Coming soon: Oct 24.', 'Condo for rent', 'Active Contingent',\n",
              "       'Coming soon: Dec 18.', 'Pending Offer Approval', 'Pending In',\n",
              "       'Coming soon: Dec 16.', 'Ct', 'Pending W/Insp Finance',\n",
              "       'Coming soon: Dec 3.', 'Coming soon: Dec 25.',\n",
              "       'Coming soon: Nov 11.', 'Coming soon: Nov 28.',\n",
              "       'Contingent Finance and Inspection', 'Temporary Active',\n",
              "       'CT Insp - Inspection Contingency', 'Coming soon: Nov 17.',\n",
              "       'Pending (Do Not Show)', 'Contingency 48 Hr (+/ )',\n",
              "       'Pending   Continue To Show   Financing', 'Pending W/ Cont.',\n",
              "       'Coming soon: Dec 6.', 'Back On Market', 'Coming soon: Nov 27.',\n",
              "       'Pending W/Escape Clause', 'Coming soon: Nov 26.',\n",
              "       'Pending - Continue to Show', 'Closed', 'Under Contract - No Show',\n",
              "       'Contract', 'Coming soon: Dec 7.', 'Coming soon: Dec 27.',\n",
              "       'Coming soon: Dec 11.', 'Coming soon: Dec 5.',\n",
              "       'Coming soon: Nov 13.', 'Contingent   Release', 'Accepted Offer',\n",
              "       'Conditional Contract', 'Active - Contingent',\n",
              "       'Active with Contract', 'Coming soon: Nov 19.',\n",
              "       'Coming soon: Nov 8.', 'Coming soon: Oct 29.',\n",
              "       'Coming soon: Dec 15.', 'Pending W/Backup Wanted',\n",
              "       'Pending Backups Wanted', 'Pending Fe', 'Coming soon: Oct 30.',\n",
              "       'Contingent   No Show', 'Coming soon: Dec 9.', 'Pending Sale',\n",
              "       'Accepting backups', 'Coming soon: Dec 20.',\n",
              "       'Pending Take Backups', 'Contingent   Foreclosure',\n",
              "       'Conting Accpt Backups', 'Lease/Purchase', 'Coming soon: Dec 13.',\n",
              "       'Contingent - Sale of Home', 'Ps', 'Under Contract W/ Bckp',\n",
              "       'Re Activated', 'Pending - Backup Offer Requested',\n",
              "       'Coming soon: Dec 12.', 'Reactivated', 'Uc Continue To Show',\n",
              "       'Contingent - Financing', 'Coming soon: Nov 5.',\n",
              "       'Coming soon: Nov 12.', 'Coming soon: Dec 1.', 'Pending Sh',\n",
              "       'Coming soon: Nov 25.', 'Under Contract Taking Back Up Offers',\n",
              "       'Backup', 'Coming soon: Dec 23.'], dtype=object)"
            ]
          },
          "execution_count": 106,
          "metadata": {},
          "output_type": "execute_result"
        }
      ],
      "source": [
        "df['status'].unique()"
      ]
    },
    {
      "cell_type": "code",
      "execution_count": null,
      "id": "b7201a9e-6c4a-4847-bef8-0fcda738161b",
      "metadata": {
        "id": "b7201a9e-6c4a-4847-bef8-0fcda738161b"
      },
      "outputs": [],
      "source": [
        "df['status']=df['status'].str.lower()"
      ]
    },
    {
      "cell_type": "code",
      "execution_count": null,
      "id": "19e3fd8c-9b7b-44b8-92f9-bb1e25c49a7c",
      "metadata": {
        "id": "19e3fd8c-9b7b-44b8-92f9-bb1e25c49a7c"
      },
      "outputs": [],
      "source": [
        "df['status']=df['status'].str.replace(',','').str.replace('/', '').str.replace('-', '').str.replace(' ', '')"
      ]
    },
    {
      "cell_type": "code",
      "execution_count": null,
      "id": "ccf3a5c1-a0b9-43b1-8889-d0514cc239e7",
      "metadata": {
        "id": "ccf3a5c1-a0b9-43b1-8889-d0514cc239e7",
        "outputId": "389cf95e-c8d9-4c9f-9ced-11a1f03ddd10"
      },
      "outputs": [
        {
          "data": {
            "text/plain": [
              "array(['active', 'forsale', nan, 'newconstruction', 'new', 'pending', 'p',\n",
              "       'activecontingent', 'auction', 'undercontract',\n",
              "       'preforeclosureauction', 'undercontractshowing', 'preforeclosure',\n",
              "       'undercontractbackups', 'activeundercontract', 'foreclosure',\n",
              "       'foreclosed', 'optionpending', 'undercontractshow', 'forrent',\n",
              "       'aactive', 'contingent', 'pendingcontinuetoshow', 'pricechange',\n",
              "       'backonmarket', 'activeoption', 'comingsoon:nov21.',\n",
              "       'contingentfinanceandinspection', 'comingsoon:dec4.',\n",
              "       'ppendingsale', 'comingsoon:nov23.', 'activewithcontingencies',\n",
              "       'pendingab', 'pf', 'contingentshow', 'contractp',\n",
              "       'contingenttakebackup', 'apartmentforrent', 'backupcontract',\n",
              "       'optioncontract', 'pendinginspection', 'activeoptioncontract', 'c',\n",
              "       'auctionactive', 'pi', 'duediligenceperiod',\n",
              "       'contractcontingentonbuyersale', 'uundercontract',\n",
              "       'comingsoon:nov29.', 'comingsoon:dec2.', 'activecontingency',\n",
              "       'pendingwithcontingencies', 'leasepurchasepending',\n",
              "       'pendingbringbackup', 'ccontinueshow', 'pendingtakingbackups',\n",
              "       'offerpendingsignature', 'contingentlienholderrelease',\n",
              "       'activeauction', 'activewithoffer', 'comingsoon:nov30.',\n",
              "       'listingextended', 'contingencycontract', 'comingsoon:dec10.',\n",
              "       'contingentescape', 'comingsoon:dec24.', 'activebackup',\n",
              "       'comingsoon:nov14.', 'comingsoon:nov22.', 'comingsoon:oct21.',\n",
              "       'comingsoon:dec14.', 'comingsoon:oct24.', 'condoforrent',\n",
              "       'comingsoon:dec18.', 'pendingofferapproval', 'pendingin',\n",
              "       'comingsoon:dec16.', 'ct', 'pendingwinspfinance',\n",
              "       'comingsoon:dec3.', 'comingsoon:dec25.', 'comingsoon:nov11.',\n",
              "       'comingsoon:nov28.', 'temporaryactive',\n",
              "       'ctinspinspectioncontingency', 'comingsoon:nov17.',\n",
              "       'pending(donotshow)', 'contingency48hr(+)',\n",
              "       'pendingcontinuetoshowfinancing', 'pendingwcont.',\n",
              "       'comingsoon:dec6.', 'comingsoon:nov27.', 'pendingwescapeclause',\n",
              "       'comingsoon:nov26.', 'closed', 'undercontractnoshow', 'contract',\n",
              "       'comingsoon:dec7.', 'comingsoon:dec27.', 'comingsoon:dec11.',\n",
              "       'comingsoon:dec5.', 'comingsoon:nov13.', 'contingentrelease',\n",
              "       'acceptedoffer', 'conditionalcontract', 'activewithcontract',\n",
              "       'comingsoon:nov19.', 'comingsoon:nov8.', 'comingsoon:oct29.',\n",
              "       'comingsoon:dec15.', 'pendingwbackupwanted',\n",
              "       'pendingbackupswanted', 'pendingfe', 'comingsoon:oct30.',\n",
              "       'contingentnoshow', 'comingsoon:dec9.', 'pendingsale',\n",
              "       'acceptingbackups', 'comingsoon:dec20.', 'pendingtakebackups',\n",
              "       'contingentforeclosure', 'contingaccptbackups', 'leasepurchase',\n",
              "       'comingsoon:dec13.', 'contingentsaleofhome', 'ps',\n",
              "       'undercontractwbckp', 'reactivated', 'pendingbackupofferrequested',\n",
              "       'comingsoon:dec12.', 'uccontinuetoshow', 'contingentfinancing',\n",
              "       'comingsoon:nov5.', 'comingsoon:nov12.', 'comingsoon:dec1.',\n",
              "       'pendingsh', 'comingsoon:nov25.',\n",
              "       'undercontracttakingbackupoffers', 'backup', 'comingsoon:dec23.'],\n",
              "      dtype=object)"
            ]
          },
          "execution_count": 109,
          "metadata": {},
          "output_type": "execute_result"
        }
      ],
      "source": [
        "df['status'].unique()"
      ]
    },
    {
      "cell_type": "code",
      "execution_count": null,
      "id": "f12876c8-7afa-4616-bd4a-6d887ca65659",
      "metadata": {
        "id": "f12876c8-7afa-4616-bd4a-6d887ca65659",
        "outputId": "118da4e1-519e-4513-9d11-779404eb51ba"
      },
      "outputs": [
        {
          "data": {
            "text/plain": [
              "status\n",
              "forsale                  199480\n",
              "active                   105086\n",
              "foreclosure                6018\n",
              "newconstruction            5457\n",
              "pending                    4801\n",
              "preforeclosure             2000\n",
              "p                          1488\n",
              "auction                    1292\n",
              "preforeclosureauction      1281\n",
              "undercontractshow          1192\n",
              "undercontractshowing        792\n",
              "activeundercontract         718\n",
              "undercontract               692\n",
              "new                         690\n",
              "contingent                  581\n",
              "pricechange                 563\n",
              "aactive                     443\n",
              "forrent                     398\n",
              "foreclosed                  294\n",
              "undercontractbackups        252\n",
              "Name: count, dtype: int64"
            ]
          },
          "execution_count": 110,
          "metadata": {},
          "output_type": "execute_result"
        }
      ],
      "source": [
        "df['status'].value_counts()[0:20]"
      ]
    },
    {
      "cell_type": "code",
      "execution_count": null,
      "id": "89aed9e1-46a7-46d9-92bf-2cd8ff218dab",
      "metadata": {
        "id": "89aed9e1-46a7-46d9-92bf-2cd8ff218dab"
      },
      "outputs": [],
      "source": [
        "#'foreclosed' ('foreclosure')\n",
        "df['status']=df['status'].str.replace('foreclosure', 'foreclosed')"
      ]
    },
    {
      "cell_type": "code",
      "execution_count": null,
      "id": "6c0ee49d-2b9e-4ccb-ba14-f73772a63b61",
      "metadata": {
        "id": "6c0ee49d-2b9e-4ccb-ba14-f73772a63b61"
      },
      "outputs": [],
      "source": [
        "#'pre foreclosure' ('pre foreclosure auction')\n",
        "df['status']=df['status'].str.replace('preforeclosureauction', 'preforeclosure')"
      ]
    },
    {
      "cell_type": "code",
      "execution_count": null,
      "id": "cff0ac3c-53fb-4abf-9c05-54f2bdbda95f",
      "metadata": {
        "id": "cff0ac3c-53fb-4abf-9c05-54f2bdbda95f"
      },
      "outputs": [],
      "source": [
        "#'under contract showing' ('under contract show', 'under contract', 'activeunder contract')\n",
        "df['status']=df['status'].str.replace('undercontractshowing', 'undercontract').str.replace('undercontractshow','undercontract').str.replace('activeundercontract','undercontract')"
      ]
    },
    {
      "cell_type": "code",
      "execution_count": null,
      "id": "f492688d-436f-4d01-ad0a-e00376e530df",
      "metadata": {
        "id": "f492688d-436f-4d01-ad0a-e00376e530df"
      },
      "outputs": [],
      "source": [
        "#'newconstruction','new'\n",
        "df['status']=df['status'].str.replace('newconstruction','new')"
      ]
    },
    {
      "cell_type": "code",
      "execution_count": null,
      "id": "c7b3b8f0-d09b-4e0f-9ecd-e084f570f382",
      "metadata": {
        "id": "c7b3b8f0-d09b-4e0f-9ecd-e084f570f382"
      },
      "outputs": [],
      "source": [
        "df['status']=df['status'].str.replace('preforeclosed','preforeclosure').str.replace('preforeclosureauction', 'preforeclosure')"
      ]
    },
    {
      "cell_type": "code",
      "execution_count": null,
      "id": "15254a58-c4bb-42ed-89a4-fd2c3cb81bac",
      "metadata": {
        "id": "15254a58-c4bb-42ed-89a4-fd2c3cb81bac"
      },
      "outputs": [],
      "source": [
        "df['status']=df['status'].str.replace('aactive','active')"
      ]
    },
    {
      "cell_type": "code",
      "execution_count": null,
      "id": "74d8941f-8662-4e73-bafa-71aef9cdf609",
      "metadata": {
        "id": "74d8941f-8662-4e73-bafa-71aef9cdf609"
      },
      "outputs": [],
      "source": [
        "df['status']=df['status'].str.replace('contingency','contingent').str.replace('contingencycontract','contingent').str.replace('activecontingency','contingent').str.replace('inspinspectioncontingency','contingent')"
      ]
    },
    {
      "cell_type": "code",
      "execution_count": null,
      "id": "3954c343-b5cf-4e06-af5a-ebc844b351d6",
      "metadata": {
        "id": "3954c343-b5cf-4e06-af5a-ebc844b351d6"
      },
      "outputs": [],
      "source": [
        "df.status = df.status.str.replace('^contingen.*','contingent', regex=True)"
      ]
    },
    {
      "cell_type": "code",
      "execution_count": null,
      "id": "2c475471-a3ac-41f9-8eb3-f09ce3331ea4",
      "metadata": {
        "id": "2c475471-a3ac-41f9-8eb3-f09ce3331ea4"
      },
      "outputs": [],
      "source": [
        "df.status = df.status.str.replace('^pending.*','pending', regex=True)"
      ]
    },
    {
      "cell_type": "code",
      "execution_count": null,
      "id": "29d2553d-3000-4290-a2cb-be92dd145411",
      "metadata": {
        "id": "29d2553d-3000-4290-a2cb-be92dd145411"
      },
      "outputs": [],
      "source": [
        "df.status = df.status.str.replace('undercontractbackups', 'activebackup').str.replace('backupcontract', 'activebackup')"
      ]
    },
    {
      "cell_type": "code",
      "execution_count": null,
      "id": "7dc5004f-dda0-4b8d-ada1-2b53862e2bbb",
      "metadata": {
        "id": "7dc5004f-dda0-4b8d-ada1-2b53862e2bbb",
        "outputId": "86b19f83-3ec7-44b7-ddf2-ca3df83e628d"
      },
      "outputs": [
        {
          "data": {
            "text/plain": [
              "333110"
            ]
          },
          "execution_count": 121,
          "metadata": {},
          "output_type": "execute_result"
        }
      ],
      "source": [
        "df['status'].value_counts()[0:10].sum()"
      ]
    },
    {
      "cell_type": "code",
      "execution_count": null,
      "id": "0b74b604-b68d-4774-8a80-2c5d27b9d320",
      "metadata": {
        "id": "0b74b604-b68d-4774-8a80-2c5d27b9d320",
        "outputId": "4e585ec2-4ce8-47dc-c601-c7536a0cc36e"
      },
      "outputs": [
        {
          "data": {
            "text/plain": [
              "10"
            ]
          },
          "execution_count": 122,
          "metadata": {},
          "output_type": "execute_result"
        }
      ],
      "source": [
        "objects_to_encode2 = df['status'].value_counts().index.tolist()[:10]\n",
        "len(objects_to_encode2) #20 самых частых значений"
      ]
    },
    {
      "cell_type": "code",
      "execution_count": null,
      "id": "92effb7a-0545-4c36-9f62-88f819eb7f91",
      "metadata": {
        "id": "92effb7a-0545-4c36-9f62-88f819eb7f91"
      },
      "outputs": [],
      "source": [
        "df.loc[~df['status'].isin(objects_to_encode2), 'status'] = np.nan"
      ]
    },
    {
      "cell_type": "code",
      "execution_count": null,
      "id": "2ff7ef2c-3de9-4803-a8ae-b668b13a29d0",
      "metadata": {
        "id": "2ff7ef2c-3de9-4803-a8ae-b668b13a29d0"
      },
      "outputs": [],
      "source": [
        "label_encoder = LabelEncoder()\n",
        "\n",
        "# Применение LabelEncoder к столбцу 'state'\n",
        "df['status'] = label_encoder.fit_transform(df['status'])"
      ]
    },
    {
      "cell_type": "code",
      "execution_count": null,
      "id": "9b20e454-50cf-4c0d-bde3-6d1f341758da",
      "metadata": {
        "id": "9b20e454-50cf-4c0d-bde3-6d1f341758da",
        "outputId": "6b517c4e-f9c8-4d13-e7ef-5f10376bbf64"
      },
      "outputs": [
        {
          "data": {
            "text/plain": [
              "status\n",
              "4     199480\n",
              "0     105529\n",
              "10     41378\n",
              "3       6312\n",
              "5       6147\n",
              "7       5195\n",
              "9       3394\n",
              "8       3281\n",
              "6       1488\n",
              "1       1292\n",
              "2        992\n",
              "Name: count, dtype: int64"
            ]
          },
          "execution_count": 125,
          "metadata": {},
          "output_type": "execute_result"
        }
      ],
      "source": [
        "df['status'].value_counts()"
      ]
    },
    {
      "cell_type": "markdown",
      "id": "370a47e5-0acf-46f5-9cdc-7e4045988d2e",
      "metadata": {
        "id": "370a47e5-0acf-46f5-9cdc-7e4045988d2e"
      },
      "source": [
        "<h4>14.'propertyType'</h4>"
      ]
    },
    {
      "cell_type": "code",
      "execution_count": null,
      "id": "de6d647b-301e-4a58-813d-500a33ee53d1",
      "metadata": {
        "id": "de6d647b-301e-4a58-813d-500a33ee53d1",
        "outputId": "c3a630e1-91d0-4bb4-de7f-a4f7701bc246"
      },
      "outputs": [
        {
          "data": {
            "text/plain": [
              "propertyType\n",
              "single-family home               91351\n",
              "Single Family                    61885\n",
              "Single Family Home               31676\n",
              "condo                            25869\n",
              "lot/land                         20495\n",
              "Condo                            16493\n",
              "townhouse                        11429\n",
              "Land                             10880\n",
              "multi-family                      7873\n",
              "Condo/Townhome/Row Home/Co-Op     7695\n",
              "Townhouse                         6908\n",
              "Traditional                       5912\n",
              "coop                              3264\n",
              "Multi Family                      2771\n",
              "High Rise                         1823\n",
              "Ranch                             1781\n",
              "Detached, One Story               1614\n",
              "mobile/manufactured               1613\n",
              "Single Detached, Traditional      1581\n",
              "Contemporary                      1556\n",
              "Name: count, dtype: int64"
            ]
          },
          "execution_count": 126,
          "metadata": {},
          "output_type": "execute_result"
        }
      ],
      "source": [
        "df['propertyType'].value_counts()[0:20]"
      ]
    },
    {
      "cell_type": "code",
      "execution_count": null,
      "id": "ccb7aca4-6b8b-45c8-91d7-2f90531b2f9d",
      "metadata": {
        "id": "ccb7aca4-6b8b-45c8-91d7-2f90531b2f9d"
      },
      "outputs": [],
      "source": [
        "df['propertyType']=df['propertyType'].str.lower()"
      ]
    },
    {
      "cell_type": "code",
      "execution_count": null,
      "id": "f9907747-3562-4a84-afe3-7c82524f52e5",
      "metadata": {
        "id": "f9907747-3562-4a84-afe3-7c82524f52e5"
      },
      "outputs": [],
      "source": [
        "df['propertyType']=df['propertyType'].str.replace(',','').str.replace('/', '').str.replace('-', '').str.replace(' ', '')"
      ]
    },
    {
      "cell_type": "code",
      "execution_count": null,
      "id": "01b6773f-5272-43bc-997b-7d78bf8a5424",
      "metadata": {
        "id": "01b6773f-5272-43bc-997b-7d78bf8a5424"
      },
      "outputs": [],
      "source": [
        "df['propertyType']=df['propertyType'].str.replace('singlefamilyhome', 'singlefamily')\n",
        "df['propertyType']=df['propertyType'].str.replace('singledetachedtraditional', 'singlefamily')\n",
        "df['propertyType']=df['propertyType'].str.replace('detachedonestory', 'singlefamily')"
      ]
    },
    {
      "cell_type": "code",
      "execution_count": null,
      "id": "9585f895-081b-404d-85e3-a66123efb148",
      "metadata": {
        "id": "9585f895-081b-404d-85e3-a66123efb148"
      },
      "outputs": [],
      "source": [
        "df['propertyType']=df['propertyType'].str.replace('cooperative', 'coop')"
      ]
    },
    {
      "cell_type": "code",
      "execution_count": null,
      "id": "12d652e8-a3a6-4e15-951f-0a4468416ff7",
      "metadata": {
        "id": "12d652e8-a3a6-4e15-951f-0a4468416ff7"
      },
      "outputs": [],
      "source": [
        "df['propertyType'] = df['propertyType'].str.replace('^ranch.*','ranch', regex=True)"
      ]
    },
    {
      "cell_type": "code",
      "execution_count": null,
      "id": "300e1f53-1a0b-42c8-bb8c-cd5cc44816b0",
      "metadata": {
        "id": "300e1f53-1a0b-42c8-bb8c-cd5cc44816b0",
        "outputId": "60e465bb-4144-49a7-9c38-e4943cd609b1"
      },
      "outputs": [
        {
          "data": {
            "text/plain": [
              "stories\n",
              "1       2047\n",
              "2         27\n",
              "4          2\n",
              "<NA>       0\n",
              "Name: count, dtype: Int64"
            ]
          },
          "execution_count": 132,
          "metadata": {},
          "output_type": "execute_result"
        }
      ],
      "source": [
        "mask = df.propertyType.str.contains('^ranch.*',na=False, regex=True)\n",
        "df.loc[mask,'stories'] = df.loc[mask,'stories'].fillna(1)\n",
        "#проверим\n",
        "df[df.propertyType.str.contains('^ranch.*',na=False, regex=True)].stories.value_counts(dropna=False)"
      ]
    },
    {
      "cell_type": "markdown",
      "id": "04e99580-7c23-43e1-9f26-88fd890e5a93",
      "metadata": {
        "id": "04e99580-7c23-43e1-9f26-88fd890e5a93"
      },
      "source": [
        " Некоторые жаргонные сокращения — для исправления дублирования <br>\n",
        "(может пригодиться при обработке признака propertyType): <br>\n",
        "● 'manufactured home (house)' = 'mobile' = 'prefab' = 'modular'; <br>\n",
        "● 'mobile' = 'mo2 le' = 'mo2le';  <br>\n",
        "● 'cabin' = 'ca2 n' = 'ca2n';  <br>\n",
        "● midcentury = mid century = mid-century;  <br>\n",
        "● single family = single-family home.  <br>\n"
      ]
    },
    {
      "cell_type": "code",
      "execution_count": null,
      "id": "fd92f152-45eb-480a-89ae-6206537d643e",
      "metadata": {
        "id": "fd92f152-45eb-480a-89ae-6206537d643e"
      },
      "outputs": [],
      "source": [
        "df['propertyType'] = df['propertyType'].str.replace('^mo2.*','mobile', regex=True)"
      ]
    },
    {
      "cell_type": "code",
      "execution_count": null,
      "id": "65ccb898-d374-4ae9-acb3-65752cca5a59",
      "metadata": {
        "id": "65ccb898-d374-4ae9-acb3-65752cca5a59"
      },
      "outputs": [],
      "source": [
        "df['propertyType'] = df['propertyType'].str.replace('prefab','mobile').str.replace('modular','mobile').str.replace('manufacturedhome','mobile').str.replace('manufacturedhouse','mobile')"
      ]
    },
    {
      "cell_type": "code",
      "execution_count": null,
      "id": "5cacdcb5-ead3-4c79-aba2-4d8d3b57465c",
      "metadata": {
        "id": "5cacdcb5-ead3-4c79-aba2-4d8d3b57465c"
      },
      "outputs": [],
      "source": [
        "df['propertyType'] = df['propertyType'].str.replace('mobile.*','mobile', regex=True)"
      ]
    },
    {
      "cell_type": "code",
      "execution_count": null,
      "id": "d6e10bee-0739-4e26-a73a-e37ed31f31bc",
      "metadata": {
        "scrolled": true,
        "id": "d6e10bee-0739-4e26-a73a-e37ed31f31bc",
        "outputId": "2c23203f-df2f-4642-bbb4-0408bbef74da"
      },
      "outputs": [
        {
          "data": {
            "text/plain": [
              "319229"
            ]
          },
          "execution_count": 136,
          "metadata": {},
          "output_type": "execute_result"
        }
      ],
      "source": [
        "df['propertyType'].value_counts()[0:15].sum()"
      ]
    },
    {
      "cell_type": "code",
      "execution_count": null,
      "id": "9785e3a1-9160-40e5-be73-7f784b732e19",
      "metadata": {
        "id": "9785e3a1-9160-40e5-be73-7f784b732e19"
      },
      "outputs": [],
      "source": [
        "mask = df.propertyType.str.contains('^1story.*',na=False, regex=True)\n",
        "df.loc[mask,'stories'] = df.loc[mask,'stories'].fillna(1)"
      ]
    },
    {
      "cell_type": "code",
      "execution_count": null,
      "id": "c7e7c6ed-cfa3-4412-ab94-a044da806654",
      "metadata": {
        "id": "c7e7c6ed-cfa3-4412-ab94-a044da806654"
      },
      "outputs": [],
      "source": [
        "mask = df.propertyType.str.contains('^2stories.*',na=False, regex=True)\n",
        "df.loc[mask,'stories'] = df.loc[mask,'stories'].fillna(2)"
      ]
    },
    {
      "cell_type": "code",
      "execution_count": null,
      "id": "b4adfaab-1800-4614-ac48-94e4c54ed2d1",
      "metadata": {
        "id": "b4adfaab-1800-4614-ac48-94e4c54ed2d1"
      },
      "outputs": [],
      "source": [
        "mask = df.propertyType.str.contains('^twostory.*',na=False, regex=True)\n",
        "df.loc[mask,'stories'] = df.loc[mask,'stories'].fillna(2)"
      ]
    },
    {
      "cell_type": "code",
      "execution_count": null,
      "id": "fd69c48e-4d08-4ae7-a59f-efe5379b4489",
      "metadata": {
        "id": "fd69c48e-4d08-4ae7-a59f-efe5379b4489"
      },
      "outputs": [],
      "source": [
        "mask = df.propertyType.str.contains('^onestory.*',na=False, regex=True)\n",
        "df.loc[mask,'stories'] = df.loc[mask,'stories'].fillna(1)"
      ]
    },
    {
      "cell_type": "code",
      "execution_count": null,
      "id": "b740ccc6-136d-4f4d-b071-f6ef33abf8e0",
      "metadata": {
        "id": "b740ccc6-136d-4f4d-b071-f6ef33abf8e0"
      },
      "outputs": [],
      "source": [
        "objects_to_encode3 = df['propertyType'].value_counts().index.tolist()[:15]\n",
        "len(objects_to_encode3) #15 самых частых значений\n",
        "\n",
        "df.loc[~df['propertyType'].isin(objects_to_encode3), 'propertyType'] = np.nan\n",
        "\n",
        "label_encoder = LabelEncoder()\n",
        "\n",
        "# Применение LabelEncoder к столбцу 'state'\n",
        "df['propertyType'] = label_encoder.fit_transform(df['propertyType'])"
      ]
    },
    {
      "cell_type": "code",
      "execution_count": null,
      "id": "beb69946-ab4e-46be-a1fc-2566878ffc6c",
      "metadata": {
        "id": "beb69946-ab4e-46be-a1fc-2566878ffc6c",
        "outputId": "42acb2ec-43b8-4024-c28b-cb140b5ce1a6"
      },
      "outputs": [
        {
          "data": {
            "text/plain": [
              "propertyType\n",
              "12    188107\n",
              "15     55259\n",
              "1      42362\n",
              "7      20495\n",
              "13     18337\n",
              "6      10880\n",
              "9      10665\n",
              "2       7695\n",
              "14      5912\n",
              "4       3834\n",
              "8       2739\n",
              "11      2076\n",
              "5       1835\n",
              "3       1556\n",
              "10      1501\n",
              "0       1235\n",
              "Name: count, dtype: int64"
            ]
          },
          "execution_count": 142,
          "metadata": {},
          "output_type": "execute_result"
        }
      ],
      "source": [
        "df['propertyType'].value_counts()"
      ]
    },
    {
      "cell_type": "markdown",
      "id": "e0aaaf00-6176-46ad-ab57-1b0ad20bed30",
      "metadata": {
        "id": "e0aaaf00-6176-46ad-ab57-1b0ad20bed30"
      },
      "source": [
        "Самая масштабная тема"
      ]
    },
    {
      "cell_type": "markdown",
      "id": "9fe82230-da3d-4324-9c91-951c6c01cc70",
      "metadata": {
        "id": "9fe82230-da3d-4324-9c91-951c6c01cc70"
      },
      "source": [
        "<h4>15.'homeFacts'</h4>"
      ]
    },
    {
      "cell_type": "code",
      "execution_count": null,
      "id": "cd164ce7-e4fb-49c3-adc7-4c2bf95b6868",
      "metadata": {
        "id": "cd164ce7-e4fb-49c3-adc7-4c2bf95b6868",
        "outputId": "bd2c7fa1-24c6-4144-b243-3b93b9edf528"
      },
      "outputs": [
        {
          "data": {
            "text/plain": [
              "0"
            ]
          },
          "execution_count": 143,
          "metadata": {},
          "output_type": "execute_result"
        }
      ],
      "source": [
        "df.homeFacts.isnull().sum()"
      ]
    },
    {
      "cell_type": "code",
      "execution_count": null,
      "id": "c76d6e28-60b9-4e82-b2e7-253b5b68e48c",
      "metadata": {
        "id": "c76d6e28-60b9-4e82-b2e7-253b5b68e48c",
        "outputId": "74781748-0f69-4162-f7cb-83cbeee96bfe"
      },
      "outputs": [
        {
          "data": {
            "text/plain": [
              "0         ['2019', '', 'Central A/C, Heat Pump', '', '',...\n",
              "1         ['2019', '', '', '', '', '5828 sqft', '$159/sq...\n",
              "2         ['1961', '1967', 'Forced Air', 'Central', 'Att...\n",
              "3         ['2006', '2006', 'Forced Air', 'Central', 'Det...\n",
              "4                 ['', '', '', '', '', '10,019 sqft', None]\n",
              "                                ...                        \n",
              "377130    ['1990', '1990', 'Other', 'Central', '2 spaces...\n",
              "377131    ['1924', '', 'Radiant', '', 'None', '', '$337/...\n",
              "377132    ['1950', '1950', 'Other', '', '2', '1,600 sqft...\n",
              "377133           [None, None, None, None, None, None, None]\n",
              "377134    ['2019', None, 'Electric', 'Central', 'No Data...\n",
              "Name: homeFacts, Length: 374488, dtype: object"
            ]
          },
          "execution_count": 144,
          "metadata": {},
          "output_type": "execute_result"
        }
      ],
      "source": [
        "# factValue\n",
        "ser_val = df.homeFacts.str.findall(r\"\\bfactValue': ([\\s\\S]+?), 'factLabel\\b\")\n",
        "ser_val"
      ]
    },
    {
      "cell_type": "code",
      "execution_count": null,
      "id": "6fa365c6-8170-44e4-a1eb-4fd03be1a9b8",
      "metadata": {
        "id": "6fa365c6-8170-44e4-a1eb-4fd03be1a9b8",
        "outputId": "8c646dba-351b-4445-f57d-94d76e58fdd2"
      },
      "outputs": [
        {
          "data": {
            "text/plain": [
              "0         ['Year built', 'Remodeled year', 'Heating', 'C...\n",
              "1         ['Year built', 'Remodeled year', 'Heating', 'C...\n",
              "2         ['Year built', 'Remodeled year', 'Heating', 'C...\n",
              "3         ['Year built', 'Remodeled year', 'Heating', 'C...\n",
              "4         ['Year built', 'Remodeled year', 'Heating', 'C...\n",
              "                                ...                        \n",
              "377130    ['Year built', 'Remodeled year', 'Heating', 'C...\n",
              "377131    ['Year built', 'Remodeled year', 'Heating', 'C...\n",
              "377132    ['Year built', 'Remodeled year', 'Heating', 'C...\n",
              "377133    ['Year built', 'Remodeled year', 'Heating', 'C...\n",
              "377134    ['Year built', 'Remodeled year', 'Heating', 'C...\n",
              "Name: homeFacts, Length: 374488, dtype: object"
            ]
          },
          "execution_count": 145,
          "metadata": {},
          "output_type": "execute_result"
        }
      ],
      "source": [
        "ser_label = df.homeFacts.str.findall(r\"\\bfactLabel': ([\\s\\S]+?)[}\\b]\")\n",
        "ser_label"
      ]
    },
    {
      "cell_type": "code",
      "execution_count": null,
      "id": "edd43cee-1848-42f4-867d-0107b381a3eb",
      "metadata": {
        "id": "edd43cee-1848-42f4-867d-0107b381a3eb",
        "outputId": "9ed8a0d6-ccbb-48af-dbd6-8f92a63c35ba"
      },
      "outputs": [
        {
          "data": {
            "text/plain": [
              "array([7])"
            ]
          },
          "execution_count": 146,
          "metadata": {},
          "output_type": "execute_result"
        }
      ],
      "source": [
        "ser_label_len = pd.Series(ser_label.apply(lambda x: len(x)))\n",
        "ser_label_len.unique()"
      ]
    },
    {
      "cell_type": "code",
      "execution_count": null,
      "id": "b00634b9-af8b-4764-b296-2e4186b89ed8",
      "metadata": {
        "id": "b00634b9-af8b-4764-b296-2e4186b89ed8",
        "outputId": "b6adf2bb-3ac4-4e14-e2e4-1fb10118c3e9"
      },
      "outputs": [
        {
          "data": {
            "text/plain": [
              "array([7])"
            ]
          },
          "execution_count": 147,
          "metadata": {},
          "output_type": "execute_result"
        }
      ],
      "source": [
        "ser_val_len = pd.Series(ser_val.apply(lambda x: len(x)))\n",
        "ser_val_len.unique()"
      ]
    },
    {
      "cell_type": "code",
      "execution_count": null,
      "id": "e224c6ce-6377-4504-9bf3-71536548ee9f",
      "metadata": {
        "id": "e224c6ce-6377-4504-9bf3-71536548ee9f",
        "outputId": "af3cbdbe-e5f1-4ba7-f8e3-d695e2d77dfc"
      },
      "outputs": [
        {
          "data": {
            "text/plain": [
              "['Year built',\n",
              " 'Remodeled year',\n",
              " 'Heating',\n",
              " 'Cooling',\n",
              " 'Parking',\n",
              " 'lotsize',\n",
              " 'Price/sqft']"
            ]
          },
          "execution_count": 148,
          "metadata": {},
          "output_type": "execute_result"
        }
      ],
      "source": [
        "# создадим список названий признаков, удалив лишние кавычки\n",
        "list_priznak = ','.join(ser_label[0]).replace(\"'\",\"\").split(',')\n",
        "list_priznak"
      ]
    },
    {
      "cell_type": "code",
      "execution_count": null,
      "id": "db11be88-a59c-4016-ae9f-83346a42b596",
      "metadata": {
        "id": "db11be88-a59c-4016-ae9f-83346a42b596"
      },
      "outputs": [],
      "source": [
        "# Создадим эти признаки в нашем фрейме\n",
        "for i, val in enumerate(list_priznak):\n",
        "    df[val]=ser_val.apply(lambda x: x[i])"
      ]
    },
    {
      "cell_type": "code",
      "execution_count": null,
      "id": "37a19f86-7f88-4b80-8f31-0ca4c03f55ba",
      "metadata": {
        "id": "37a19f86-7f88-4b80-8f31-0ca4c03f55ba",
        "outputId": "fe71ee53-7d00-4210-fd16-8a2dc1017051"
      },
      "outputs": [
        {
          "data": {
            "text/html": [
              "<div>\n",
              "<style scoped>\n",
              "    .dataframe tbody tr th:only-of-type {\n",
              "        vertical-align: middle;\n",
              "    }\n",
              "\n",
              "    .dataframe tbody tr th {\n",
              "        vertical-align: top;\n",
              "    }\n",
              "\n",
              "    .dataframe thead th {\n",
              "        text-align: right;\n",
              "    }\n",
              "</style>\n",
              "<table border=\"1\" class=\"dataframe\">\n",
              "  <thead>\n",
              "    <tr style=\"text-align: right;\">\n",
              "      <th></th>\n",
              "      <th>status</th>\n",
              "      <th>propertyType</th>\n",
              "      <th>baths</th>\n",
              "      <th>homeFacts</th>\n",
              "      <th>city</th>\n",
              "      <th>schools</th>\n",
              "      <th>sqft</th>\n",
              "      <th>beds</th>\n",
              "      <th>state</th>\n",
              "      <th>stories</th>\n",
              "      <th>PrivatePool</th>\n",
              "      <th>target</th>\n",
              "      <th>Year built</th>\n",
              "      <th>Remodeled year</th>\n",
              "      <th>Heating</th>\n",
              "      <th>Cooling</th>\n",
              "      <th>Parking</th>\n",
              "      <th>lotsize</th>\n",
              "      <th>Price/sqft</th>\n",
              "    </tr>\n",
              "  </thead>\n",
              "  <tbody>\n",
              "    <tr>\n",
              "      <th>0</th>\n",
              "      <td>0</td>\n",
              "      <td>12</td>\n",
              "      <td>3</td>\n",
              "      <td>{'atAGlanceFacts': [{'factValue': '2019', 'fac...</td>\n",
              "      <td>256</td>\n",
              "      <td>[{'rating': ['4', '4', '7', 'NR', '4', '7', 'N...</td>\n",
              "      <td>2900</td>\n",
              "      <td>4</td>\n",
              "      <td>10</td>\n",
              "      <td>&lt;NA&gt;</td>\n",
              "      <td>False</td>\n",
              "      <td>418000</td>\n",
              "      <td>'2019'</td>\n",
              "      <td>''</td>\n",
              "      <td>'Central A/C, Heat Pump'</td>\n",
              "      <td>''</td>\n",
              "      <td>''</td>\n",
              "      <td>None</td>\n",
              "      <td>'$144'</td>\n",
              "    </tr>\n",
              "    <tr>\n",
              "      <th>1</th>\n",
              "      <td>4</td>\n",
              "      <td>12</td>\n",
              "      <td>3</td>\n",
              "      <td>{'atAGlanceFacts': [{'factValue': '2019', 'fac...</td>\n",
              "      <td>256</td>\n",
              "      <td>[{'rating': ['4/10', 'None/10', '4/10'], 'data...</td>\n",
              "      <td>1947</td>\n",
              "      <td>3</td>\n",
              "      <td>19</td>\n",
              "      <td>2</td>\n",
              "      <td>False</td>\n",
              "      <td>310000</td>\n",
              "      <td>'2019'</td>\n",
              "      <td>''</td>\n",
              "      <td>''</td>\n",
              "      <td>''</td>\n",
              "      <td>''</td>\n",
              "      <td>'5828 sqft'</td>\n",
              "      <td>'$159/sqft'</td>\n",
              "    </tr>\n",
              "  </tbody>\n",
              "</table>\n",
              "</div>"
            ],
            "text/plain": [
              "   status  propertyType  baths  \\\n",
              "0       0            12      3   \n",
              "1       4            12      3   \n",
              "\n",
              "                                           homeFacts  city  \\\n",
              "0  {'atAGlanceFacts': [{'factValue': '2019', 'fac...   256   \n",
              "1  {'atAGlanceFacts': [{'factValue': '2019', 'fac...   256   \n",
              "\n",
              "                                             schools  sqft  beds  state  \\\n",
              "0  [{'rating': ['4', '4', '7', 'NR', '4', '7', 'N...  2900     4     10   \n",
              "1  [{'rating': ['4/10', 'None/10', '4/10'], 'data...  1947     3     19   \n",
              "\n",
              "   stories  PrivatePool  target Year built Remodeled year  \\\n",
              "0     <NA>        False  418000     '2019'             ''   \n",
              "1        2        False  310000     '2019'             ''   \n",
              "\n",
              "                    Heating Cooling Parking      lotsize   Price/sqft  \n",
              "0  'Central A/C, Heat Pump'      ''      ''         None       '$144'  \n",
              "1                        ''      ''      ''  '5828 sqft'  '$159/sqft'  "
            ]
          },
          "execution_count": 150,
          "metadata": {},
          "output_type": "execute_result"
        }
      ],
      "source": [
        "df.head(2)"
      ]
    },
    {
      "cell_type": "code",
      "execution_count": null,
      "id": "d65f54b4-527c-4475-af9b-b5914eddbf6f",
      "metadata": {
        "id": "d65f54b4-527c-4475-af9b-b5914eddbf6f"
      },
      "outputs": [],
      "source": [
        "#homeFacts удаляем\n",
        "df = df.drop('homeFacts', axis=1)"
      ]
    },
    {
      "cell_type": "markdown",
      "id": "555ed1b4-d30e-4472-8257-ba906540662d",
      "metadata": {
        "id": "555ed1b4-d30e-4472-8257-ba906540662d"
      },
      "source": [
        "Смотрим на новые признаки:"
      ]
    },
    {
      "cell_type": "code",
      "execution_count": null,
      "id": "d84e8a98-18eb-4744-bafc-95a7322ded7d",
      "metadata": {
        "id": "d84e8a98-18eb-4744-bafc-95a7322ded7d",
        "outputId": "5d221bd4-04e9-4124-da87-0e7a3cae1464"
      },
      "outputs": [
        {
          "data": {
            "text/plain": [
              "Index(['status', 'propertyType', 'baths', 'city', 'schools', 'sqft', 'beds',\n",
              "       'state', 'stories', 'PrivatePool', 'target', 'Year built',\n",
              "       'Remodeled year', 'Heating', 'Cooling', 'Parking', 'lotsize',\n",
              "       'Price/sqft'],\n",
              "      dtype='object')"
            ]
          },
          "execution_count": 152,
          "metadata": {},
          "output_type": "execute_result"
        }
      ],
      "source": [
        "df.columns"
      ]
    },
    {
      "cell_type": "markdown",
      "id": "4ad7ade2-87a7-4d4e-a6ba-e65163ded128",
      "metadata": {
        "id": "4ad7ade2-87a7-4d4e-a6ba-e65163ded128"
      },
      "source": [
        "<h4>15.1 Year built</h4>"
      ]
    },
    {
      "cell_type": "code",
      "execution_count": null,
      "id": "fa0e555b-9fc2-4378-8f52-07019c329297",
      "metadata": {
        "id": "fa0e555b-9fc2-4378-8f52-07019c329297",
        "outputId": "be01efaf-b57b-4201-ee13-52c304aecb2d"
      },
      "outputs": [
        {
          "data": {
            "text/plain": [
              "Year built\n",
              "''        58359\n",
              "'2019'    32127\n",
              "'2006'     7953\n",
              "'2005'     7449\n",
              "'2007'     7095\n",
              "          ...  \n",
              "'1809'        1\n",
              "'1823'        1\n",
              "'1807'        1\n",
              "'1740'        1\n",
              "'1804'        1\n",
              "Name: count, Length: 229, dtype: int64"
            ]
          },
          "execution_count": 153,
          "metadata": {},
          "output_type": "execute_result"
        }
      ],
      "source": [
        "df['Year built'].value_counts()"
      ]
    },
    {
      "cell_type": "code",
      "execution_count": null,
      "id": "ba7fbfef-84c4-4a81-b07b-4addd5047485",
      "metadata": {
        "id": "ba7fbfef-84c4-4a81-b07b-4addd5047485",
        "outputId": "692b9e9c-a366-4605-b10f-22eaca092d57"
      },
      "outputs": [
        {
          "data": {
            "text/plain": [
              "array([\"'2019'\", \"'1961'\", \"'2006'\", \"''\", \"'1920'\", \"'1976'\", \"'1970'\",\n",
              "       \"'1965'\", \"'2015'\", \"'1996'\", \"'1982'\", \"'1905'\", \"'2008'\",\n",
              "       \"'1899'\", \"'2016'\", \"'1954'\", \"'1989'\", \"'2014'\", \"'1915'\",\n",
              "       \"'1994'\", \"'1910'\", \"'1923'\", \"'1960'\", \"'1977'\", \"'1972'\",\n",
              "       \"'1963'\", \"'1981'\", \"'1949'\", \"'1930'\", \"'1991'\", \"'1958'\",\n",
              "       \"'2005'\", \"'2017'\", \"'2018'\", \"'1983'\", \"'1928'\", \"'1998'\",\n",
              "       \"'1997'\", \"'1964'\", \"'1974'\", \"'1940'\", \"'1973'\", \"'1968'\",\n",
              "       \"'1999'\", \"'1918'\", \"'2007'\", \"'1984'\", \"'1946'\", \"'2003'\",\n",
              "       \"'2000'\", \"'2004'\", \"'1969'\", \"'2002'\", \"'1952'\", \"'1947'\",\n",
              "       \"'1957'\", \"'1978'\", \"'1956'\", \"'1967'\", \"'1975'\", \"'1988'\",\n",
              "       \"'1955'\", \"'1950'\", \"'1959'\", \"'2012'\", \"'1924'\", \"'1966'\",\n",
              "       \"'1992'\", \"'2001'\", \"'1995'\", \"'2010'\", \"'1971'\", \"'1909'\",\n",
              "       \"'1953'\", \"'1993'\", \"'1990'\", \"'1980'\", \"'1985'\", \"'1951'\",\n",
              "       \"'1907'\", \"'1885'\", \"'1941'\", \"'1927'\", \"'1929'\", \"'1901'\", 'None',\n",
              "       \"'1922'\", \"'1906'\", \"'1945'\", \"'1979'\", \"'2009'\", \"'1962'\",\n",
              "       \"'1913'\", \"'2011'\", \"'1897'\", \"'1987'\", \"'2020'\", \"'1926'\",\n",
              "       \"'1939'\", \"'1925'\", \"'2013'\", \"'1986'\", \"'No Data'\", \"'1943'\",\n",
              "       \"'1935'\", \"'1890'\", \"'1895'\", \"'1911'\", \"'1948'\", \"'1942'\",\n",
              "       \"'1916'\", \"'1900'\", \"'1931'\", \"'1944'\", \"'1893'\", \"'1879'\",\n",
              "       \"'1914'\", \"'1937'\", \"'1912'\", \"'1938'\", \"'1921'\", \"'1860'\",\n",
              "       \"'1850'\", \"'1936'\", \"'1861'\", \"'1898'\", \"'1908'\", \"'1865'\",\n",
              "       \"'1917'\", \"'1740'\", \"'1934'\", \"'1902'\", \"'1880'\", \"'1700'\",\n",
              "       \"'1904'\", \"'1932'\", \"'1896'\", \"'1892'\", \"'1830'\", \"'1919'\",\n",
              "       \"'1933'\", \"'1875'\", \"'1888'\", \"'1832'\", \"'1903'\", \"'1872'\",\n",
              "       \"'1864'\", \"'1886'\", \"'2021'\", \"'1873'\", \"'1887'\", \"'1884'\",\n",
              "       \"'1800'\", \"'1889'\", \"'1852'\", \"'1870'\", \"'1858'\", \"'1869'\",\n",
              "       \"'1894'\", \"'1840'\", \"'1881'\", \"'1829'\", \"'1891'\", \"'1868'\",\n",
              "       \"'1824'\", \"'1820'\", \"'1846'\", \"'1854'\", \"'1799'\", \"'1828'\",\n",
              "       \"'1878'\", \"'1876'\", \"'1815'\", \"'1877'\", \"'1810'\", \"'1835'\",\n",
              "       \"'1822'\", \"'1862'\", \"'1866'\", \"'1836'\", \"'1853'\", \"'1807'\",\n",
              "       \"'1867'\", \"'1847'\", \"'1794'\", \"'1874'\", \"'1848'\", \"'1795'\",\n",
              "       \"'1831'\", \"'1883'\", \"'1803'\", \"'1871'\", \"'1859'\", \"'1823'\",\n",
              "       \"'1817'\", \"'1844'\", \"'1863'\", \"'559990649990'\", \"'1796'\", \"'1809'\",\n",
              "       \"'1851'\", \"'2022'\", \"'1882'\", \"'1842'\", \"'1818'\", \"'1'\", \"'1857'\",\n",
              "       \"'1208'\", \"'1825'\", \"'1845'\", \"'2025'\", \"'1811'\", \"'1855'\",\n",
              "       \"'1750'\", \"'1057'\", \"'1703'\", \"'1812'\", \"'1856'\", \"'1816'\",\n",
              "       \"'1834'\", \"'1060'\", \"'1790'\", \"'1788'\", \"'1735'\", \"'1019'\",\n",
              "       \"'1805'\", \"'1843'\", \"'1808'\", \"'1804'\"], dtype=object)"
            ]
          },
          "execution_count": 154,
          "metadata": {},
          "output_type": "execute_result"
        }
      ],
      "source": [
        "df['Year built'].unique()"
      ]
    },
    {
      "cell_type": "markdown",
      "id": "3ae9feea-ec3f-41fb-981f-4e1ff76d982a",
      "metadata": {
        "id": "3ae9feea-ec3f-41fb-981f-4e1ff76d982a"
      },
      "source": [
        "Данные которые надо как-то обработать: \"'No Data'\"  \"'559990649990'\" \"'1060'\" \"'1019'\"   \"'1'\"   \"'1208'\"  \"'1057'"
      ]
    },
    {
      "cell_type": "code",
      "execution_count": null,
      "id": "375187fc-69dc-4e16-a4dc-ceb6bed39424",
      "metadata": {
        "id": "375187fc-69dc-4e16-a4dc-ceb6bed39424"
      },
      "outputs": [],
      "source": [
        "# удалим лишние кавычки\n",
        "df['Year built'] = df['Year built'].str.replace(\"'\",'', regex=True)"
      ]
    },
    {
      "cell_type": "code",
      "execution_count": null,
      "id": "7affbc27-7d11-4645-89dc-8e41f2094b8f",
      "metadata": {
        "id": "7affbc27-7d11-4645-89dc-8e41f2094b8f"
      },
      "outputs": [],
      "source": [
        "df['Year built'] = df['Year built'].replace('[^0-9]','', regex=True)"
      ]
    },
    {
      "cell_type": "code",
      "execution_count": null,
      "id": "bb84ee5e-11ff-49bb-87b4-466ff342dece",
      "metadata": {
        "id": "bb84ee5e-11ff-49bb-87b4-466ff342dece"
      },
      "outputs": [],
      "source": [
        "df['Year built'] = df['Year built'].replace('',np.nan, regex=True)"
      ]
    },
    {
      "cell_type": "code",
      "execution_count": null,
      "id": "58fe2887-7f4f-4099-a6a4-48e10f520126",
      "metadata": {
        "id": "58fe2887-7f4f-4099-a6a4-48e10f520126"
      },
      "outputs": [],
      "source": [
        "df['Year built'] = df['Year built'].astype('Int64')"
      ]
    },
    {
      "cell_type": "markdown",
      "id": "a4cf5497-0ede-4c19-8584-5d8246afcad0",
      "metadata": {
        "id": "a4cf5497-0ede-4c19-8584-5d8246afcad0"
      },
      "source": [
        "Примем даты >2024 и <1500 за np.nan"
      ]
    },
    {
      "cell_type": "code",
      "execution_count": null,
      "id": "aa67bf88-8f1d-47a3-8c44-a36e9b530daf",
      "metadata": {
        "id": "aa67bf88-8f1d-47a3-8c44-a36e9b530daf"
      },
      "outputs": [],
      "source": [
        "df.loc[df['Year built']>2024, 'Year built']=np.nan\n",
        "df.loc[df['Year built']<1500, 'Year built']=np.nan"
      ]
    },
    {
      "cell_type": "code",
      "execution_count": null,
      "id": "5e9c1e16-b633-48dc-8864-1a07c0f04162",
      "metadata": {
        "id": "5e9c1e16-b633-48dc-8864-1a07c0f04162",
        "outputId": "af5aa5d8-f12e-4bcb-9678-b59dd22e96ca"
      },
      "outputs": [
        {
          "data": {
            "text/plain": [
              "0.1685367755442097"
            ]
          },
          "execution_count": 160,
          "metadata": {},
          "output_type": "execute_result"
        }
      ],
      "source": [
        "df['Year built'].isnull().sum()/len(df)"
      ]
    },
    {
      "cell_type": "markdown",
      "id": "364e358e-c55c-4c50-93f4-a4b814694007",
      "metadata": {
        "id": "364e358e-c55c-4c50-93f4-a4b814694007"
      },
      "source": [
        "<h4>15.2 Remodeled year</h4>"
      ]
    },
    {
      "cell_type": "code",
      "execution_count": null,
      "id": "5f623a00-f69d-4728-8423-29fa82ccbcfe",
      "metadata": {
        "id": "5f623a00-f69d-4728-8423-29fa82ccbcfe",
        "outputId": "f1441471-f76d-49d9-a7cf-a66fa5e477b3"
      },
      "outputs": [
        {
          "data": {
            "text/plain": [
              "Remodeled year\n",
              "''        198326\n",
              "None       26337\n",
              "'2006'      5493\n",
              "'2005'      4777\n",
              "'2007'      4354\n",
              "           ...  \n",
              "'1888'         1\n",
              "'1800'         1\n",
              "'1738'         1\n",
              "'1869'         1\n",
              "'1862'         1\n",
              "Name: count, Length: 155, dtype: int64"
            ]
          },
          "execution_count": 161,
          "metadata": {},
          "output_type": "execute_result"
        }
      ],
      "source": [
        "df['Remodeled year'].value_counts()"
      ]
    },
    {
      "cell_type": "code",
      "execution_count": null,
      "id": "4063d8f1-ec5f-44ec-9d70-84b9f7c80959",
      "metadata": {
        "id": "4063d8f1-ec5f-44ec-9d70-84b9f7c80959",
        "outputId": "0e458a55-0489-4888-8828-629943a91d5b"
      },
      "outputs": [
        {
          "data": {
            "text/plain": [
              "0.0"
            ]
          },
          "execution_count": 162,
          "metadata": {},
          "output_type": "execute_result"
        }
      ],
      "source": [
        "df['Remodeled year'].isnull().sum()/len(df)"
      ]
    },
    {
      "cell_type": "code",
      "execution_count": null,
      "id": "a17a7f21-fa12-4d3a-9a6d-237d95d1bc41",
      "metadata": {
        "id": "a17a7f21-fa12-4d3a-9a6d-237d95d1bc41",
        "outputId": "eaefb2ef-3138-4918-a5e2-c020c5c064d3"
      },
      "outputs": [
        {
          "data": {
            "text/plain": [
              "array([\"''\", \"'1967'\", \"'2006'\", 'None', \"'2015'\", \"'1997'\", \"'2019'\",\n",
              "       \"'1982'\", \"'1905'\", \"'2009'\", \"'2007'\", \"'1996'\", \"'1995'\",\n",
              "       \"'1988'\", \"'1972'\", \"'1949'\", \"'1954'\", \"'1930'\", \"'2003'\",\n",
              "       \"'2000'\", \"'1994'\", \"'2005'\", \"'1983'\", \"'1965'\", \"'1968'\",\n",
              "       \"'1993'\", \"'1999'\", \"'2014'\", \"'2008'\", \"'2010'\", \"'2004'\",\n",
              "       \"'2002'\", \"'1952'\", \"'1978'\", \"'1975'\", \"'1971'\", \"'1947'\",\n",
              "       \"'1957'\", \"'1950'\", \"'1973'\", \"'1970'\", \"'2016'\", \"'1989'\",\n",
              "       \"'1998'\", \"'1980'\", \"'1955'\", \"'1991'\", \"'2011'\", \"'2017'\",\n",
              "       \"'1986'\", \"'1941'\", \"'2001'\", \"'1990'\", \"'1979'\", \"'1901'\",\n",
              "       \"'1984'\", \"'1918'\", \"'1977'\", \"'1962'\", \"'1956'\", \"'2013'\",\n",
              "       \"'1960'\", \"'1981'\", \"'1969'\", \"'1987'\", \"'1958'\", \"'1910'\",\n",
              "       \"'1925'\", \"'1964'\", \"'1966'\", \"'1992'\", \"'1943'\", \"'1961'\",\n",
              "       \"'1948'\", \"'1931'\", \"'2012'\", \"'1976'\", \"'1974'\", \"'1935'\",\n",
              "       \"'1940'\", \"'2018'\", \"'1916'\", \"'1914'\", \"'1963'\", \"'1985'\",\n",
              "       \"'1951'\", \"'1944'\", \"'1942'\", \"'1959'\", \"'1927'\", \"'1946'\",\n",
              "       \"'1945'\", \"'1920'\", \"'1938'\", \"'1936'\", \"'0'\", \"'1939'\", \"'1915'\",\n",
              "       \"'1928'\", \"'1923'\", \"'1929'\", \"'1898'\", \"'1899'\", \"'1934'\",\n",
              "       \"'1953'\", \"'1926'\", \"'1937'\", \"'1912'\", \"'1917'\", \"'1906'\",\n",
              "       \"'1932'\", \"'1919'\", \"'1921'\", \"'1924'\", \"'1907'\", \"'1911'\",\n",
              "       \"'1900'\", \"'1913'\", \"'1895'\", \"'1908'\", \"'1903'\", \"'1904'\",\n",
              "       \"'1933'\", \"'1894'\", \"'1892'\", \"'1922'\", \"'1909'\", \"'1880'\",\n",
              "       \"'1902'\", \"'1877'\", \"'2020'\", \"'1893'\", \"'1890'\", \"'1891'\",\n",
              "       \"'1889'\", \"'2021'\", \"'1869'\", \"'1884'\", \"'1897'\", \"'1111'\",\n",
              "       \"'1886'\", \"'1846'\", \"'1845'\", \"'1896'\", \"'1885'\", \"'1870'\",\n",
              "       \"'1887'\", \"'1883'\", \"'1853'\", \"'1888'\", \"'1800'\", \"'1738'\",\n",
              "       \"'1876'\", \"'1874'\", \"'1862'\"], dtype=object)"
            ]
          },
          "execution_count": 163,
          "metadata": {},
          "output_type": "execute_result"
        }
      ],
      "source": [
        "df['Remodeled year'].unique()"
      ]
    },
    {
      "cell_type": "code",
      "execution_count": null,
      "id": "823d7efb-50da-4564-b5a3-135e7ba8578e",
      "metadata": {
        "id": "823d7efb-50da-4564-b5a3-135e7ba8578e"
      },
      "outputs": [],
      "source": [
        "df['Remodeled year'] = df['Remodeled year'].str.replace(\"'\",'', regex=True)"
      ]
    },
    {
      "cell_type": "code",
      "execution_count": null,
      "id": "eb6ee1e1-091f-4262-b39f-97ae817d0b63",
      "metadata": {
        "id": "eb6ee1e1-091f-4262-b39f-97ae817d0b63"
      },
      "outputs": [],
      "source": [
        "df['Remodeled year'] = df['Remodeled year'].replace('[^0-9]','', regex=True)"
      ]
    },
    {
      "cell_type": "code",
      "execution_count": null,
      "id": "ba5bc0d2-9a39-4ec6-9f73-cd057efb0bed",
      "metadata": {
        "id": "ba5bc0d2-9a39-4ec6-9f73-cd057efb0bed"
      },
      "outputs": [],
      "source": [
        "df['Remodeled year'] = df['Remodeled year'].replace('',np.nan, regex=True)"
      ]
    },
    {
      "cell_type": "code",
      "execution_count": null,
      "id": "29ff51a7-ae35-4a7a-8fa8-64c7c40b8e32",
      "metadata": {
        "id": "29ff51a7-ae35-4a7a-8fa8-64c7c40b8e32",
        "outputId": "0e4aa942-af20-4027-988c-c6b2b307af60"
      },
      "outputs": [
        {
          "data": {
            "text/plain": [
              "0.5999204246865053"
            ]
          },
          "execution_count": 167,
          "metadata": {},
          "output_type": "execute_result"
        }
      ],
      "source": [
        "df['Remodeled year'].isna().sum()/len(df)"
      ]
    },
    {
      "cell_type": "code",
      "execution_count": null,
      "id": "ddd0d825-07e5-4965-a0b6-d76cf042a24c",
      "metadata": {
        "id": "ddd0d825-07e5-4965-a0b6-d76cf042a24c"
      },
      "outputs": [],
      "source": [
        "# удалим признак 'Remodeled year' из-за большого числа пропусков\n",
        "df = df.drop('Remodeled year', axis=1)"
      ]
    },
    {
      "cell_type": "markdown",
      "id": "eca0a324-6ee9-4f95-8cf0-ad77de13a054",
      "metadata": {
        "id": "eca0a324-6ee9-4f95-8cf0-ad77de13a054"
      },
      "source": [
        "<h4>15.3 Heating</h4>"
      ]
    },
    {
      "cell_type": "code",
      "execution_count": null,
      "id": "456c6ca5-25bf-46e8-b419-c02f82415107",
      "metadata": {
        "id": "456c6ca5-25bf-46e8-b419-c02f82415107"
      },
      "outputs": [],
      "source": [
        "df['Heating']=df['Heating'].str.lower()"
      ]
    },
    {
      "cell_type": "code",
      "execution_count": null,
      "id": "e199727f-fb3a-4e6b-b14a-72d9ad178e49",
      "metadata": {
        "id": "e199727f-fb3a-4e6b-b14a-72d9ad178e49",
        "outputId": "68e9afa9-75a4-485b-8f4d-66bf325f834c"
      },
      "outputs": [
        {
          "data": {
            "text/plain": [
              "Heating\n",
              "'forced air'          133457\n",
              "''                    104990\n",
              "'other'                29060\n",
              "'electric'             10175\n",
              "'gas'                   9262\n",
              "'heat pump'             8806\n",
              "'no data'               8414\n",
              "'central air'           7814\n",
              "'central electric'      7112\n",
              "'central'               6245\n",
              "Name: count, dtype: int64"
            ]
          },
          "execution_count": 170,
          "metadata": {},
          "output_type": "execute_result"
        }
      ],
      "source": [
        "df['Heating'].value_counts()[0:10]"
      ]
    },
    {
      "cell_type": "code",
      "execution_count": null,
      "id": "d0f578ed-3527-4be3-af3b-d9a59cb7e374",
      "metadata": {
        "id": "d0f578ed-3527-4be3-af3b-d9a59cb7e374",
        "outputId": "7e3ce9fb-7aee-4819-9071-846745277f7a"
      },
      "outputs": [
        {
          "data": {
            "text/plain": [
              "array([\"'central a/c, heat pump'\", \"''\", \"'forced air'\", ...,\n",
              "       \"'electric furnace, electric heat pump'\",\n",
              "       \"'floor furnace, wall electric, wall gas'\",\n",
              "       \"'baseboard, hot water, programmable thermostat, radiant floor'\"],\n",
              "      dtype=object)"
            ]
          },
          "execution_count": 171,
          "metadata": {},
          "output_type": "execute_result"
        }
      ],
      "source": [
        "df['Heating'].unique()"
      ]
    },
    {
      "cell_type": "code",
      "execution_count": null,
      "id": "4bd8be07-4bde-447a-a46e-8e5369ebbe07",
      "metadata": {
        "id": "4bd8be07-4bde-447a-a46e-8e5369ebbe07"
      },
      "outputs": [],
      "source": [
        "df['Heating'] = df['Heating'].str.replace(\"'\",'', regex=True)"
      ]
    },
    {
      "cell_type": "code",
      "execution_count": null,
      "id": "2513621c-dadc-4d60-9e82-5a061761a85a",
      "metadata": {
        "id": "2513621c-dadc-4d60-9e82-5a061761a85a"
      },
      "outputs": [],
      "source": [
        "df['Heating']=df['Heating'].str.replace('/', '').str.replace(',', '').str.replace('-', '').str.replace(' ', '')"
      ]
    },
    {
      "cell_type": "code",
      "execution_count": null,
      "id": "41ba4b61-cfa8-4c55-81ef-b53718cffd1e",
      "metadata": {
        "id": "41ba4b61-cfa8-4c55-81ef-b53718cffd1e",
        "outputId": "8f493f86-589a-4d86-e0c7-6e1f449c45e5"
      },
      "outputs": [
        {
          "data": {
            "text/plain": [
              "Heating\n",
              "forcedair          133524\n",
              "                   104990\n",
              "other               29060\n",
              "centralelectric     11367\n",
              "electric            10175\n",
              "gas                  9262\n",
              "heatpump             8811\n",
              "nodata               8414\n",
              "centralair           7814\n",
              "central              6247\n",
              "Name: count, dtype: int64"
            ]
          },
          "execution_count": 174,
          "metadata": {},
          "output_type": "execute_result"
        }
      ],
      "source": [
        "df['Heating'].value_counts()[0:10]"
      ]
    },
    {
      "cell_type": "code",
      "execution_count": null,
      "id": "2b91a391-6373-4736-a6a0-2a681c26741d",
      "metadata": {
        "id": "2b91a391-6373-4736-a6a0-2a681c26741d"
      },
      "outputs": [],
      "source": [
        "mask_year = df['Heating'].isin(['', 'nodata', 'none'])\n",
        "df.loc[mask_year,'Heating'] = np.nan"
      ]
    },
    {
      "cell_type": "code",
      "execution_count": null,
      "id": "1cdb2f96-dc36-4c96-a164-4ec4ca8e3f04",
      "metadata": {
        "id": "1cdb2f96-dc36-4c96-a164-4ec4ca8e3f04",
        "outputId": "02b6e373-baac-4b28-982c-4e17a3baaa35"
      },
      "outputs": [
        {
          "data": {
            "text/plain": [
              "0.3123117429663968"
            ]
          },
          "execution_count": 176,
          "metadata": {},
          "output_type": "execute_result"
        }
      ],
      "source": [
        "df['Heating'].isnull().sum()/len(df)"
      ]
    },
    {
      "cell_type": "code",
      "execution_count": null,
      "id": "fc9ce320-3c0b-43c0-96a5-1f7d6a69c542",
      "metadata": {
        "id": "fc9ce320-3c0b-43c0-96a5-1f7d6a69c542"
      },
      "outputs": [],
      "source": [
        "df['Heating'] = df['Heating'].str.replace('^.*electric.*','electric', regex=True)"
      ]
    },
    {
      "cell_type": "code",
      "execution_count": null,
      "id": "40aa0674-1693-4c18-8154-3edfd41281b7",
      "metadata": {
        "id": "40aa0674-1693-4c18-8154-3edfd41281b7"
      },
      "outputs": [],
      "source": [
        "df['Heating'] = df['Heating'].str.replace('^.*gas.*','gas', regex=True)"
      ]
    },
    {
      "cell_type": "code",
      "execution_count": null,
      "id": "f5a0895c-0e71-4b7f-bec9-541b341eaed4",
      "metadata": {
        "id": "f5a0895c-0e71-4b7f-bec9-541b341eaed4"
      },
      "outputs": [],
      "source": [
        "df['Heating'] = df['Heating'].str.replace('^.*heatpump.*','heatpump', regex=True)"
      ]
    },
    {
      "cell_type": "code",
      "execution_count": null,
      "id": "a2c0f73e-fcbd-45e9-a8c7-2d9562582914",
      "metadata": {
        "id": "a2c0f73e-fcbd-45e9-a8c7-2d9562582914"
      },
      "outputs": [],
      "source": [
        "df['Heating'] = df['Heating'].str.replace('^.*wall.*','wall', regex=True)"
      ]
    },
    {
      "cell_type": "code",
      "execution_count": null,
      "id": "b4b3c551-7833-4120-a948-0eaeada7fec4",
      "metadata": {
        "id": "b4b3c551-7833-4120-a948-0eaeada7fec4"
      },
      "outputs": [],
      "source": [
        "df['Heating'] = df['Heating'].str.replace('^.*heating.*','heating', regex=True)"
      ]
    },
    {
      "cell_type": "code",
      "execution_count": null,
      "id": "a38de7c7-2c90-4dc8-b50a-e42bf254f5e6",
      "metadata": {
        "id": "a38de7c7-2c90-4dc8-b50a-e42bf254f5e6"
      },
      "outputs": [],
      "source": [
        "df['Heating'] = df['Heating'].str.replace('^.*baseboard.*','baseboard', regex=True)"
      ]
    },
    {
      "cell_type": "code",
      "execution_count": null,
      "id": "a7797538-3cbf-42d0-a602-a39dc17c0205",
      "metadata": {
        "id": "a7797538-3cbf-42d0-a602-a39dc17c0205"
      },
      "outputs": [],
      "source": [
        "df['Heating'] = df['Heating'].str.replace('^.*forcedair.*','forcedair', regex=True)"
      ]
    },
    {
      "cell_type": "code",
      "execution_count": null,
      "id": "19008213-9d24-452b-927a-830f89af05f8",
      "metadata": {
        "id": "19008213-9d24-452b-927a-830f89af05f8",
        "outputId": "fe3e1d9e-aac5-4d5e-b3b4-55598a4e43d3"
      },
      "outputs": [
        {
          "data": {
            "text/plain": [
              "249472"
            ]
          },
          "execution_count": 184,
          "metadata": {},
          "output_type": "execute_result"
        }
      ],
      "source": [
        "df['Heating'].value_counts()[0:10].sum()"
      ]
    },
    {
      "cell_type": "code",
      "execution_count": null,
      "id": "2aa9243b-b0c7-4b97-9c19-097f2367f1c0",
      "metadata": {
        "id": "2aa9243b-b0c7-4b97-9c19-097f2367f1c0"
      },
      "outputs": [],
      "source": [
        "objects_to_encode4 = df['Heating'].value_counts().index.tolist()[:10]\n",
        "len(objects_to_encode4) #10 самых частых значений\n",
        "\n",
        "df.loc[~df['Heating'].isin(objects_to_encode4), 'Heating'] = np.nan\n",
        "\n",
        "label_encoder = LabelEncoder()\n",
        "\n",
        "# Применение LabelEncoder к столбцу 'state'\n",
        "df['Heating'] = label_encoder.fit_transform(df['Heating'])"
      ]
    },
    {
      "cell_type": "code",
      "execution_count": null,
      "id": "9ebf05ed-6d31-4776-b5be-b1d093893090",
      "metadata": {
        "id": "9ebf05ed-6d31-4776-b5be-b1d093893090",
        "outputId": "d28d61f1-c364-4b82-f3dd-95a87dbf2ef1"
      },
      "outputs": [
        {
          "data": {
            "text/plain": [
              "array(['baseboard', 'central', 'centralair', 'electric', 'forcedair',\n",
              "       'gas', 'heating', 'heatpump', 'other', 'wall', nan], dtype=object)"
            ]
          },
          "execution_count": 186,
          "metadata": {},
          "output_type": "execute_result"
        }
      ],
      "source": [
        "label_encoder.classes_"
      ]
    },
    {
      "cell_type": "code",
      "execution_count": null,
      "id": "95994b19-46ae-4a8d-bdeb-2a9b1ea84d5d",
      "metadata": {
        "id": "95994b19-46ae-4a8d-bdeb-2a9b1ea84d5d",
        "outputId": "aa444a83-b3a9-49b5-e8ad-95b941659263"
      },
      "outputs": [
        {
          "data": {
            "text/plain": [
              "Heating\n",
              "4     134565\n",
              "10    125016\n",
              "3      29163\n",
              "8      29060\n",
              "5      17278\n",
              "7      12079\n",
              "2       7814\n",
              "1       6247\n",
              "6       4704\n",
              "0       4286\n",
              "9       4276\n",
              "Name: count, dtype: int64"
            ]
          },
          "execution_count": 187,
          "metadata": {},
          "output_type": "execute_result"
        }
      ],
      "source": [
        "df['Heating'].value_counts()"
      ]
    },
    {
      "cell_type": "markdown",
      "id": "9abce965-08df-4b7d-8960-f6a87959094d",
      "metadata": {
        "id": "9abce965-08df-4b7d-8960-f6a87959094d"
      },
      "source": [
        "<h4>15.4 Cooling</h4>"
      ]
    },
    {
      "cell_type": "code",
      "execution_count": null,
      "id": "ce436970-4768-477b-a99d-66a1fe73f563",
      "metadata": {
        "id": "ce436970-4768-477b-a99d-66a1fe73f563"
      },
      "outputs": [],
      "source": [
        "df['Cooling']=df['Cooling'].str.lower()"
      ]
    },
    {
      "cell_type": "code",
      "execution_count": null,
      "id": "9c09ddf5-d7e5-4d21-8077-d5d53a39f461",
      "metadata": {
        "id": "9c09ddf5-d7e5-4d21-8077-d5d53a39f461",
        "outputId": "7730d125-6d10-46cc-9e85-56173ed28eb8"
      },
      "outputs": [
        {
          "data": {
            "text/plain": [
              "Cooling\n",
              "'central'                                            157605\n",
              "''                                                   119414\n",
              "'central air'                                         14382\n",
              "'no data'                                             10394\n",
              "'has cooling'                                          9729\n",
              "'none'                                                 7288\n",
              "'central electric'                                     6154\n",
              "'wall'                                                 3983\n",
              "'central gas'                                          3573\n",
              "none                                                   3485\n",
              "'central heating'                                      2807\n",
              "'cooling system'                                       2699\n",
              "'central a/c'                                          2051\n",
              "'other'                                                1792\n",
              "'central a/c (electric), central heat (gas)'           1646\n",
              "'central a/c (electric), central heat (electric)'      1429\n",
              "'refrigeration'                                        1061\n",
              "'central, electric'                                    1059\n",
              "'electric'                                             1009\n",
              "'evaporative'                                           987\n",
              "Name: count, dtype: int64"
            ]
          },
          "execution_count": 189,
          "metadata": {},
          "output_type": "execute_result"
        }
      ],
      "source": [
        "df['Cooling'].value_counts().head(20)"
      ]
    },
    {
      "cell_type": "code",
      "execution_count": null,
      "id": "39d91fd2-a148-4964-a5f8-ee8cc02d7cec",
      "metadata": {
        "id": "39d91fd2-a148-4964-a5f8-ee8cc02d7cec",
        "outputId": "e120d5cb-d620-465d-ed3c-e230ce2eb6ae"
      },
      "outputs": [
        {
          "data": {
            "text/plain": [
              "0.3753952062549401"
            ]
          },
          "execution_count": 190,
          "metadata": {},
          "output_type": "execute_result"
        }
      ],
      "source": [
        "df['Cooling'] = df['Cooling'].str.replace(\"'\",'', regex=True)\n",
        "df['Cooling']=df['Cooling'].str.replace('/', '').str.replace(',', '').str.replace('-', '').str.replace(' ', '')\n",
        "mask_year = df['Cooling'].isin(['', 'nodata', 'none'])\n",
        "df.loc[mask_year,'Cooling'] = np.nan\n",
        "df['Cooling'].isnull().sum()/len(df)"
      ]
    },
    {
      "cell_type": "markdown",
      "id": "8cc70e06-12ff-4dc1-aedc-d37967417a0d",
      "metadata": {
        "id": "8cc70e06-12ff-4dc1-aedc-d37967417a0d"
      },
      "source": [
        "Самые частые значения малы, процент пропусков в любом случае очень высок"
      ]
    },
    {
      "cell_type": "code",
      "execution_count": null,
      "id": "e8cbf98a-98fd-4871-87bc-3a8c60552392",
      "metadata": {
        "id": "e8cbf98a-98fd-4871-87bc-3a8c60552392"
      },
      "outputs": [],
      "source": [
        "df = df.drop('Cooling', axis=1)"
      ]
    },
    {
      "cell_type": "markdown",
      "id": "c9d17cd3-1f48-4770-8ab8-73f5772b7be6",
      "metadata": {
        "id": "c9d17cd3-1f48-4770-8ab8-73f5772b7be6"
      },
      "source": [
        "<h4>15.5 Parking</h4>"
      ]
    },
    {
      "cell_type": "code",
      "execution_count": null,
      "id": "f2057c9c-dd5b-4cd4-b2aa-d87c77d8cb7c",
      "metadata": {
        "id": "f2057c9c-dd5b-4cd4-b2aa-d87c77d8cb7c",
        "outputId": "0bc28e51-c35f-4aa9-8b9d-da41145dbee4"
      },
      "outputs": [
        {
          "data": {
            "text/plain": [
              "0"
            ]
          },
          "execution_count": 192,
          "metadata": {},
          "output_type": "execute_result"
        }
      ],
      "source": [
        "df.Parking.isnull().sum()"
      ]
    },
    {
      "cell_type": "code",
      "execution_count": null,
      "id": "10ba31fd-f90b-4a0c-85fe-4a3d564ea91d",
      "metadata": {
        "id": "10ba31fd-f90b-4a0c-85fe-4a3d564ea91d",
        "outputId": "3c528dd6-9253-4d90-9eb5-769248f08d6e"
      },
      "outputs": [
        {
          "data": {
            "text/plain": [
              "Parking\n",
              "''                                    170850\n",
              "'Attached Garage'                      70224\n",
              "'2 spaces'                             27864\n",
              "'1 space'                              14108\n",
              "'Detached Garage'                      13091\n",
              "'No Data'                              13021\n",
              "'Carport'                               7663\n",
              "'3 spaces'                              4702\n",
              "'Off Street'                            3601\n",
              "None                                    3485\n",
              "'Carport, Attached Garage'              3006\n",
              "'1'                                     2927\n",
              "'4 spaces'                              2900\n",
              "'2'                                     2745\n",
              "'None'                                  2341\n",
              "'Off street'                            1639\n",
              "'Attached Garage, Detached Garage'      1334\n",
              "'On Street'                             1237\n",
              "'0'                                     1114\n",
              "'Attached Garage, Carport'               987\n",
              "Name: count, dtype: int64"
            ]
          },
          "execution_count": 193,
          "metadata": {},
          "output_type": "execute_result"
        }
      ],
      "source": [
        "df.Parking.value_counts()[0:20]"
      ]
    },
    {
      "cell_type": "code",
      "execution_count": null,
      "id": "4aa819d7-bed5-48ea-9697-8a8c7e3fceb1",
      "metadata": {
        "id": "4aa819d7-bed5-48ea-9697-8a8c7e3fceb1"
      },
      "outputs": [],
      "source": [
        "#df['Parking']=df['Parking']"
      ]
    },
    {
      "cell_type": "code",
      "execution_count": null,
      "id": "9e18967b-4e6a-4832-a903-7919269b5141",
      "metadata": {
        "id": "9e18967b-4e6a-4832-a903-7919269b5141"
      },
      "outputs": [],
      "source": [
        "df['Parking']=df['Parking'].str.lower()\n",
        "df['Parking'] = df['Parking'].str.replace(\"'\",'', regex=True)\n",
        "df['Parking']=df['Parking'].str.replace('/', '').str.replace(',', '').str.replace('-', '').str.replace(' ', '')\n",
        "mask_year = df['Parking'].isin(['', 'nodata', 'none', '-', 'sqftlot', '—'])\n",
        "df.loc[mask_year,'Parking'] = np.nan"
      ]
    },
    {
      "cell_type": "code",
      "execution_count": null,
      "id": "fcbe94b6-6af0-4eb8-b70f-f1333ef3bd4f",
      "metadata": {
        "id": "fcbe94b6-6af0-4eb8-b70f-f1333ef3bd4f",
        "outputId": "caca2f1f-1f91-4174-a869-74eeb813e0b4"
      },
      "outputs": [
        {
          "data": {
            "text/plain": [
              "189700"
            ]
          },
          "execution_count": 196,
          "metadata": {},
          "output_type": "execute_result"
        }
      ],
      "source": [
        "df.Parking.isnull().sum() #пропуски 50% почистим"
      ]
    },
    {
      "cell_type": "code",
      "execution_count": null,
      "id": "99281ad0-911b-4b39-af37-84485a0a6b90",
      "metadata": {
        "id": "99281ad0-911b-4b39-af37-84485a0a6b90"
      },
      "outputs": [],
      "source": [
        "df['Parking'] = df['Parking'].str.replace('^.*street.*','street', regex=True)\n",
        "df['Parking'] = df['Parking'].str.replace('^.*garage.*','garage', regex=True)\n",
        "df['Parking'] = df['Parking'].str.replace('^.*space.*','port', regex=True)\n",
        "df['Parking'] = df['Parking'].str.replace('^.*port.*','port', regex=True)\n",
        "df['Parking'] = df['Parking'].str.replace('^\\d','port', regex=True)\n",
        "df['Parking'] = df['Parking'].str.replace('^.*door.*','garage', regex=True)\n",
        "df['Parking'] = df['Parking'].str.replace('^.*driveway.*','street', regex=True)"
      ]
    },
    {
      "cell_type": "code",
      "execution_count": null,
      "id": "46e76710-ec3e-4428-9799-c4d749ad6bf5",
      "metadata": {
        "id": "46e76710-ec3e-4428-9799-c4d749ad6bf5"
      },
      "outputs": [],
      "source": [
        "df=df.drop('Parking', axis=1)"
      ]
    },
    {
      "cell_type": "markdown",
      "id": "0ea0f8d4-33af-47c4-996a-0554181159cc",
      "metadata": {
        "id": "0ea0f8d4-33af-47c4-996a-0554181159cc"
      },
      "source": [
        "15.6 <h4>lotsize</h4>"
      ]
    },
    {
      "cell_type": "code",
      "execution_count": null,
      "id": "79147f49-dfa8-4cfa-8902-e1be72ecbb38",
      "metadata": {
        "id": "79147f49-dfa8-4cfa-8902-e1be72ecbb38",
        "outputId": "5d0b81b9-8349-422a-9265-5237717f12ec"
      },
      "outputs": [
        {
          "data": {
            "text/plain": [
              "lotsize\n",
              "''                  32850\n",
              "none                28145\n",
              "'—'                 25174\n",
              "'no data'            5294\n",
              "'-- sqft lot'        3812\n",
              "                    ...  \n",
              "'96093'                 1\n",
              "'5,695 sq. ft.'         1\n",
              "'9,537 sq. ft.'         1\n",
              "'29873'                 1\n",
              "'7,084 sqft lot'        1\n",
              "Name: count, Length: 36549, dtype: int64"
            ]
          },
          "execution_count": 199,
          "metadata": {},
          "output_type": "execute_result"
        }
      ],
      "source": [
        "df['lotsize'].str.lower().value_counts()"
      ]
    },
    {
      "cell_type": "code",
      "execution_count": null,
      "id": "4d9d1c37-7cb4-41a9-82a0-0e09b0b25efd",
      "metadata": {
        "id": "4d9d1c37-7cb4-41a9-82a0-0e09b0b25efd"
      },
      "outputs": [],
      "source": [
        "df['lotsize']=df['lotsize'].str.lower()\n",
        "df['lotsize'] = df['lotsize'].str.replace(\"'\",'', regex=True)\n",
        "df['lotsize']=df['lotsize'].str.replace('/', '').str.replace(',', '').str.replace('-', '').str.replace(' ', '')\n",
        "mask_year = df['lotsize'].isin(['', 'nodata', 'none', '-', 'sqftlot', '—'])\n",
        "df.loc[mask_year,'lotsize'] = np.nan"
      ]
    },
    {
      "cell_type": "code",
      "execution_count": null,
      "id": "24f402f0-f1ad-4c42-a872-bf6ac1fb9ffe",
      "metadata": {
        "id": "24f402f0-f1ad-4c42-a872-bf6ac1fb9ffe",
        "outputId": "d63bd7a6-33ab-444b-b82a-624b40d5ff3e"
      },
      "outputs": [
        {
          "data": {
            "text/plain": [
              "array([nan, '5828sqft', '8626sqft', '8220sqft', '10019sqft', '680sqft',\n",
              "       '4996sq.ft.', '8750sq.ft.', '124582', '2056sqft', '1.73acres',\n",
              "       '5715sq.ft.', '10270sqft', '7000sqftlot', '2130sqft', '2003sq.ft.',\n",
              "       '5304sq.ft.', '1782sq.ft.', '10424sqft', '8110sqft'], dtype=object)"
            ]
          },
          "execution_count": 201,
          "metadata": {},
          "output_type": "execute_result"
        }
      ],
      "source": [
        "df['lotsize'].unique()[0:20]"
      ]
    },
    {
      "cell_type": "code",
      "execution_count": null,
      "id": "e2db440d-23bc-44d0-848b-0ca4992e1449",
      "metadata": {
        "id": "e2db440d-23bc-44d0-848b-0ca4992e1449"
      },
      "outputs": [],
      "source": [
        "mask = df['lotsize'].str.contains('acr', na=False)\n",
        "df.loc[mask, 'lotsize'] = df.loc[mask, 'lotsize'].str.replace('[a-zA-Z]', '', regex=True)\n",
        "df.loc[mask, 'lotsize'] = pd.to_numeric(df.loc[mask, 'lotsize'], errors='coerce')\n",
        "df.loc[mask, 'lotsize'] = df.loc[mask, 'lotsize'] * 43560"
      ]
    },
    {
      "cell_type": "code",
      "execution_count": null,
      "id": "84be337c-ca22-44c9-ad5a-dd0eef6f0edc",
      "metadata": {
        "id": "84be337c-ca22-44c9-ad5a-dd0eef6f0edc"
      },
      "outputs": [],
      "source": [
        "mask = df['lotsize'].str.contains('sq', na=False)\n",
        "df.loc[mask, 'lotsize'] = df.loc[mask, 'lotsize'].str.replace('[a-zA-Z]', '', regex=True)\n",
        "df.loc[mask, 'lotsize'] = pd.to_numeric(df.loc[mask, 'lotsize'], errors='coerce')"
      ]
    },
    {
      "cell_type": "code",
      "execution_count": null,
      "id": "e6a7b92c-15d0-46eb-a9aa-723138e16dab",
      "metadata": {
        "id": "e6a7b92c-15d0-46eb-a9aa-723138e16dab"
      },
      "outputs": [],
      "source": [
        "df['lotsize']=pd.to_numeric(df['lotsize'], errors='coerce')"
      ]
    },
    {
      "cell_type": "code",
      "execution_count": null,
      "id": "f9e1ed4e-eb0e-41cf-98f8-2d43f4cd1f15",
      "metadata": {
        "id": "f9e1ed4e-eb0e-41cf-98f8-2d43f4cd1f15",
        "outputId": "3d3b8b9d-6c3b-42ee-ad0b-c785883b32ae"
      },
      "outputs": [
        {
          "data": {
            "text/plain": [
              "122930"
            ]
          },
          "execution_count": 205,
          "metadata": {},
          "output_type": "execute_result"
        }
      ],
      "source": [
        "df['lotsize'].isna().sum()"
      ]
    },
    {
      "cell_type": "markdown",
      "id": "64891d3e-9967-4946-b2a8-661ca496fe0b",
      "metadata": {
        "id": "64891d3e-9967-4946-b2a8-661ca496fe0b"
      },
      "source": [
        "15.6 <h4>Price/sqft</h4>"
      ]
    },
    {
      "cell_type": "markdown",
      "id": "2e8325ad-9aa2-42b3-b646-ef40ce6dfadc",
      "metadata": {
        "id": "2e8325ad-9aa2-42b3-b646-ef40ce6dfadc"
      },
      "source": [
        "Так как в комбинации с sqft данный параметр автоматически показывает цену, удаляем"
      ]
    },
    {
      "cell_type": "code",
      "execution_count": null,
      "id": "ae443214-322f-4dff-a17a-8f122ac9da86",
      "metadata": {
        "id": "ae443214-322f-4dff-a17a-8f122ac9da86"
      },
      "outputs": [],
      "source": [
        "df=df.drop('Price/sqft', axis=1)"
      ]
    },
    {
      "cell_type": "markdown",
      "id": "14b9c902-89a9-473f-a7a5-b3f28ed6daef",
      "metadata": {
        "id": "14b9c902-89a9-473f-a7a5-b3f28ed6daef"
      },
      "source": [
        "Тут всё, теперь посмотрим на 'Schools'"
      ]
    },
    {
      "cell_type": "code",
      "execution_count": null,
      "id": "82a0fde9-0171-486c-8ea2-4c733d0ff0f8",
      "metadata": {
        "id": "82a0fde9-0171-486c-8ea2-4c733d0ff0f8",
        "outputId": "c464f2a0-823e-48ab-a7e1-43e9a5e17a3b"
      },
      "outputs": [
        {
          "data": {
            "text/plain": [
              "'[{\\'rating\\': [\\'4\\', \\'4\\', \\'7\\', \\'NR\\', \\'4\\', \\'7\\', \\'NR\\', \\'NR\\'], \\'data\\': {\\'Distance\\': [\\'2.7 mi\\', \\'3.6 mi\\', \\'5.1 mi\\', \\'4.0 mi\\', \\'10.5 mi\\', \\'12.6 mi\\', \\'2.7 mi\\', \\'3.1 mi\\'], \\'Grades\\': [\\'3–5\\', \\'6–8\\', \\'9–12\\', \\'PK–2\\', \\'6–8\\', \\'9–12\\', \\'PK–5\\', \\'K–12\\']}, \\'name\\': [\\'Southern Pines Elementary School\\', \\'Southern Middle School\\', \\'Pinecrest High School\\', \\'Southern Pines Primary School\\', \"Crain\\'s Creek Middle School\", \\'Union Pines High School\\', \\'Episcopal Day Private School\\', \\'Calvary Christian Private School\\']}]'"
            ]
          },
          "execution_count": 207,
          "metadata": {},
          "output_type": "execute_result"
        }
      ],
      "source": [
        "df['schools'][0]"
      ]
    },
    {
      "cell_type": "code",
      "execution_count": null,
      "id": "18770b30-5de5-44a6-bb05-41bb4dff8feb",
      "metadata": {
        "id": "18770b30-5de5-44a6-bb05-41bb4dff8feb",
        "outputId": "bddab8dc-206a-4ad0-b616-c56b0141b60b"
      },
      "outputs": [
        {
          "data": {
            "text/plain": [
              "0         [['4', '4', '7', 'NR', '4', '7', 'NR', 'NR']]\n",
              "1                         [['4/10', 'None/10', '4/10']]\n",
              "2                            [['8/10', '4/10', '8/10']]\n",
              "3                   [['9/10', '9/10', '10/10', '9/10']]\n",
              "4                            [['4/10', '5/10', '5/10']]\n",
              "                              ...                      \n",
              "377130                              [['10/10', '5/10']]\n",
              "377131                       [['1/10', '5/10', '7/10']]\n",
              "377132                               [['5/10', '4/10']]\n",
              "377133                             [['NA', 'NA', 'NA']]\n",
              "377134                       [['5/10', '4/10', '3/10']]\n",
              "Name: schools, Length: 374488, dtype: object"
            ]
          },
          "execution_count": 208,
          "metadata": {},
          "output_type": "execute_result"
        }
      ],
      "source": [
        "# rating\n",
        "s_rating = df.schools.str.findall(r\"\\brating': ([\\s\\S]+?), 'data\\b\")\n",
        "s_rating"
      ]
    },
    {
      "cell_type": "code",
      "execution_count": null,
      "id": "cb63da73-457e-447b-a971-399650cb83f9",
      "metadata": {
        "id": "cb63da73-457e-447b-a971-399650cb83f9",
        "outputId": "1f809192-174a-4b10-9ff5-519a672a7eb5"
      },
      "outputs": [
        {
          "data": {
            "text/plain": [
              "0         [['2.7 mi', '3.6 mi', '5.1 mi', '4.0 mi', '10....\n",
              "1                          [['1.65mi', '1.32mi', '1.01mi']]\n",
              "2                          [['1.19mi', '2.06mi', '2.63mi']]\n",
              "3                 [['1.05mi', '0.1mi', '1.05mi', '0.81mi']]\n",
              "4                          [['5.96mi', '3.25mi', '3.03mi']]\n",
              "                                ...                        \n",
              "377130                              [['32.1 mi', '1.1 mi']]\n",
              "377131                     [['10.61mi', '1.42mi', '0.4mi']]\n",
              "377132                               [['0.48mi', '0.73mi']]\n",
              "377133                     [['1.3 mi', '0.5 mi', '1.9 mi']]\n",
              "377134                     [['0.3 mi', '1.1 mi', '4.1 mi']]\n",
              "Name: schools, Length: 374488, dtype: object"
            ]
          },
          "execution_count": 209,
          "metadata": {},
          "output_type": "execute_result"
        }
      ],
      "source": [
        "# Distance\n",
        "s_distance = df.schools.str.findall(r\"\\bDistance': ([\\s\\S]+?), 'Grades\\b\")\n",
        "s_distance"
      ]
    },
    {
      "cell_type": "markdown",
      "id": "0f09b324-3735-43aa-8146-1dac9c537869",
      "metadata": {
        "id": "0f09b324-3735-43aa-8146-1dac9c537869"
      },
      "source": [
        "Классы и названия логически имеют мало связи с прогнозируемой стоимостью дома, поэтому с учётом сложности их обработки пропустим"
      ]
    },
    {
      "cell_type": "code",
      "execution_count": null,
      "id": "5fa8c1ec-8866-438f-952c-e7c5bfd677f2",
      "metadata": {
        "id": "5fa8c1ec-8866-438f-952c-e7c5bfd677f2",
        "outputId": "ae1a5f43-b78f-4608-a7c1-e8cea6f626ab"
      },
      "outputs": [
        {
          "data": {
            "text/plain": [
              "0         ['4', '4', '7', 'NR', '4', '7', 'NR', 'NR']\n",
              "1                         ['4/10', 'None/10', '4/10']\n",
              "2                            ['8/10', '4/10', '8/10']\n",
              "3                   ['9/10', '9/10', '10/10', '9/10']\n",
              "4                            ['4/10', '5/10', '5/10']\n",
              "                             ...                     \n",
              "377130                              ['10/10', '5/10']\n",
              "377131                       ['1/10', '5/10', '7/10']\n",
              "377132                               ['5/10', '4/10']\n",
              "377133                             ['NA', 'NA', 'NA']\n",
              "377134                       ['5/10', '4/10', '3/10']\n",
              "Name: schools, Length: 374488, dtype: object"
            ]
          },
          "execution_count": 210,
          "metadata": {},
          "output_type": "execute_result"
        }
      ],
      "source": [
        "s_rating = s_rating.apply(lambda x: x[0])\n",
        "s_rating"
      ]
    },
    {
      "cell_type": "code",
      "execution_count": null,
      "id": "c08ba6c1-d5a5-4c7d-bb29-d386a6f3b297",
      "metadata": {
        "id": "c08ba6c1-d5a5-4c7d-bb29-d386a6f3b297",
        "outputId": "6b706f35-2d4d-4be0-cdc4-785005e05865"
      },
      "outputs": [
        {
          "data": {
            "text/plain": [
              "0         ['4', '4', '7', 'NR', '4', '7', 'NR', 'NR']\n",
              "1                                  ['4', 'None', '4']\n",
              "2                                     ['8', '4', '8']\n",
              "3                               ['9', '9', '10', '9']\n",
              "4                                     ['4', '5', '5']\n",
              "                             ...                     \n",
              "377130                                    ['10', '5']\n",
              "377131                                ['1', '5', '7']\n",
              "377132                                     ['5', '4']\n",
              "377133                             ['NA', 'NA', 'NA']\n",
              "377134                                ['5', '4', '3']\n",
              "Name: schools, Length: 374488, dtype: object"
            ]
          },
          "execution_count": 211,
          "metadata": {},
          "output_type": "execute_result"
        }
      ],
      "source": [
        "s_rating = s_rating.str.replace('/10','', regex=False)\n",
        "s_rating"
      ]
    },
    {
      "cell_type": "code",
      "execution_count": null,
      "id": "414012dc-4552-41fa-941b-de62c11df7a7",
      "metadata": {
        "id": "414012dc-4552-41fa-941b-de62c11df7a7"
      },
      "outputs": [],
      "source": [
        "s_rating = s_rating.str.replace('[a-zA-Z]','', regex=True)"
      ]
    },
    {
      "cell_type": "code",
      "execution_count": null,
      "id": "88b8fb9a-cb71-432f-8f41-f540f358bb31",
      "metadata": {
        "id": "88b8fb9a-cb71-432f-8f41-f540f358bb31",
        "outputId": "1a7f2ab5-5cb9-4d21-94d6-8d4eed1b7900"
      },
      "outputs": [
        {
          "data": {
            "text/plain": [
              "0         [4, 4, 7, 4, 7]\n",
              "1                  [4, 4]\n",
              "2               [8, 4, 8]\n",
              "3               [9, 9, 9]\n",
              "4               [4, 5, 5]\n",
              "               ...       \n",
              "377130                [5]\n",
              "377131          [1, 5, 7]\n",
              "377132             [5, 4]\n",
              "377133                 []\n",
              "377134          [5, 4, 3]\n",
              "Name: schools, Length: 374488, dtype: object"
            ]
          },
          "execution_count": 213,
          "metadata": {},
          "output_type": "execute_result"
        }
      ],
      "source": [
        "s_rating = s_rating.str.findall(r'\\b([0-9])\\'')\n",
        "s_rating"
      ]
    },
    {
      "cell_type": "code",
      "execution_count": null,
      "id": "781dd3c2-a61f-4279-a11e-6338482ad105",
      "metadata": {
        "id": "781dd3c2-a61f-4279-a11e-6338482ad105",
        "outputId": "081f2aeb-7512-4af8-c9a8-307be29582b0"
      },
      "outputs": [
        {
          "data": {
            "text/plain": [
              "0         [4.0, 4.0, 7.0, 4.0, 7.0]\n",
              "1                        [4.0, 4.0]\n",
              "2                   [8.0, 4.0, 8.0]\n",
              "3                   [9.0, 9.0, 9.0]\n",
              "4                   [4.0, 5.0, 5.0]\n",
              "                    ...            \n",
              "377130                        [5.0]\n",
              "377131              [1.0, 5.0, 7.0]\n",
              "377132                   [5.0, 4.0]\n",
              "377133                           []\n",
              "377134              [5.0, 4.0, 3.0]\n",
              "Name: schools, Length: 374488, dtype: object"
            ]
          },
          "execution_count": 214,
          "metadata": {},
          "output_type": "execute_result"
        }
      ],
      "source": [
        "s_rating = s_rating.apply(lambda x: [float(i) for i in x])\n",
        "s_rating"
      ]
    },
    {
      "cell_type": "code",
      "execution_count": null,
      "id": "22f10eb7-12e0-4663-b52b-9543b272bb17",
      "metadata": {
        "id": "22f10eb7-12e0-4663-b52b-9543b272bb17",
        "outputId": "4734cbb1-c9e3-43e6-ed17-1cde91cfc498"
      },
      "outputs": [
        {
          "name": "stderr",
          "output_type": "stream",
          "text": [
            "/usr/lib/python3/dist-packages/numpy/lib/function_base.py:518: RuntimeWarning: Mean of empty slice.\n",
            "  avg = a.mean(axis, **keepdims_kw)\n",
            "/usr/lib/python3/dist-packages/numpy/core/_methods.py:192: RuntimeWarning: invalid value encountered in scalar divide\n",
            "  ret = ret.dtype.type(ret / rcount)\n"
          ]
        },
        {
          "data": {
            "text/plain": [
              "0         5.200000\n",
              "1         4.000000\n",
              "2         6.666667\n",
              "3         9.000000\n",
              "4         4.666667\n",
              "            ...   \n",
              "377130    5.000000\n",
              "377131    4.333333\n",
              "377132    4.500000\n",
              "377133         NaN\n",
              "377134    4.000000\n",
              "Name: schools, Length: 374488, dtype: float64"
            ]
          },
          "execution_count": 215,
          "metadata": {},
          "output_type": "execute_result"
        }
      ],
      "source": [
        "s_rating = s_rating.apply(lambda x: np.average([int(i) for i in x]))\n",
        "s_rating"
      ]
    },
    {
      "cell_type": "code",
      "execution_count": null,
      "id": "daae9c76-1b03-47eb-a4a6-1c4cff067bdf",
      "metadata": {
        "id": "daae9c76-1b03-47eb-a4a6-1c4cff067bdf",
        "outputId": "a8491492-f4c4-4f01-9481-48454d677786"
      },
      "outputs": [
        {
          "data": {
            "text/plain": [
              "0         5.200000\n",
              "1         4.000000\n",
              "2         6.666667\n",
              "3         9.000000\n",
              "4         4.666667\n",
              "            ...   \n",
              "377130    5.000000\n",
              "377131    4.333333\n",
              "377132    4.500000\n",
              "377133    4.926550\n",
              "377134    4.000000\n",
              "Name: schools, Length: 374488, dtype: float64"
            ]
          },
          "execution_count": 216,
          "metadata": {},
          "output_type": "execute_result"
        }
      ],
      "source": [
        "s_rating.fillna(s_rating.mean())"
      ]
    },
    {
      "cell_type": "code",
      "execution_count": null,
      "id": "d653007f-fa74-41ed-a3df-9d043408f087",
      "metadata": {
        "id": "d653007f-fa74-41ed-a3df-9d043408f087"
      },
      "outputs": [],
      "source": [
        "df['mean_school_rate']= s_rating.fillna(s_rating.mean()).round(1)"
      ]
    },
    {
      "cell_type": "code",
      "execution_count": null,
      "id": "9a09f103-b3ec-4320-8db8-f14e650dd6f4",
      "metadata": {
        "id": "9a09f103-b3ec-4320-8db8-f14e650dd6f4",
        "outputId": "8280652a-bc8f-4af1-8953-f338d92ea572"
      },
      "outputs": [
        {
          "data": {
            "text/plain": [
              "0         [['2.7 mi', '3.6 mi', '5.1 mi', '4.0 mi', '10....\n",
              "1                          [['1.65mi', '1.32mi', '1.01mi']]\n",
              "2                          [['1.19mi', '2.06mi', '2.63mi']]\n",
              "3                 [['1.05mi', '0.1mi', '1.05mi', '0.81mi']]\n",
              "4                          [['5.96mi', '3.25mi', '3.03mi']]\n",
              "                                ...                        \n",
              "377130                              [['32.1 mi', '1.1 mi']]\n",
              "377131                     [['10.61mi', '1.42mi', '0.4mi']]\n",
              "377132                               [['0.48mi', '0.73mi']]\n",
              "377133                     [['1.3 mi', '0.5 mi', '1.9 mi']]\n",
              "377134                     [['0.3 mi', '1.1 mi', '4.1 mi']]\n",
              "Name: schools, Length: 374488, dtype: object"
            ]
          },
          "execution_count": 218,
          "metadata": {},
          "output_type": "execute_result"
        }
      ],
      "source": [
        "s_distance"
      ]
    },
    {
      "cell_type": "code",
      "execution_count": null,
      "id": "d197b43a-beeb-4052-8530-92e870a59a84",
      "metadata": {
        "id": "d197b43a-beeb-4052-8530-92e870a59a84",
        "outputId": "ea5e3b78-bf35-458f-df23-826a46fbda11"
      },
      "outputs": [
        {
          "data": {
            "text/plain": [
              "0         ['2.7 mi', '3.6 mi', '5.1 mi', '4.0 mi', '10.5...\n",
              "1                            ['1.65mi', '1.32mi', '1.01mi']\n",
              "2                            ['1.19mi', '2.06mi', '2.63mi']\n",
              "3                   ['1.05mi', '0.1mi', '1.05mi', '0.81mi']\n",
              "4                            ['5.96mi', '3.25mi', '3.03mi']\n",
              "                                ...                        \n",
              "377130                                ['32.1 mi', '1.1 mi']\n",
              "377131                       ['10.61mi', '1.42mi', '0.4mi']\n",
              "377132                                 ['0.48mi', '0.73mi']\n",
              "377133                       ['1.3 mi', '0.5 mi', '1.9 mi']\n",
              "377134                       ['0.3 mi', '1.1 mi', '4.1 mi']\n",
              "Name: schools, Length: 374488, dtype: object"
            ]
          },
          "execution_count": 219,
          "metadata": {},
          "output_type": "execute_result"
        }
      ],
      "source": [
        "s_distance = s_distance.apply(lambda x: x[0])\n",
        "s_distance"
      ]
    },
    {
      "cell_type": "code",
      "execution_count": null,
      "id": "af5d77f5-f767-4074-ae1b-4b194975f204",
      "metadata": {
        "id": "af5d77f5-f767-4074-ae1b-4b194975f204",
        "outputId": "f74c5f0e-b732-4d16-8af8-01ffae2e7ebe"
      },
      "outputs": [
        {
          "data": {
            "text/plain": [
              "0         ['2.7 ', '3.6 ', '5.1 ', '4.0 ', '10.5 ', '12....\n",
              "1                                  ['1.65', '1.32', '1.01']\n",
              "2                                  ['1.19', '2.06', '2.63']\n",
              "3                           ['1.05', '0.1', '1.05', '0.81']\n",
              "4                                  ['5.96', '3.25', '3.03']\n",
              "                                ...                        \n",
              "377130                                    ['32.1 ', '1.1 ']\n",
              "377131                             ['10.61', '1.42', '0.4']\n",
              "377132                                     ['0.48', '0.73']\n",
              "377133                             ['1.3 ', '0.5 ', '1.9 ']\n",
              "377134                             ['0.3 ', '1.1 ', '4.1 ']\n",
              "Name: schools, Length: 374488, dtype: object"
            ]
          },
          "execution_count": 220,
          "metadata": {},
          "output_type": "execute_result"
        }
      ],
      "source": [
        "s_distance = s_distance.str.replace('[a-zA-Z]','', regex=True)\n",
        "s_distance"
      ]
    },
    {
      "cell_type": "code",
      "execution_count": null,
      "id": "72af8203-9ed9-4e9e-b81e-c9fb678c4513",
      "metadata": {
        "id": "72af8203-9ed9-4e9e-b81e-c9fb678c4513",
        "outputId": "bbdf5460-10eb-4b6b-83fd-39aeb7320f9e"
      },
      "outputs": [
        {
          "data": {
            "text/plain": [
              "0         [2.7, 3.6, 5.1, 4.0, 10.5, 12.6, 2.7, 3.1]\n",
              "1                                 [1.65, 1.32, 1.01]\n",
              "2                                 [1.19, 2.06, 2.63]\n",
              "3                            [1.05, 0.1, 1.05, 0.81]\n",
              "4                                 [5.96, 3.25, 3.03]\n",
              "                             ...                    \n",
              "377130                                   [32.1, 1.1]\n",
              "377131                            [10.61, 1.42, 0.4]\n",
              "377132                                  [0.48, 0.73]\n",
              "377133                               [1.3, 0.5, 1.9]\n",
              "377134                               [0.3, 1.1, 4.1]\n",
              "Name: schools, Length: 374488, dtype: object"
            ]
          },
          "execution_count": 221,
          "metadata": {},
          "output_type": "execute_result"
        }
      ],
      "source": [
        "s_distance = s_distance.str.findall(r'\\b([0-9]+.[0-9]+)')\n",
        "s_distance"
      ]
    },
    {
      "cell_type": "code",
      "execution_count": null,
      "id": "f9c581a4-5a5d-4784-afb3-626e7daed70d",
      "metadata": {
        "id": "f9c581a4-5a5d-4784-afb3-626e7daed70d",
        "outputId": "4a477a92-f4a8-4b6a-8828-87290f77af15"
      },
      "outputs": [
        {
          "data": {
            "text/plain": [
              "0         [2.7, 3.6, 5.1, 4.0, 10.5, 12.6, 2.7, 3.1]\n",
              "1                                 [1.65, 1.32, 1.01]\n",
              "2                                 [1.19, 2.06, 2.63]\n",
              "3                            [1.05, 0.1, 1.05, 0.81]\n",
              "4                                 [5.96, 3.25, 3.03]\n",
              "                             ...                    \n",
              "377130                                   [32.1, 1.1]\n",
              "377131                            [10.61, 1.42, 0.4]\n",
              "377132                                  [0.48, 0.73]\n",
              "377133                               [1.3, 0.5, 1.9]\n",
              "377134                               [0.3, 1.1, 4.1]\n",
              "Name: schools, Length: 374488, dtype: object"
            ]
          },
          "execution_count": 222,
          "metadata": {},
          "output_type": "execute_result"
        }
      ],
      "source": [
        "s_distance = s_distance.apply(lambda x: [float(i) for i in x])\n",
        "s_distance"
      ]
    },
    {
      "cell_type": "code",
      "execution_count": null,
      "id": "593a3d95-6b43-4ac8-8f2c-8d2ece131cda",
      "metadata": {
        "id": "593a3d95-6b43-4ac8-8f2c-8d2ece131cda",
        "outputId": "47f5512f-16b7-421a-d8db-32943887e416"
      },
      "outputs": [
        {
          "data": {
            "text/plain": [
              "0"
            ]
          },
          "execution_count": 223,
          "metadata": {},
          "output_type": "execute_result"
        }
      ],
      "source": [
        "s_distance.isna().sum()"
      ]
    },
    {
      "cell_type": "code",
      "execution_count": null,
      "id": "205fc3d1-df59-43ba-8484-b6b77c44c681",
      "metadata": {
        "id": "205fc3d1-df59-43ba-8484-b6b77c44c681",
        "outputId": "ee2f3d89-abe2-461b-8712-b7006a966634"
      },
      "outputs": [
        {
          "data": {
            "text/plain": [
              "0         2.70\n",
              "1         1.01\n",
              "2         1.19\n",
              "3         0.10\n",
              "4         3.03\n",
              "          ... \n",
              "377130    1.10\n",
              "377131    0.40\n",
              "377132    0.48\n",
              "377133    0.50\n",
              "377134    0.30\n",
              "Name: schools, Length: 374488, dtype: float64"
            ]
          },
          "execution_count": 224,
          "metadata": {},
          "output_type": "execute_result"
        }
      ],
      "source": [
        "dist_sch_min = s_distance.apply(lambda x: np.nan if len(x)==0 else min(x))\n",
        "dist_sch_min"
      ]
    },
    {
      "cell_type": "code",
      "execution_count": null,
      "id": "9f7087bc-e4be-4a80-8567-79000dca7f5d",
      "metadata": {
        "id": "9f7087bc-e4be-4a80-8567-79000dca7f5d"
      },
      "outputs": [],
      "source": [
        "df=df.drop('schools', axis=1)"
      ]
    },
    {
      "cell_type": "code",
      "execution_count": null,
      "id": "30eb580b-d6fc-4bd2-b49f-7b314fc5cdd6",
      "metadata": {
        "id": "30eb580b-d6fc-4bd2-b49f-7b314fc5cdd6"
      },
      "outputs": [],
      "source": [
        "df.to_csv('df.csv', index=False)"
      ]
    },
    {
      "cell_type": "markdown",
      "id": "b41da62b-7484-4f4a-b3e3-ac5f9612586c",
      "metadata": {
        "id": "b41da62b-7484-4f4a-b3e3-ac5f9612586c"
      },
      "source": [
        "<h3>Результаты анализа, заполнение пропусков</h3>"
      ]
    },
    {
      "cell_type": "code",
      "execution_count": null,
      "id": "a585976b-04fd-4095-9b8d-7a29893625bc",
      "metadata": {
        "id": "a585976b-04fd-4095-9b8d-7a29893625bc"
      },
      "outputs": [],
      "source": [
        "df=pd.read_csv('df.csv')"
      ]
    },
    {
      "cell_type": "code",
      "execution_count": null,
      "id": "c03d27a8-0ca1-463c-8262-9cef497f6c63",
      "metadata": {
        "id": "c03d27a8-0ca1-463c-8262-9cef497f6c63",
        "outputId": "b5a7eae4-a32b-4854-cf0d-9c3ecc3745d0"
      },
      "outputs": [
        {
          "name": "stdout",
          "output_type": "stream",
          "text": [
            "<class 'pandas.core.frame.DataFrame'>\n",
            "RangeIndex: 374488 entries, 0 to 374487\n",
            "Data columns (total 14 columns):\n",
            " #   Column            Non-Null Count   Dtype  \n",
            "---  ------            --------------   -----  \n",
            " 0   status            374488 non-null  int64  \n",
            " 1   propertyType      374488 non-null  int64  \n",
            " 2   baths             252440 non-null  float64\n",
            " 3   city              374488 non-null  int64  \n",
            " 4   sqft              321624 non-null  float64\n",
            " 5   beds              245181 non-null  float64\n",
            " 6   state             374488 non-null  int64  \n",
            " 7   stories           211922 non-null  float64\n",
            " 8   PrivatePool       374488 non-null  bool   \n",
            " 9   target            374488 non-null  int64  \n",
            " 10  Year built        311373 non-null  float64\n",
            " 11  Heating           374488 non-null  int64  \n",
            " 12  lotsize           251558 non-null  float64\n",
            " 13  mean_school_rate  374488 non-null  float64\n",
            "dtypes: bool(1), float64(7), int64(6)\n",
            "memory usage: 37.5 MB\n"
          ]
        }
      ],
      "source": [
        "df.info()"
      ]
    },
    {
      "cell_type": "code",
      "execution_count": null,
      "id": "1146889a-cfa1-4ad1-867a-795dcb5bc50b",
      "metadata": {
        "id": "1146889a-cfa1-4ad1-867a-795dcb5bc50b"
      },
      "outputs": [],
      "source": [
        "# Удалим дубли\n",
        "df = df.drop_duplicates(ignore_index=True)"
      ]
    },
    {
      "cell_type": "markdown",
      "id": "b4aa7708-4343-4bda-806d-87bff8a15b4b",
      "metadata": {
        "id": "b4aa7708-4343-4bda-806d-87bff8a15b4b"
      },
      "source": [
        "Посмотрим на распределение признака target"
      ]
    },
    {
      "cell_type": "code",
      "execution_count": null,
      "id": "a549dc80-2982-4d0a-8527-f0fb706a48bd",
      "metadata": {
        "id": "a549dc80-2982-4d0a-8527-f0fb706a48bd",
        "outputId": "82dad564-6124-4683-ff9c-2a40e8bcbd74"
      },
      "outputs": [
        {
          "name": "stderr",
          "output_type": "stream",
          "text": [
            "/home/kali/.local/lib/python3.11/site-packages/seaborn/_oldcore.py:1498: FutureWarning: is_categorical_dtype is deprecated and will be removed in a future version. Use isinstance(dtype, CategoricalDtype) instead\n",
            "  if pd.api.types.is_categorical_dtype(vector):\n",
            "/home/kali/.local/lib/python3.11/site-packages/seaborn/_oldcore.py:1119: FutureWarning: use_inf_as_na option is deprecated and will be removed in a future version. Convert inf values to NaN before operating instead.\n",
            "  with pd.option_context('mode.use_inf_as_na', True):\n",
            "/home/kali/.local/lib/python3.11/site-packages/seaborn/_oldcore.py:1498: FutureWarning: is_categorical_dtype is deprecated and will be removed in a future version. Use isinstance(dtype, CategoricalDtype) instead\n",
            "  if pd.api.types.is_categorical_dtype(vector):\n"
          ]
        },
        {
          "data": {
            "image/png": "[encoded data removed]",
            "text/plain": [
              "<Figure size 1500x400 with 2 Axes>"
            ]
          },
          "metadata": {},
          "output_type": "display_data"
        }
      ],
      "source": [
        "fig, axes = plt.subplots(nrows=1, ncols=2, figsize=(15, 4))\n",
        "histplot = sns.histplot(data=df, x='target', ax=axes[0]);\n",
        "histplot.set_title('Распределение признака «target»');\n",
        "# histplot.axvline(df_v14['target'].mean(), color='red', lw=2)\n",
        "\n",
        "boxplot = sns.boxplot(data=df, x='target', ax=axes[1]);\n",
        "boxplot.set_title('Распределение признака «target»');"
      ]
    },
    {
      "cell_type": "markdown",
      "id": "6ef9cd73-d8e7-46f8-950b-cd35df48a266",
      "metadata": {
        "id": "6ef9cd73-d8e7-46f8-950b-cd35df48a266"
      },
      "source": [
        "Распределение по выбранным штатам"
      ]
    },
    {
      "cell_type": "code",
      "execution_count": null,
      "id": "4d871c0d-6c59-4c82-b405-f35c70fdaf67",
      "metadata": {
        "id": "4d871c0d-6c59-4c82-b405-f35c70fdaf67",
        "outputId": "3512397a-aa66-427d-f829-2b94125920db"
      },
      "outputs": [
        {
          "name": "stderr",
          "output_type": "stream",
          "text": [
            "/home/kali/.local/lib/python3.11/site-packages/seaborn/_oldcore.py:1498: FutureWarning: is_categorical_dtype is deprecated and will be removed in a future version. Use isinstance(dtype, CategoricalDtype) instead\n",
            "  if pd.api.types.is_categorical_dtype(vector):\n",
            "/home/kali/.local/lib/python3.11/site-packages/seaborn/_oldcore.py:1498: FutureWarning: is_categorical_dtype is deprecated and will be removed in a future version. Use isinstance(dtype, CategoricalDtype) instead\n",
            "  if pd.api.types.is_categorical_dtype(vector):\n"
          ]
        },
        {
          "data": {
            "image/png": "[encoded data removed]",
            "text/plain": [
              "<Figure size 1200x600 with 1 Axes>"
            ]
          },
          "metadata": {},
          "output_type": "display_data"
        }
      ],
      "source": [
        "order=df.value_counts('state')\n",
        "plt.rcParams['figure.figsize'] = (12,6)\n",
        "fig, ax = plt.subplots()\n",
        "bar = sns.barplot(data=df, x=\"state\", y='target', estimator=len, order=order.index)\n",
        "bar.set_title(\"распределение количества лотов\")\n",
        "bar.set_xlabel(\"штат\")\n",
        "bar.set_ylabel(\"количество лотов\")\n",
        "plt.show()"
      ]
    },
    {
      "cell_type": "markdown",
      "id": "83270e4b-d17e-4ca9-bfa1-a05bed43d6ca",
      "metadata": {
        "id": "83270e4b-d17e-4ca9-bfa1-a05bed43d6ca"
      },
      "source": [
        "Распределение target в логарифмическом масштабе"
      ]
    },
    {
      "cell_type": "code",
      "execution_count": null,
      "id": "cd1f48a4-66a9-48bd-90d5-31703875d89e",
      "metadata": {
        "id": "cd1f48a4-66a9-48bd-90d5-31703875d89e",
        "outputId": "74063d0f-dc46-4312-e4b7-7ab9cee2e3ce"
      },
      "outputs": [
        {
          "name": "stderr",
          "output_type": "stream",
          "text": [
            "/home/kali/.local/lib/python3.11/site-packages/seaborn/_oldcore.py:1498: FutureWarning: is_categorical_dtype is deprecated and will be removed in a future version. Use isinstance(dtype, CategoricalDtype) instead\n",
            "  if pd.api.types.is_categorical_dtype(vector):\n",
            "/home/kali/.local/lib/python3.11/site-packages/seaborn/_oldcore.py:1119: FutureWarning: use_inf_as_na option is deprecated and will be removed in a future version. Convert inf values to NaN before operating instead.\n",
            "  with pd.option_context('mode.use_inf_as_na', True):\n",
            "/home/kali/.local/lib/python3.11/site-packages/seaborn/_oldcore.py:1498: FutureWarning: is_categorical_dtype is deprecated and will be removed in a future version. Use isinstance(dtype, CategoricalDtype) instead\n",
            "  if pd.api.types.is_categorical_dtype(vector):\n"
          ]
        },
        {
          "data": {
            "image/png": "[encoded data removed]",
            "text/plain": [
              "<Figure size 1500x400 with 2 Axes>"
            ]
          },
          "metadata": {},
          "output_type": "display_data"
        }
      ],
      "source": [
        "df['target_log'] = np.log(df['target'])\n",
        "\n",
        "# посмотрю на графики\n",
        "fig, axes = plt.subplots(nrows=1, ncols=2, figsize=(15, 4))\n",
        "histplot = sns.histplot(data=df, x='target_log', ax=axes[0]);\n",
        "histplot.set_title('Распределение «target» в log');\n",
        "boxplot = sns.boxplot(data=df, x='target_log', ax=axes[1]);\n",
        "boxplot.set_title('Распределение «target» в log');"
      ]
    },
    {
      "cell_type": "code",
      "execution_count": null,
      "id": "6b6c9c39-7054-4ee3-bc0d-beecd09642c5",
      "metadata": {
        "id": "6b6c9c39-7054-4ee3-bc0d-beecd09642c5",
        "outputId": "77142683-4ac4-4ec3-fcd8-569a8140546b"
      },
      "outputs": [
        {
          "data": {
            "text/plain": [
              "0         12.943237\n",
              "1         12.644328\n",
              "2         14.878496\n",
              "3         14.688894\n",
              "4          8.517193\n",
              "            ...    \n",
              "364455    14.037854\n",
              "364456    13.422466\n",
              "364457    13.176852\n",
              "364458    10.448715\n",
              "364459    12.230277\n",
              "Name: target_log, Length: 364460, dtype: float64"
            ]
          },
          "execution_count": 233,
          "metadata": {},
          "output_type": "execute_result"
        }
      ],
      "source": [
        "df['target_log']"
      ]
    },
    {
      "cell_type": "markdown",
      "id": "c74b112c-d30a-400b-a177-bcdbfeef771a",
      "metadata": {
        "id": "c74b112c-d30a-400b-a177-bcdbfeef771a"
      },
      "source": [
        "Проверка на нормальность распределения данных"
      ]
    },
    {
      "cell_type": "code",
      "execution_count": null,
      "id": "0c55e359-3e75-449d-aac0-8fe049d9088d",
      "metadata": {
        "id": "0c55e359-3e75-449d-aac0-8fe049d9088d",
        "outputId": "9c2540ab-f428-42d5-aa51-d4b39026b1c9"
      },
      "outputs": [
        {
          "data": {
            "image/png": "[encoded data removed]",
            "text/plain": [
              "<Figure size 1200x320 with 2 Axes>"
            ]
          },
          "metadata": {},
          "output_type": "display_data"
        }
      ],
      "source": [
        "plt.figure(figsize=(15, 4), dpi=80)\n",
        "plt.subplot(1, 2, 1) # задаем сетку рисунка количество строк и столбцов\n",
        "stats.probplot(df['target'], plot=plt) # qq plot\n",
        "\n",
        "plt.subplot(1, 2, 2) # располагаем второй рисунок рядом\n",
        "plt.hist(df['target']) # гистограмма распределения признака\n",
        "\n",
        "plt.tight_layout() # чтобы графики не наезжали другу на друга, используем tight_layout\n",
        "plt.show()"
      ]
    },
    {
      "cell_type": "markdown",
      "id": "9de3d8d8-1024-49e0-868d-8f0cc875be22",
      "metadata": {
        "id": "9de3d8d8-1024-49e0-868d-8f0cc875be22"
      },
      "source": [
        "видим, что этот набор данных не соответствует нормальному распределению в районе правого хвоста.\n",
        "То есть по графическим тестам мы можем сказать, что данные не имеют нормальной тенденции."
      ]
    },
    {
      "cell_type": "code",
      "execution_count": null,
      "id": "f0e44939-ae57-4901-a9f3-140c3a63774a",
      "metadata": {
        "id": "f0e44939-ae57-4901-a9f3-140c3a63774a",
        "outputId": "9579b566-c1a9-403b-f92d-a3cb25ca6031"
      },
      "outputs": [
        {
          "name": "stdout",
          "output_type": "stream",
          "text": [
            "p=0.00\n",
            "Тест на нормальность данных НЕ пройден!\n"
          ]
        }
      ],
      "source": [
        "_, p = stats.normaltest(df.target_log)\n",
        "#normaltest возвращает двустороннюю вероятность для проверки гипотезы поэтому уровень значимости делим на 2\n",
        "print('p=%.2f' % p)\n",
        "\n",
        "if p > 0.05/2:\n",
        "    print('Тест на нормальность данных пройден успешно!')\n",
        "else:\n",
        "    print('Тест на нормальность данных НЕ пройден!')"
      ]
    },
    {
      "cell_type": "code",
      "execution_count": null,
      "id": "4dab7650-fae9-42f0-97cd-70dca13eb3de",
      "metadata": {
        "id": "4dab7650-fae9-42f0-97cd-70dca13eb3de",
        "outputId": "9c7ce1e5-158e-4311-a3af-a6cad141b448"
      },
      "outputs": [
        {
          "data": {
            "text/html": [
              "<div>\n",
              "<style scoped>\n",
              "    .dataframe tbody tr th:only-of-type {\n",
              "        vertical-align: middle;\n",
              "    }\n",
              "\n",
              "    .dataframe tbody tr th {\n",
              "        vertical-align: top;\n",
              "    }\n",
              "\n",
              "    .dataframe thead th {\n",
              "        text-align: right;\n",
              "    }\n",
              "</style>\n",
              "<table border=\"1\" class=\"dataframe\">\n",
              "  <thead>\n",
              "    <tr style=\"text-align: right;\">\n",
              "      <th></th>\n",
              "      <th>NaN_Counts</th>\n",
              "      <th>NaN_Proportions(%)</th>\n",
              "    </tr>\n",
              "  </thead>\n",
              "  <tbody>\n",
              "    <tr>\n",
              "      <th>stories</th>\n",
              "      <td>156246</td>\n",
              "      <td>42.870548</td>\n",
              "    </tr>\n",
              "    <tr>\n",
              "      <th>beds</th>\n",
              "      <td>123408</td>\n",
              "      <td>33.860506</td>\n",
              "    </tr>\n",
              "    <tr>\n",
              "      <th>lotsize</th>\n",
              "      <td>117716</td>\n",
              "      <td>32.298743</td>\n",
              "    </tr>\n",
              "    <tr>\n",
              "      <th>baths</th>\n",
              "      <td>116677</td>\n",
              "      <td>32.013664</td>\n",
              "    </tr>\n",
              "    <tr>\n",
              "      <th>Year built</th>\n",
              "      <td>57281</td>\n",
              "      <td>15.716677</td>\n",
              "    </tr>\n",
              "    <tr>\n",
              "      <th>sqft</th>\n",
              "      <td>47715</td>\n",
              "      <td>13.091972</td>\n",
              "    </tr>\n",
              "    <tr>\n",
              "      <th>status</th>\n",
              "      <td>0</td>\n",
              "      <td>0.000000</td>\n",
              "    </tr>\n",
              "    <tr>\n",
              "      <th>propertyType</th>\n",
              "      <td>0</td>\n",
              "      <td>0.000000</td>\n",
              "    </tr>\n",
              "    <tr>\n",
              "      <th>city</th>\n",
              "      <td>0</td>\n",
              "      <td>0.000000</td>\n",
              "    </tr>\n",
              "    <tr>\n",
              "      <th>state</th>\n",
              "      <td>0</td>\n",
              "      <td>0.000000</td>\n",
              "    </tr>\n",
              "    <tr>\n",
              "      <th>PrivatePool</th>\n",
              "      <td>0</td>\n",
              "      <td>0.000000</td>\n",
              "    </tr>\n",
              "    <tr>\n",
              "      <th>target</th>\n",
              "      <td>0</td>\n",
              "      <td>0.000000</td>\n",
              "    </tr>\n",
              "    <tr>\n",
              "      <th>Heating</th>\n",
              "      <td>0</td>\n",
              "      <td>0.000000</td>\n",
              "    </tr>\n",
              "    <tr>\n",
              "      <th>mean_school_rate</th>\n",
              "      <td>0</td>\n",
              "      <td>0.000000</td>\n",
              "    </tr>\n",
              "    <tr>\n",
              "      <th>target_log</th>\n",
              "      <td>0</td>\n",
              "      <td>0.000000</td>\n",
              "    </tr>\n",
              "  </tbody>\n",
              "</table>\n",
              "</div>"
            ],
            "text/plain": [
              "                  NaN_Counts  NaN_Proportions(%)\n",
              "stories               156246           42.870548\n",
              "beds                  123408           33.860506\n",
              "lotsize               117716           32.298743\n",
              "baths                 116677           32.013664\n",
              "Year built             57281           15.716677\n",
              "sqft                   47715           13.091972\n",
              "status                     0            0.000000\n",
              "propertyType               0            0.000000\n",
              "city                       0            0.000000\n",
              "state                      0            0.000000\n",
              "PrivatePool                0            0.000000\n",
              "target                     0            0.000000\n",
              "Heating                    0            0.000000\n",
              "mean_school_rate           0            0.000000\n",
              "target_log                 0            0.000000"
            ]
          },
          "execution_count": 236,
          "metadata": {},
          "output_type": "execute_result"
        }
      ],
      "source": [
        "missing_data_in_df=pd.DataFrame({'NaN_Counts': df.isna().sum(), 'NaN_Proportions(%)': (df.isna().sum() / df.shape[0]) * 100}).sort_values(by='NaN_Counts', ascending=False)\n",
        "missing_data_in_df"
      ]
    },
    {
      "cell_type": "markdown",
      "id": "8539df9e-b329-4390-8f0e-40bf356ebe80",
      "metadata": {
        "id": "8539df9e-b329-4390-8f0e-40bf356ebe80"
      },
      "source": [
        "Заполнение пустых данных через моду/медиану/среднее"
      ]
    },
    {
      "cell_type": "code",
      "execution_count": null,
      "id": "20297841-e48f-48fd-973d-1ea62579ca2b",
      "metadata": {
        "id": "20297841-e48f-48fd-973d-1ea62579ca2b",
        "outputId": "2a948788-5b4c-42b2-a4c6-3c2145e29369"
      },
      "outputs": [
        {
          "data": {
            "text/plain": [
              "0    1.0\n",
              "Name: stories, dtype: float64"
            ]
          },
          "execution_count": 237,
          "metadata": {},
          "output_type": "execute_result"
        }
      ],
      "source": [
        "df['stories'].mode()"
      ]
    },
    {
      "cell_type": "code",
      "execution_count": null,
      "id": "49816f2f-ced4-4d70-af26-60294e17ceb4",
      "metadata": {
        "id": "49816f2f-ced4-4d70-af26-60294e17ceb4",
        "outputId": "901785b3-5b06-4139-bc19-ff5a83d24089"
      },
      "outputs": [
        {
          "data": {
            "text/plain": [
              "0    3.0\n",
              "Name: beds, dtype: float64"
            ]
          },
          "execution_count": 238,
          "metadata": {},
          "output_type": "execute_result"
        }
      ],
      "source": [
        "df['beds'].mode()"
      ]
    },
    {
      "cell_type": "code",
      "execution_count": null,
      "id": "00fc6ded-793d-45fe-9159-8c8c66bec3ec",
      "metadata": {
        "id": "00fc6ded-793d-45fe-9159-8c8c66bec3ec",
        "outputId": "521f6e55-198d-4ebd-986e-4d5408221419"
      },
      "outputs": [
        {
          "data": {
            "text/plain": [
              "0    2.0\n",
              "Name: baths, dtype: float64"
            ]
          },
          "execution_count": 239,
          "metadata": {},
          "output_type": "execute_result"
        }
      ],
      "source": [
        "df['baths'].mode()"
      ]
    },
    {
      "cell_type": "code",
      "execution_count": null,
      "id": "cbcb3e71-e0f1-4049-8da7-ce492513c9ff",
      "metadata": {
        "id": "cbcb3e71-e0f1-4049-8da7-ce492513c9ff",
        "outputId": "987fa233-2592-4b42-c747-188976c6589d"
      },
      "outputs": [
        {
          "data": {
            "text/plain": [
              "0    2019.0\n",
              "Name: Year built, dtype: float64"
            ]
          },
          "execution_count": 240,
          "metadata": {},
          "output_type": "execute_result"
        }
      ],
      "source": [
        "df['Year built'].mode()"
      ]
    },
    {
      "cell_type": "code",
      "execution_count": null,
      "id": "7a37a5f9-eea1-408b-9dcc-e7f4ea5fd0ef",
      "metadata": {
        "id": "7a37a5f9-eea1-408b-9dcc-e7f4ea5fd0ef"
      },
      "outputs": [],
      "source": [
        "df.loc[df['stories'].isnull(), 'stories'] = 2\n",
        "df.loc[df['lotsize'].isnull(), 'lotsize'] = df['lotsize'].median()\n",
        "df.loc[df['beds'].isnull(), 'beds'] = 3\n",
        "df.loc[df['baths'].isnull(), 'baths'] = 2\n",
        "df.loc[df['Year built'].isnull(), 'Year built'] = 2019\n",
        "df.loc[df['sqft'].isnull(), 'sqft'] = df['sqft'].median()"
      ]
    },
    {
      "cell_type": "code",
      "execution_count": null,
      "id": "63fbbe5b-4ed7-4909-ad50-2e7d6265c077",
      "metadata": {
        "id": "63fbbe5b-4ed7-4909-ad50-2e7d6265c077"
      },
      "outputs": [],
      "source": [
        "df_drop=df.drop(['stories', 'lotsize', 'beds', 'baths', 'PrivatePool'], axis=1)"
      ]
    },
    {
      "cell_type": "code",
      "execution_count": null,
      "id": "6cac2146-bfe2-477e-99b0-08b1c22cd484",
      "metadata": {
        "id": "6cac2146-bfe2-477e-99b0-08b1c22cd484",
        "outputId": "c2f5deae-a376-4220-9c31-a3bea457c062"
      },
      "outputs": [
        {
          "data": {
            "image/png": "[encoded data removed]",
            "text/plain": [
              "<Figure size 1200x600 with 2 Axes>"
            ]
          },
          "metadata": {},
          "output_type": "display_data"
        }
      ],
      "source": [
        "# Построение матрицы корреляции\n",
        "correlation_matrix = df.corr()\n",
        "sns.heatmap(correlation_matrix, annot=True, cmap='coolwarm')\n",
        "plt.title('Correlation Matrix')\n",
        "plt.show()"
      ]
    },
    {
      "cell_type": "code",
      "execution_count": null,
      "id": "292afbed-ab0d-43e0-8e31-55d462a4d871",
      "metadata": {
        "id": "292afbed-ab0d-43e0-8e31-55d462a4d871",
        "outputId": "914dbb02-42f6-4c71-c880-9395689b9bf3"
      },
      "outputs": [
        {
          "name": "stdout",
          "output_type": "stream",
          "text": [
            "                  status  propertyType     baths  city  sqft      beds  state  \\\n",
            "status               1.0           NaN       NaN   NaN   NaN       NaN    NaN   \n",
            "propertyType         NaN      1.000000       NaN   NaN   NaN  0.253138    NaN   \n",
            "baths                NaN           NaN  1.000000   NaN   NaN  0.559749    NaN   \n",
            "city                 NaN           NaN       NaN   1.0   NaN       NaN    NaN   \n",
            "sqft                 NaN           NaN       NaN   NaN   1.0       NaN    NaN   \n",
            "beds                 NaN      0.253138  0.559749   NaN   NaN  1.000000    NaN   \n",
            "state                NaN           NaN       NaN   NaN   NaN       NaN    1.0   \n",
            "stories              NaN           NaN       NaN   NaN   NaN       NaN    NaN   \n",
            "PrivatePool          NaN           NaN  0.238096   NaN   NaN       NaN    NaN   \n",
            "target               NaN           NaN  0.284089   NaN   NaN       NaN    NaN   \n",
            "Year built           NaN           NaN       NaN   NaN   NaN       NaN    NaN   \n",
            "Heating              NaN           NaN       NaN   NaN   NaN       NaN    NaN   \n",
            "lotsize              NaN           NaN       NaN   NaN   NaN       NaN    NaN   \n",
            "mean_school_rate     NaN           NaN       NaN   NaN   NaN       NaN    NaN   \n",
            "target_log           NaN           NaN  0.454634   NaN   NaN  0.238470    NaN   \n",
            "\n",
            "                  stories  PrivatePool    target  Year built  Heating  \\\n",
            "status                NaN          NaN       NaN         NaN      NaN   \n",
            "propertyType          NaN          NaN       NaN         NaN      NaN   \n",
            "baths                 NaN     0.238096  0.284089         NaN      NaN   \n",
            "city                  NaN          NaN       NaN         NaN      NaN   \n",
            "sqft                  NaN          NaN       NaN         NaN      NaN   \n",
            "beds                  NaN          NaN       NaN         NaN      NaN   \n",
            "state                 NaN          NaN       NaN         NaN      NaN   \n",
            "stories               1.0          NaN       NaN         NaN      NaN   \n",
            "PrivatePool           NaN     1.000000       NaN         NaN      NaN   \n",
            "target                NaN          NaN  1.000000         NaN      NaN   \n",
            "Year built            NaN          NaN       NaN    1.000000      NaN   \n",
            "Heating               NaN          NaN       NaN         NaN      1.0   \n",
            "lotsize               NaN          NaN       NaN         NaN      NaN   \n",
            "mean_school_rate      NaN          NaN       NaN    0.229706      NaN   \n",
            "target_log            NaN          NaN  0.477243         NaN      NaN   \n",
            "\n",
            "                  lotsize  mean_school_rate  target_log  \n",
            "status                NaN               NaN         NaN  \n",
            "propertyType          NaN               NaN         NaN  \n",
            "baths                 NaN               NaN    0.454634  \n",
            "city                  NaN               NaN         NaN  \n",
            "sqft                  NaN               NaN         NaN  \n",
            "beds                  NaN               NaN    0.238470  \n",
            "state                 NaN               NaN         NaN  \n",
            "stories               NaN               NaN         NaN  \n",
            "PrivatePool           NaN               NaN         NaN  \n",
            "target                NaN               NaN    0.477243  \n",
            "Year built            NaN          0.229706         NaN  \n",
            "Heating               NaN               NaN         NaN  \n",
            "lotsize               1.0               NaN         NaN  \n",
            "mean_school_rate      NaN          1.000000    0.287309  \n",
            "target_log            NaN          0.287309    1.000000  \n"
          ]
        }
      ],
      "source": [
        "correlation_matrix = df.corr()\n",
        "\n",
        "# Нахождение пар данных с коэффициентом корреляции по модулю больше 0.2\n",
        "high_corr_pairs = correlation_matrix[(correlation_matrix.abs() > 0.2)]\n",
        "\n",
        "# Вывод пар данных с высокой корреляцией\n",
        "print(high_corr_pairs)"
      ]
    },
    {
      "cell_type": "code",
      "execution_count": null,
      "id": "fa7a10a9-2a22-425f-9ef9-49213eba3d8b",
      "metadata": {
        "id": "fa7a10a9-2a22-425f-9ef9-49213eba3d8b"
      },
      "outputs": [],
      "source": [
        "df=df.drop('baths', axis=1) #следует из высокой корреляции с данными"
      ]
    },
    {
      "cell_type": "markdown",
      "id": "02fbebe2-62ba-4991-b0bd-f6c26d07c323",
      "metadata": {
        "id": "02fbebe2-62ba-4991-b0bd-f6c26d07c323"
      },
      "source": [
        "Перейдём непосредственно к обучению модели"
      ]
    },
    {
      "cell_type": "code",
      "execution_count": null,
      "id": "9f976d4c-58cb-49c4-90e8-d05218fe8373",
      "metadata": {
        "id": "9f976d4c-58cb-49c4-90e8-d05218fe8373"
      },
      "outputs": [],
      "source": [
        "X=df.drop(['target', 'target_log'], axis=1)\n",
        "y=df['target']\n",
        "y_log = df['target_log']"
      ]
    },
    {
      "cell_type": "code",
      "execution_count": null,
      "id": "eaa87971-ebf4-4760-b4b2-3ff2082433ed",
      "metadata": {
        "id": "eaa87971-ebf4-4760-b4b2-3ff2082433ed"
      },
      "outputs": [],
      "source": [
        "X_train, X_test, y_train_log, y_test_log = model_selection.train_test_split(X, y_log, test_size=0.3, random_state=42)"
      ]
    },
    {
      "cell_type": "code",
      "execution_count": null,
      "id": "195c01cb-39ad-4a24-b27c-228dc6a16f6f",
      "metadata": {
        "id": "195c01cb-39ad-4a24-b27c-228dc6a16f6f"
      },
      "outputs": [],
      "source": [
        "from sklearn.feature_selection import f_regression\n",
        "\n",
        "select = feature_selection.SelectKBest(score_func = f_regression, k=12)\n",
        "z = select.fit_transform(X_train,y_train_log)"
      ]
    },
    {
      "cell_type": "code",
      "execution_count": null,
      "id": "3d9e32c4-ffc4-4149-afe6-eec466dbc35d",
      "metadata": {
        "id": "3d9e32c4-ffc4-4149-afe6-eec466dbc35d",
        "outputId": "9231ff48-3c34-45dd-c7d4-85a2dc7e71da"
      },
      "outputs": [
        {
          "name": "stdout",
          "output_type": "stream",
          "text": [
            "Index(['status', 'propertyType', 'city', 'sqft', 'beds', 'state', 'stories',\n",
            "       'PrivatePool', 'Year built', 'Heating', 'lotsize', 'mean_school_rate'],\n",
            "      dtype='object')\n"
          ]
        }
      ],
      "source": [
        "filter_kb = select.get_support()\n",
        "\n",
        "features = X_train.columns\n",
        "print(features[filter_kb])"
      ]
    },
    {
      "cell_type": "code",
      "execution_count": null,
      "id": "a9380e33-18bb-49ec-90c6-0ec47bd94526",
      "metadata": {
        "id": "a9380e33-18bb-49ec-90c6-0ec47bd94526",
        "outputId": "c7b5c65e-1109-407c-b746-e6478411d53a"
      },
      "outputs": [
        {
          "data": {
            "text/plain": [
              "Index(['status', 'propertyType', 'city', 'sqft', 'beds', 'state', 'stories',\n",
              "       'PrivatePool', 'Year built', 'Heating', 'lotsize', 'mean_school_rate'],\n",
              "      dtype='object')"
            ]
          },
          "execution_count": 250,
          "metadata": {},
          "output_type": "execute_result"
        }
      ],
      "source": [
        "X.columns"
      ]
    },
    {
      "cell_type": "markdown",
      "id": "6fc59074-448f-4c58-9f79-d52b36cb1602",
      "metadata": {
        "id": "6fc59074-448f-4c58-9f79-d52b36cb1602"
      },
      "source": [
        "Масштабирование данных"
      ]
    },
    {
      "cell_type": "code",
      "execution_count": null,
      "id": "922406f6-8051-4829-8627-75c00be138f3",
      "metadata": {
        "id": "922406f6-8051-4829-8627-75c00be138f3"
      },
      "outputs": [],
      "source": [
        "scaler = preprocessing.StandardScaler()\n",
        "scaler.fit(X_train)\n",
        "X_train_scaled = scaler.transform(X_train)\n",
        "X_test_scaled = scaler.transform(X_test)"
      ]
    },
    {
      "cell_type": "markdown",
      "id": "64aa9e12-1f8c-47af-b68e-118f7a4faf6f",
      "metadata": {
        "id": "64aa9e12-1f8c-47af-b68e-118f7a4faf6f"
      },
      "source": [
        "<h4>Подбор модели для регрессии</h4>"
      ]
    },
    {
      "cell_type": "markdown",
      "id": "5104b7dd-7ca4-400a-b458-944943058244",
      "metadata": {
        "id": "5104b7dd-7ca4-400a-b458-944943058244"
      },
      "source": [
        "<math xmlns=\"http://www.w3.org/1998/Math/MathML\">\n",
        "  <mi>R</mi>\n",
        "  <mi>M</mi>\n",
        "  <mi>S</mi>\n",
        "  <mi>L</mi>\n",
        "  <mi>E</mi>\n",
        "  <mo>=</mo>\n",
        "  <msqrt>\n",
        "    <mfrac>\n",
        "      <mn>1</mn>\n",
        "      <mi>n</mi>\n",
        "    </mfrac>\n",
        "    <munderover>\n",
        "      <mo data-mjx-texclass=\"OP\">&#x2211;</mo>\n",
        "      <mrow data-mjx-texclass=\"ORD\">\n",
        "        <mi>i</mi>\n",
        "        <mo>=</mo>\n",
        "        <mn>1</mn>\n",
        "      </mrow>\n",
        "      <mrow data-mjx-texclass=\"ORD\">\n",
        "        <mi>n</mi>\n",
        "      </mrow>\n",
        "    </munderover>\n",
        "    <mo stretchy=\"false\">(</mo>\n",
        "    <mi>l</mi>\n",
        "    <mi>o</mi>\n",
        "    <mi>g</mi>\n",
        "    <mo stretchy=\"false\">(</mo>\n",
        "    <msub>\n",
        "      <mi>y</mi>\n",
        "      <mi>i</mi>\n",
        "    </msub>\n",
        "    <mo stretchy=\"false\">)</mo>\n",
        "    <mo>&#x2212;</mo>\n",
        "    <mi>l</mi>\n",
        "    <mi>o</mi>\n",
        "    <mi>g</mi>\n",
        "    <mo stretchy=\"false\">(</mo>\n",
        "    <msub>\n",
        "      <mrow data-mjx-texclass=\"ORD\">\n",
        "        <mover>\n",
        "          <mi>y</mi>\n",
        "          <mo stretchy=\"false\">^</mo>\n",
        "        </mover>\n",
        "      </mrow>\n",
        "      <mi>i</mi>\n",
        "    </msub>\n",
        "    <mo stretchy=\"false\">)</mo>\n",
        "    <msup>\n",
        "      <mo stretchy=\"false\">)</mo>\n",
        "      <mn>2</mn>\n",
        "    </msup>\n",
        "  </msqrt>\n",
        "</math>>\n",
        "      <mn>2</mn>\n",
        "    </msup>\n",
        "  </msqrt>\n",
        "</math>"
      ]
    },
    {
      "cell_type": "markdown",
      "id": "92d768bd-9978-4828-84ea-0cf4606d3dbb",
      "metadata": {
        "id": "92d768bd-9978-4828-84ea-0cf4606d3dbb"
      },
      "source": [
        "Линейная регрессия"
      ]
    },
    {
      "cell_type": "code",
      "execution_count": null,
      "id": "26078299-8c39-486c-bebd-123dd6789df7",
      "metadata": {
        "id": "26078299-8c39-486c-bebd-123dd6789df7"
      },
      "outputs": [],
      "source": [
        "reg = linear_model.LinearRegression()\n",
        "reg.fit(X_train_scaled, y_train_log)\n",
        "y_train_pred = reg.predict(X_train_scaled)\n",
        "y_test_pred = reg.predict(X_test_scaled)"
      ]
    },
    {
      "cell_type": "code",
      "execution_count": null,
      "id": "34b37079-ab15-4c45-86cd-3a2699c0fb51",
      "metadata": {
        "id": "34b37079-ab15-4c45-86cd-3a2699c0fb51",
        "outputId": "0360b32e-2f70-4f88-fb8b-868883a9f02a"
      },
      "outputs": [
        {
          "name": "stdout",
          "output_type": "stream",
          "text": [
            "Train RMSLE score: 1.08\n",
            "Test RMSLE score: 1.08\n"
          ]
        }
      ],
      "source": [
        "# исходя из формулы RMSLE нужно взять корень от MSE\n",
        "print('Train RMSLE score: {:.2f}'.format(np.sqrt(metrics.mean_squared_error(y_train_log, y_train_pred))))\n",
        "print('Test RMSLE score: {:.2f}'.format(np.sqrt(metrics.mean_squared_error(y_test_log, y_test_pred))))"
      ]
    },
    {
      "cell_type": "markdown",
      "id": "0130046b-5b36-444a-a20f-931921b1a718",
      "metadata": {
        "id": "0130046b-5b36-444a-a20f-931921b1a718"
      },
      "source": [
        "Полиномиальная регрессия"
      ]
    },
    {
      "cell_type": "code",
      "execution_count": null,
      "id": "d95aab5f-d2e1-47b5-87e8-8265f388c639",
      "metadata": {
        "id": "d95aab5f-d2e1-47b5-87e8-8265f388c639"
      },
      "outputs": [],
      "source": [
        "poly = preprocessing.PolynomialFeatures(include_bias=False) # degree=2 по-умолчанию\n",
        "poly.fit(X_train_scaled)\n",
        "\n",
        "X_train_poly = poly.transform(X_train_scaled)\n",
        "#Генерируем полиномиальные признаки для валидационной выборки\n",
        "X_test_poly = poly.transform(X_test_scaled)"
      ]
    },
    {
      "cell_type": "code",
      "execution_count": null,
      "id": "6c198311-2989-4c77-b28d-055d5118f05f",
      "metadata": {
        "id": "6c198311-2989-4c77-b28d-055d5118f05f"
      },
      "outputs": [],
      "source": [
        "#Создаём объект класса LinearRegression\n",
        "reg_poly = linear_model.LinearRegression()\n",
        "#Обучаем модель\n",
        "reg_poly.fit(X_train_poly, y_train_log)\n",
        "#Делаем предсказание для тренировочной выборки\n",
        "y_train_predict_poly = reg_poly.predict(X_train_poly)\n",
        "#Делаем предсказание для валидационной выборки\n",
        "y_test_predict_poly = reg_poly.predict(X_test_poly)"
      ]
    },
    {
      "cell_type": "code",
      "execution_count": null,
      "id": "47701393-392c-4ae8-b346-c562f34955cb",
      "metadata": {
        "id": "47701393-392c-4ae8-b346-c562f34955cb",
        "outputId": "4df38384-2946-4636-f313-8ed2a6a1d288"
      },
      "outputs": [
        {
          "name": "stdout",
          "output_type": "stream",
          "text": [
            "Polynomial Train RMSLE score: 1.00\n",
            "Polynomial Test RMSLE score: 0.99\n"
          ]
        }
      ],
      "source": [
        "# метрики для полиноминальной регрессии\n",
        "print('Polynomial Train RMSLE score: {:.2f}'.format(np.sqrt(metrics.mean_squared_error(y_train_log, y_train_predict_poly))))\n",
        "print('Polynomial Test RMSLE score: {:.2f}'.format(np.sqrt(metrics.mean_squared_error(y_test_log, y_test_predict_poly))))"
      ]
    },
    {
      "cell_type": "markdown",
      "id": "d7bc727d-85ce-4b12-a049-0c5c2b5a4de8",
      "metadata": {
        "id": "d7bc727d-85ce-4b12-a049-0c5c2b5a4de8"
      },
      "source": [
        "Дерево решений"
      ]
    },
    {
      "cell_type": "code",
      "execution_count": null,
      "id": "1c22be4f-9f2f-4b26-b245-59cacde2743d",
      "metadata": {
        "id": "1c22be4f-9f2f-4b26-b245-59cacde2743d"
      },
      "outputs": [],
      "source": [
        "dtr = tree.DecisionTreeRegressor()\n",
        "dtr.fit(X_train_scaled, y_train_log)\n",
        "\n",
        "y_train_predict_dtr = dtr.predict(X_train_scaled)\n",
        "y_test_predict_dtr = dtr.predict(X_test_scaled)"
      ]
    },
    {
      "cell_type": "code",
      "execution_count": null,
      "id": "9f2c1293-e762-4089-bf37-cb6f28b3a096",
      "metadata": {
        "id": "9f2c1293-e762-4089-bf37-cb6f28b3a096",
        "outputId": "2de1b46f-09eb-43a0-d142-453fea3df0d0"
      },
      "outputs": [
        {
          "name": "stdout",
          "output_type": "stream",
          "text": [
            "DecisionTreeRegressor Train RMSLE score: 0.19\n",
            "DecisionTreeRegressor Test RMSLE score: 0.72\n"
          ]
        }
      ],
      "source": [
        "# метрики для DecisionTreeRegressor\n",
        "print('DecisionTreeRegressor Train RMSLE score: {:.2f}'.format(np.sqrt(metrics.mean_squared_error(y_train_log, y_train_predict_dtr))))\n",
        "print('DecisionTreeRegressor Test RMSLE score: {:.2f}'.format(np.sqrt(metrics.mean_squared_error(y_test_log, y_test_predict_dtr))))"
      ]
    },
    {
      "cell_type": "markdown",
      "id": "8e6497b8-8d22-4e8b-86a5-18c53c5a810a",
      "metadata": {
        "id": "8e6497b8-8d22-4e8b-86a5-18c53c5a810a"
      },
      "source": [
        "Наблюдаем явное переобучение, проведём подбор параметров модели"
      ]
    },
    {
      "cell_type": "code",
      "execution_count": null,
      "id": "ce968e86-abce-4aa5-87fb-7b3382e0b69a",
      "metadata": {
        "id": "ce968e86-abce-4aa5-87fb-7b3382e0b69a"
      },
      "outputs": [],
      "source": [
        "# Задам словарь гиперпараметров для GridSearchCV\n",
        "param_grid_DTR = {\n",
        "              'max_depth': list(np.arange(6,21)) # максимальная глубина дерева\n",
        "              }"
      ]
    },
    {
      "cell_type": "code",
      "execution_count": null,
      "id": "75697668-fe50-4446-85ef-124bb7a6bf85",
      "metadata": {
        "id": "75697668-fe50-4446-85ef-124bb7a6bf85"
      },
      "outputs": [],
      "source": [
        "#Создаем объект класса\n",
        "grid_search_DTR = model_selection.GridSearchCV(\n",
        "    estimator=tree.DecisionTreeRegressor(),\n",
        "    param_grid=param_grid_DTR,\n",
        "    n_jobs = -1,\n",
        "    scoring='neg_mean_squared_error')"
      ]
    },
    {
      "cell_type": "code",
      "execution_count": null,
      "id": "239d4702-274a-47b4-ac99-de25a049edd2",
      "metadata": {
        "id": "239d4702-274a-47b4-ac99-de25a049edd2",
        "outputId": "44e9dfc6-6b38-4ee0-fc98-a9178983a38c"
      },
      "outputs": [
        {
          "data": {
            "text/html": [
              "<style>#sk-container-id-1 {color: black;}#sk-container-id-1 pre{padding: 0;}#sk-container-id-1 div.sk-toggleable {background-color: white;}#sk-container-id-1 label.sk-toggleable__label {cursor: pointer;display: block;width: 100%;margin-bottom: 0;padding: 0.3em;box-sizing: border-box;text-align: center;}#sk-container-id-1 label.sk-toggleable__label-arrow:before {content: \"▸\";float: left;margin-right: 0.25em;color: #696969;}#sk-container-id-1 label.sk-toggleable__label-arrow:hover:before {color: black;}#sk-container-id-1 div.sk-estimator:hover label.sk-toggleable__label-arrow:before {color: black;}#sk-container-id-1 div.sk-toggleable__content {max-height: 0;max-width: 0;overflow: hidden;text-align: left;background-color: #f0f8ff;}#sk-container-id-1 div.sk-toggleable__content pre {margin: 0.2em;color: black;border-radius: 0.25em;background-color: #f0f8ff;}#sk-container-id-1 input.sk-toggleable__control:checked~div.sk-toggleable__content {max-height: 200px;max-width: 100%;overflow: auto;}#sk-container-id-1 input.sk-toggleable__control:checked~label.sk-toggleable__label-arrow:before {content: \"▾\";}#sk-container-id-1 div.sk-estimator input.sk-toggleable__control:checked~label.sk-toggleable__label {background-color: #d4ebff;}#sk-container-id-1 div.sk-label input.sk-toggleable__control:checked~label.sk-toggleable__label {background-color: #d4ebff;}#sk-container-id-1 input.sk-hidden--visually {border: 0;clip: rect(1px 1px 1px 1px);clip: rect(1px, 1px, 1px, 1px);height: 1px;margin: -1px;overflow: hidden;padding: 0;position: absolute;width: 1px;}#sk-container-id-1 div.sk-estimator {font-family: monospace;background-color: #f0f8ff;border: 1px dotted black;border-radius: 0.25em;box-sizing: border-box;margin-bottom: 0.5em;}#sk-container-id-1 div.sk-estimator:hover {background-color: #d4ebff;}#sk-container-id-1 div.sk-parallel-item::after {content: \"\";width: 100%;border-bottom: 1px solid gray;flex-grow: 1;}#sk-container-id-1 div.sk-label:hover label.sk-toggleable__label {background-color: #d4ebff;}#sk-container-id-1 div.sk-serial::before {content: \"\";position: absolute;border-left: 1px solid gray;box-sizing: border-box;top: 0;bottom: 0;left: 50%;z-index: 0;}#sk-container-id-1 div.sk-serial {display: flex;flex-direction: column;align-items: center;background-color: white;padding-right: 0.2em;padding-left: 0.2em;position: relative;}#sk-container-id-1 div.sk-item {position: relative;z-index: 1;}#sk-container-id-1 div.sk-parallel {display: flex;align-items: stretch;justify-content: center;background-color: white;position: relative;}#sk-container-id-1 div.sk-item::before, #sk-container-id-1 div.sk-parallel-item::before {content: \"\";position: absolute;border-left: 1px solid gray;box-sizing: border-box;top: 0;bottom: 0;left: 50%;z-index: -1;}#sk-container-id-1 div.sk-parallel-item {display: flex;flex-direction: column;z-index: 1;position: relative;background-color: white;}#sk-container-id-1 div.sk-parallel-item:first-child::after {align-self: flex-end;width: 50%;}#sk-container-id-1 div.sk-parallel-item:last-child::after {align-self: flex-start;width: 50%;}#sk-container-id-1 div.sk-parallel-item:only-child::after {width: 0;}#sk-container-id-1 div.sk-dashed-wrapped {border: 1px dashed gray;margin: 0 0.4em 0.5em 0.4em;box-sizing: border-box;padding-bottom: 0.4em;background-color: white;}#sk-container-id-1 div.sk-label label {font-family: monospace;font-weight: bold;display: inline-block;line-height: 1.2em;}#sk-container-id-1 div.sk-label-container {text-align: center;}#sk-container-id-1 div.sk-container {/* jupyter's `normalize.less` sets `[hidden] { display: none; }` but bootstrap.min.css set `[hidden] { display: none !important; }` so we also need the `!important` here to be able to override the default hidden behavior on the sphinx rendered scikit-learn.org. See: https://github.com/scikit-learn/scikit-learn/issues/21755 */display: inline-block !important;position: relative;}#sk-container-id-1 div.sk-text-repr-fallback {display: none;}</style><div id=\"sk-container-id-1\" class=\"sk-top-container\"><div class=\"sk-text-repr-fallback\"><pre>GridSearchCV(estimator=DecisionTreeRegressor(), n_jobs=-1,\n",
              "             param_grid={&#x27;max_depth&#x27;: [6, 7, 8, 9, 10, 11, 12, 13, 14, 15, 16,\n",
              "                                       17, 18, 19, 20]},\n",
              "             scoring=&#x27;neg_mean_squared_error&#x27;)</pre><b>In a Jupyter environment, please rerun this cell to show the HTML representation or trust the notebook. <br />On GitHub, the HTML representation is unable to render, please try loading this page with nbviewer.org.</b></div><div class=\"sk-container\" hidden><div class=\"sk-item sk-dashed-wrapped\"><div class=\"sk-label-container\"><div class=\"sk-label sk-toggleable\"><input class=\"sk-toggleable__control sk-hidden--visually\" id=\"sk-estimator-id-1\" type=\"checkbox\" ><label for=\"sk-estimator-id-1\" class=\"sk-toggleable__label sk-toggleable__label-arrow\">GridSearchCV</label><div class=\"sk-toggleable__content\"><pre>GridSearchCV(estimator=DecisionTreeRegressor(), n_jobs=-1,\n",
              "             param_grid={&#x27;max_depth&#x27;: [6, 7, 8, 9, 10, 11, 12, 13, 14, 15, 16,\n",
              "                                       17, 18, 19, 20]},\n",
              "             scoring=&#x27;neg_mean_squared_error&#x27;)</pre></div></div></div><div class=\"sk-parallel\"><div class=\"sk-parallel-item\"><div class=\"sk-item\"><div class=\"sk-label-container\"><div class=\"sk-label sk-toggleable\"><input class=\"sk-toggleable__control sk-hidden--visually\" id=\"sk-estimator-id-2\" type=\"checkbox\" ><label for=\"sk-estimator-id-2\" class=\"sk-toggleable__label sk-toggleable__label-arrow\">estimator: DecisionTreeRegressor</label><div class=\"sk-toggleable__content\"><pre>DecisionTreeRegressor()</pre></div></div></div><div class=\"sk-serial\"><div class=\"sk-item\"><div class=\"sk-estimator sk-toggleable\"><input class=\"sk-toggleable__control sk-hidden--visually\" id=\"sk-estimator-id-3\" type=\"checkbox\" ><label for=\"sk-estimator-id-3\" class=\"sk-toggleable__label sk-toggleable__label-arrow\">DecisionTreeRegressor</label><div class=\"sk-toggleable__content\"><pre>DecisionTreeRegressor()</pre></div></div></div></div></div></div></div></div></div></div>"
            ],
            "text/plain": [
              "GridSearchCV(estimator=DecisionTreeRegressor(), n_jobs=-1,\n",
              "             param_grid={'max_depth': [6, 7, 8, 9, 10, 11, 12, 13, 14, 15, 16,\n",
              "                                       17, 18, 19, 20]},\n",
              "             scoring='neg_mean_squared_error')"
            ]
          },
          "execution_count": 261,
          "metadata": {},
          "output_type": "execute_result"
        }
      ],
      "source": [
        "# Запускаем подбор гиперпараметров\n",
        "grid_search_DTR.fit(X_train_scaled, y_train_log)"
      ]
    },
    {
      "cell_type": "code",
      "execution_count": null,
      "id": "1a630f66-2e46-47a5-aa95-247ba6d3c9fb",
      "metadata": {
        "id": "1a630f66-2e46-47a5-aa95-247ba6d3c9fb",
        "outputId": "03100a01-c9d2-4e4f-c1c9-5e2b2d1a223d"
      },
      "outputs": [
        {
          "data": {
            "text/plain": [
              "{'max_depth': 16}"
            ]
          },
          "execution_count": 262,
          "metadata": {},
          "output_type": "execute_result"
        }
      ],
      "source": [
        "grid_search_DTR.best_params_"
      ]
    },
    {
      "cell_type": "code",
      "execution_count": null,
      "id": "a52e937a-b04b-407f-88f2-226543a593dd",
      "metadata": {
        "id": "a52e937a-b04b-407f-88f2-226543a593dd",
        "outputId": "3b46817d-d0d4-4e45-9230-a0b02c5d0237"
      },
      "outputs": [
        {
          "data": {
            "text/plain": [
              "-0.43659096144256077"
            ]
          },
          "execution_count": 263,
          "metadata": {},
          "output_type": "execute_result"
        }
      ],
      "source": [
        "# раз мы явно указали метрику -MSLE, то теперь можно посмотреть ее через данный метод\n",
        "_MSLE = grid_search_DTR.score(X_test_scaled, y_test_log)\n",
        "_MSLE"
      ]
    },
    {
      "cell_type": "code",
      "execution_count": null,
      "id": "82069444-b9d5-4b27-ae4f-7686ed62757d",
      "metadata": {
        "id": "82069444-b9d5-4b27-ae4f-7686ed62757d",
        "outputId": "da1a20b7-2ff5-441e-edc1-49b2c430ba5d"
      },
      "outputs": [
        {
          "name": "stdout",
          "output_type": "stream",
          "text": [
            "DecisionTreeRegressor Test RMSLE score: 0.66\n"
          ]
        }
      ],
      "source": [
        "# ну и наша метрика\n",
        "print('DecisionTreeRegressor Test RMSLE score: {:.2f}'.format(np.sqrt(-_MSLE)))"
      ]
    },
    {
      "cell_type": "markdown",
      "id": "52ee6791-784e-4685-b2a7-cc494211f7ad",
      "metadata": {
        "id": "52ee6791-784e-4685-b2a7-cc494211f7ad"
      },
      "source": [
        "Посмотрим на графики, как менялись метрики в зависимости от глубины дерева"
      ]
    },
    {
      "cell_type": "code",
      "execution_count": null,
      "id": "02c3b544-3649-4417-9cff-8f8ad53a33ce",
      "metadata": {
        "id": "02c3b544-3649-4417-9cff-8f8ad53a33ce"
      },
      "outputs": [],
      "source": [
        "RMSLE_tr=[]\n",
        "RMSLE_test=[]\n",
        "for n in np.arange(6,21):\n",
        "    dtr2 = tree.DecisionTreeRegressor(max_depth=n)\n",
        "    dtr2.fit(X_train_scaled, y_train_log)\n",
        "    y_train_predict_dtr2 = dtr2.predict(X_train_scaled)\n",
        "    y_test_predict_dtr2 = dtr2.predict(X_test_scaled)\n",
        "    mse_gs_train = metrics.mean_squared_error(y_train_predict_dtr2, y_train_log)\n",
        "    mse_gs_test = metrics.mean_squared_error(y_test_predict_dtr2, y_test_log)\n",
        "    RMSLE_tr.append(round(mse_gs_train**0.5, 2))\n",
        "    RMSLE_test.append(mse_gs_test**0.5)"
      ]
    },
    {
      "cell_type": "code",
      "execution_count": null,
      "id": "0983b561-7a0a-4cb2-8a7d-69fd44919f45",
      "metadata": {
        "id": "0983b561-7a0a-4cb2-8a7d-69fd44919f45"
      },
      "outputs": [],
      "source": [
        "# создадим фрейм\n",
        "rmsle = pd.DataFrame({\"depth\":np.arange(6,21),\"train\":RMSLE_tr,\"test\":RMSLE_test})"
      ]
    },
    {
      "cell_type": "code",
      "execution_count": null,
      "id": "07a23de3-045e-47a7-a4c2-e12d94b4721d",
      "metadata": {
        "id": "07a23de3-045e-47a7-a4c2-e12d94b4721d",
        "outputId": "fce886f6-07ef-4b04-c5cf-8a7c96094a8f"
      },
      "outputs": [
        {
          "name": "stderr",
          "output_type": "stream",
          "text": [
            "/home/kali/.local/lib/python3.11/site-packages/seaborn/_oldcore.py:1498: FutureWarning: is_categorical_dtype is deprecated and will be removed in a future version. Use isinstance(dtype, CategoricalDtype) instead\n",
            "  if pd.api.types.is_categorical_dtype(vector):\n",
            "/home/kali/.local/lib/python3.11/site-packages/seaborn/_oldcore.py:1498: FutureWarning: is_categorical_dtype is deprecated and will be removed in a future version. Use isinstance(dtype, CategoricalDtype) instead\n",
            "  if pd.api.types.is_categorical_dtype(vector):\n",
            "/home/kali/.local/lib/python3.11/site-packages/seaborn/_oldcore.py:1119: FutureWarning: use_inf_as_na option is deprecated and will be removed in a future version. Convert inf values to NaN before operating instead.\n",
            "  with pd.option_context('mode.use_inf_as_na', True):\n",
            "/home/kali/.local/lib/python3.11/site-packages/seaborn/_oldcore.py:1119: FutureWarning: use_inf_as_na option is deprecated and will be removed in a future version. Convert inf values to NaN before operating instead.\n",
            "  with pd.option_context('mode.use_inf_as_na', True):\n",
            "/home/kali/.local/lib/python3.11/site-packages/seaborn/_oldcore.py:1498: FutureWarning: is_categorical_dtype is deprecated and will be removed in a future version. Use isinstance(dtype, CategoricalDtype) instead\n",
            "  if pd.api.types.is_categorical_dtype(vector):\n",
            "/home/kali/.local/lib/python3.11/site-packages/seaborn/_oldcore.py:1498: FutureWarning: is_categorical_dtype is deprecated and will be removed in a future version. Use isinstance(dtype, CategoricalDtype) instead\n",
            "  if pd.api.types.is_categorical_dtype(vector):\n",
            "/home/kali/.local/lib/python3.11/site-packages/seaborn/_oldcore.py:1119: FutureWarning: use_inf_as_na option is deprecated and will be removed in a future version. Convert inf values to NaN before operating instead.\n",
            "  with pd.option_context('mode.use_inf_as_na', True):\n",
            "/home/kali/.local/lib/python3.11/site-packages/seaborn/_oldcore.py:1119: FutureWarning: use_inf_as_na option is deprecated and will be removed in a future version. Convert inf values to NaN before operating instead.\n",
            "  with pd.option_context('mode.use_inf_as_na', True):\n"
          ]
        },
        {
          "data": {
            "image/png": "[encoded data removed]",
            "text/plain": [
              "<Figure size 1200x600 with 1 Axes>"
            ]
          },
          "metadata": {},
          "output_type": "display_data"
        }
      ],
      "source": [
        "fig, axs = plt.subplots()\n",
        "line = sns.lineplot(data=rmsle,x=\"depth\",y=\"train\",label=\"RMSLE_train\")\n",
        "line2 = sns.lineplot(data=rmsle,x=\"depth\",y=\"test\",label=\"RMSLE_test\")\n",
        "line.set_ylabel(\"RMSLE\")\n",
        "axs.grid()"
      ]
    },
    {
      "cell_type": "markdown",
      "id": "0f5dda8c-d815-4333-9a83-259c2893afe7",
      "metadata": {
        "id": "0f5dda8c-d815-4333-9a83-259c2893afe7"
      },
      "source": [
        "<h4>Ансамбли</h4>"
      ]
    },
    {
      "cell_type": "markdown",
      "id": "451301e5-78f9-4c60-8220-ed2da7bc0f25",
      "metadata": {
        "id": "451301e5-78f9-4c60-8220-ed2da7bc0f25"
      },
      "source": [
        "RandomForestRegressor"
      ]
    },
    {
      "cell_type": "code",
      "execution_count": null,
      "id": "b5858be3-f238-4746-bcc6-e78e36fb6c14",
      "metadata": {
        "id": "b5858be3-f238-4746-bcc6-e78e36fb6c14",
        "outputId": "ac9edd5a-9104-4a20-d8b0-8deb49168b42"
      },
      "outputs": [
        {
          "name": "stdout",
          "output_type": "stream",
          "text": [
            "Train RMSLE score: 0.52\n",
            "Test RMSLE score: 0.59\n"
          ]
        }
      ],
      "source": [
        "rfr = ensemble.RandomForestRegressor(max_depth=16,\n",
        "                                  n_estimators=200,\n",
        "                                  min_samples_split = 20,\n",
        "                                  random_state=42,\n",
        "                                    n_jobs = -1)\n",
        "\n",
        "rfr.fit(X_train_scaled, y_train_log)\n",
        "\n",
        "y_train_predict_rfr = rfr.predict(X_train_scaled)\n",
        "y_test_predict_rfr = rfr.predict(X_test_scaled)\n",
        "\n",
        "# метрики\n",
        "print('Train RMSLE score: {:.2f}'.format(np.sqrt(metrics.mean_squared_error(y_train_log, y_train_predict_rfr))))\n",
        "print('Test RMSLE score: {:.2f}'.format(np.sqrt(metrics.mean_squared_error(y_test_log, y_test_predict_rfr))))"
      ]
    },
    {
      "cell_type": "code",
      "execution_count": null,
      "id": "e92d5d73-4259-482e-8035-96f7b680cd57",
      "metadata": {
        "id": "e92d5d73-4259-482e-8035-96f7b680cd57",
        "outputId": "10f47c02-40ee-4ac4-fe1c-89e971241f0e"
      },
      "outputs": [
        {
          "data": {
            "text/plain": [
              "246874.18323546925"
            ]
          },
          "execution_count": 269,
          "metadata": {},
          "output_type": "execute_result"
        }
      ],
      "source": [
        "y_test = np.exp(y_test_log)\n",
        "y_test_predict = np.exp(y_test_predict_rfr)\n",
        "\n",
        "mae_test = metrics.mean_absolute_error(y_test, y_test_predict)\n",
        "mae_test"
      ]
    },
    {
      "cell_type": "markdown",
      "id": "d513dd4a-7204-4a86-857c-ca106093db32",
      "metadata": {
        "id": "d513dd4a-7204-4a86-857c-ca106093db32"
      },
      "source": [
        "GradientBoostingRegressor"
      ]
    },
    {
      "cell_type": "code",
      "execution_count": null,
      "id": "36d3355b-b7ea-41c9-a30e-7f1d7d63d098",
      "metadata": {
        "id": "36d3355b-b7ea-41c9-a30e-7f1d7d63d098",
        "outputId": "1fe755d1-cf8a-44f8-fc17-e7643e67526e"
      },
      "outputs": [
        {
          "name": "stdout",
          "output_type": "stream",
          "text": [
            "Train RMSLE score: 0.61\n",
            "Test RMSLE score: 0.61\n"
          ]
        }
      ],
      "source": [
        "gbr = ensemble.GradientBoostingRegressor(learning_rate = 0.1,\n",
        "                                         max_depth=6,\n",
        "                                         n_estimators=100, #количество деревьев по-умолчанию\n",
        "                                         min_samples_split = 30,\n",
        "                                         random_state=42 #генератор случайных чисел\n",
        "                                         )\n",
        "gbr.fit(X_train_scaled, y_train_log)\n",
        "\n",
        "y_train_predict_gbr = gbr.predict(X_train_scaled)\n",
        "y_test_predict_gbr = gbr.predict(X_test_scaled)\n",
        "\n",
        "# метрики\n",
        "print('Train RMSLE score: {:.2f}'.format(np.sqrt(metrics.mean_squared_error(y_train_log, y_train_predict_gbr))))\n",
        "print('Test RMSLE score: {:.2f}'.format(np.sqrt(metrics.mean_squared_error(y_test_log, y_test_predict_gbr))))"
      ]
    },
    {
      "cell_type": "code",
      "execution_count": null,
      "id": "a8e3e9da-996d-49e7-9d39-8cec4a9b0fe9",
      "metadata": {
        "id": "a8e3e9da-996d-49e7-9d39-8cec4a9b0fe9",
        "outputId": "6d72378e-400c-45e6-f08a-f3f25557aef0"
      },
      "outputs": [
        {
          "data": {
            "text/plain": [
              "<AxesSubplot: >"
            ]
          },
          "execution_count": 271,
          "metadata": {},
          "output_type": "execute_result"
        },
        {
          "data": {
            "image/png": "[encoded data removed]",
            "text/plain": [
              "<Figure size 1200x600 with 1 Axes>"
            ]
          },
          "metadata": {},
          "output_type": "display_data"
        }
      ],
      "source": [
        "# есть возможность вывести самые важные признаки для модели через атрибут feature_importances_\n",
        "plt.rcParams['figure.figsize'] = (12,6)\n",
        "feat_importances = pd.Series(gbr.feature_importances_, index=X_train.columns)\n",
        "feat_importances.nlargest(12).plot(kind='barh')"
      ]
    },
    {
      "cell_type": "code",
      "execution_count": null,
      "id": "cac7fd01-4f02-4d98-9acb-78ddecc89135",
      "metadata": {
        "id": "cac7fd01-4f02-4d98-9acb-78ddecc89135",
        "outputId": "b9fd952b-c55b-47b9-f30e-6f730a8585f6"
      },
      "outputs": [
        {
          "data": {
            "text/plain": [
              "72923.84093282731"
            ]
          },
          "execution_count": 272,
          "metadata": {},
          "output_type": "execute_result"
        }
      ],
      "source": [
        "y_test = np.exp(y_test_log)\n",
        "y65_test_predict = np.exp(y_test_predict_gbr)\n",
        "\n",
        "mae_test = metrics.median_absolute_error(y_test, y65_test_predict)\n",
        "mae_test"
      ]
    },
    {
      "cell_type": "code",
      "execution_count": null,
      "id": "f928cfcf-5551-434f-907f-fc424f0ac7ae",
      "metadata": {
        "id": "f928cfcf-5551-434f-907f-fc424f0ac7ae",
        "outputId": "085c1d00-c592-4721-b0a9-072fd347d38e"
      },
      "outputs": [
        {
          "data": {
            "text/plain": [
              "264279.6939673142"
            ]
          },
          "execution_count": 273,
          "metadata": {},
          "output_type": "execute_result"
        }
      ],
      "source": [
        "msa = mean_absolute_error(y_test, y65_test_predict)\n",
        "msa"
      ]
    },
    {
      "cell_type": "markdown",
      "id": "0df64c26-4b05-4ee7-8ee7-c74d8e22e1f9",
      "metadata": {
        "id": "0df64c26-4b05-4ee7-8ee7-c74d8e22e1f9"
      },
      "source": [
        "Рассмотрим результаты прогноза df_drop. Сразу с ансамблевых методов"
      ]
    },
    {
      "cell_type": "code",
      "execution_count": null,
      "id": "4325a703-e47e-42a1-bba2-00c89ae73afe",
      "metadata": {
        "id": "4325a703-e47e-42a1-bba2-00c89ae73afe"
      },
      "outputs": [],
      "source": [
        "X=df_drop.drop(['target', 'target_log'], axis=1)\n",
        "y=df_drop['target']\n",
        "y_log = df_drop['target_log']"
      ]
    },
    {
      "cell_type": "code",
      "execution_count": null,
      "id": "f68126f5-f10b-472d-9f2a-d01532b0e6fc",
      "metadata": {
        "id": "f68126f5-f10b-472d-9f2a-d01532b0e6fc"
      },
      "outputs": [],
      "source": [
        "X_train, X_test, y_train_log, y_test_log = model_selection.train_test_split(X, y_log, test_size=0.3, random_state=42)"
      ]
    },
    {
      "cell_type": "code",
      "execution_count": null,
      "id": "a8523d80-6266-4152-9ff3-dfec4745789c",
      "metadata": {
        "id": "a8523d80-6266-4152-9ff3-dfec4745789c"
      },
      "outputs": [],
      "source": [
        "scaler = preprocessing.StandardScaler()\n",
        "scaler.fit(X_train)\n",
        "X_train_scaled = scaler.transform(X_train)\n",
        "X_test_scaled = scaler.transform(X_test)"
      ]
    },
    {
      "cell_type": "code",
      "execution_count": null,
      "id": "585833fb-a63e-4d12-9c42-04eff861a7a0",
      "metadata": {
        "id": "585833fb-a63e-4d12-9c42-04eff861a7a0",
        "outputId": "23806f59-a985-4df1-df09-39b1374d4183"
      },
      "outputs": [
        {
          "name": "stdout",
          "output_type": "stream",
          "text": [
            "Train RMSLE score: 0.57\n",
            "Test RMSLE score: 0.60\n"
          ]
        }
      ],
      "source": [
        "gbr = ensemble.GradientBoostingRegressor(learning_rate = 0.5,\n",
        "                                         max_depth=6,\n",
        "                                         n_estimators=100, #количество деревьев по-умолчанию\n",
        "                                         min_samples_split = 30,\n",
        "                                         random_state=42 #генератор случайных чисел\n",
        "                                         )\n",
        "gbr.fit(X_train_scaled, y_train_log)\n",
        "\n",
        "y_train_predict_gbr = gbr.predict(X_train_scaled)\n",
        "y_test_predict_gbr = gbr.predict(X_test_scaled)\n",
        "\n",
        "# метрики\n",
        "print('Train RMSLE score: {:.2f}'.format(np.sqrt(metrics.mean_squared_error(y_train_log, y_train_predict_gbr))))\n",
        "print('Test RMSLE score: {:.2f}'.format(np.sqrt(metrics.mean_squared_error(y_test_log, y_test_predict_gbr))))"
      ]
    },
    {
      "cell_type": "code",
      "execution_count": null,
      "id": "b3274292-ce5b-4b78-98cf-6753bdb157aa",
      "metadata": {
        "id": "b3274292-ce5b-4b78-98cf-6753bdb157aa",
        "outputId": "217f7d7d-a73e-4d43-b715-2971cc542276"
      },
      "outputs": [
        {
          "data": {
            "text/plain": [
              "251034.97136444304"
            ]
          },
          "execution_count": 278,
          "metadata": {},
          "output_type": "execute_result"
        }
      ],
      "source": [
        "y_test = np.exp(y_test_log)\n",
        "y65_test_predict = np.exp(y_test_predict_gbr)\n",
        "\n",
        "msa = metrics.mean_absolute_error(y_test, y65_test_predict)\n",
        "msa"
      ]
    },
    {
      "cell_type": "markdown",
      "id": "09485ac6-b265-469b-a1ba-dfbb043f573c",
      "metadata": {
        "id": "09485ac6-b265-469b-a1ba-dfbb043f573c"
      },
      "source": [
        "Учтём что в city было выбрано большое количество данных, закодированных под labelencoder, рассмотрим результаты без них"
      ]
    },
    {
      "cell_type": "code",
      "execution_count": null,
      "id": "5dddd8b1-031f-4777-8f90-e56fab249cf8",
      "metadata": {
        "id": "5dddd8b1-031f-4777-8f90-e56fab249cf8"
      },
      "outputs": [],
      "source": [
        "df_drop_c=df_drop.drop('city', axis=1)"
      ]
    },
    {
      "cell_type": "code",
      "execution_count": null,
      "id": "aeb1f753-5054-4ffa-81c8-810afe917790",
      "metadata": {
        "id": "aeb1f753-5054-4ffa-81c8-810afe917790"
      },
      "outputs": [],
      "source": [
        "X=df_drop_c.drop(['target', 'target_log'], axis=1)\n",
        "y=df_drop_c['target']\n",
        "y_log = df_drop_c['target_log']"
      ]
    },
    {
      "cell_type": "code",
      "execution_count": null,
      "id": "171fd700-e634-4ae0-b3f0-d58e10174c1c",
      "metadata": {
        "id": "171fd700-e634-4ae0-b3f0-d58e10174c1c"
      },
      "outputs": [],
      "source": [
        "X_train, X_test, y_train_log, y_test_log = model_selection.train_test_split(X, y_log, test_size=0.3, random_state=42)"
      ]
    },
    {
      "cell_type": "code",
      "execution_count": null,
      "id": "887ec76f-0ca8-4350-9fef-4ab2f908ebcb",
      "metadata": {
        "id": "887ec76f-0ca8-4350-9fef-4ab2f908ebcb"
      },
      "outputs": [],
      "source": [
        "scaler = preprocessing.StandardScaler()\n",
        "scaler.fit(X_train)\n",
        "X_train_scaled = scaler.transform(X_train)\n",
        "X_test_scaled = scaler.transform(X_test)"
      ]
    },
    {
      "cell_type": "code",
      "execution_count": null,
      "id": "49e9cae2-a548-46df-b139-4d9b9a73f0a3",
      "metadata": {
        "id": "49e9cae2-a548-46df-b139-4d9b9a73f0a3",
        "outputId": "9451b024-ee37-4284-fe50-1226f72f0bb1"
      },
      "outputs": [
        {
          "name": "stdout",
          "output_type": "stream",
          "text": [
            "Train RMSLE score: 0.69\n",
            "Test RMSLE score: 0.70\n"
          ]
        }
      ],
      "source": [
        "gbr = ensemble.GradientBoostingRegressor(learning_rate = 0.1,\n",
        "                                         max_depth=6,\n",
        "                                         n_estimators=100, #количество деревьев по-умолчанию\n",
        "                                         min_samples_split = 30,\n",
        "                                         random_state=42 #генератор случайных чисел\n",
        "                                         )\n",
        "gbr.fit(X_train_scaled, y_train_log)\n",
        "\n",
        "y_train_predict_gbr = gbr.predict(X_train_scaled)\n",
        "y_test_predict_gbr = gbr.predict(X_test_scaled)\n",
        "\n",
        "# метрики\n",
        "print('Train RMSLE score: {:.2f}'.format(np.sqrt(metrics.mean_squared_error(y_train_log, y_train_predict_gbr))))\n",
        "print('Test RMSLE score: {:.2f}'.format(np.sqrt(metrics.mean_squared_error(y_test_log, y_test_predict_gbr))))"
      ]
    },
    {
      "cell_type": "code",
      "execution_count": null,
      "id": "733bfeb7-9fc6-402f-a6ae-0b584091b2ea",
      "metadata": {
        "id": "733bfeb7-9fc6-402f-a6ae-0b584091b2ea",
        "outputId": "b1c8f1b7-4d22-4e72-e428-f210f7f12d48"
      },
      "outputs": [
        {
          "data": {
            "text/plain": [
              "289204.15033761016"
            ]
          },
          "execution_count": 284,
          "metadata": {},
          "output_type": "execute_result"
        }
      ],
      "source": [
        "y_test = np.exp(y_test_log)\n",
        "y65_test_predict = np.exp(y_test_predict_gbr)\n",
        "\n",
        "msa = metrics.mean_absolute_error(y_test, y65_test_predict)\n",
        "msa"
      ]
    },
    {
      "cell_type": "markdown",
      "id": "617889c8-848d-43ac-b983-da2aa9126de4",
      "metadata": {
        "id": "617889c8-848d-43ac-b983-da2aa9126de4"
      },
      "source": [
        "Всё это время мы проверяли результат на основе кодировки LabelEncoder, попробуем на основании имеющейся кодировки перекодировать данные дальше"
      ]
    },
    {
      "cell_type": "code",
      "execution_count": null,
      "id": "7b46b975-995a-4d57-8168-6ddc8850207e",
      "metadata": {
        "id": "7b46b975-995a-4d57-8168-6ddc8850207e"
      },
      "outputs": [],
      "source": [
        "df_cod=df_drop"
      ]
    },
    {
      "cell_type": "code",
      "execution_count": null,
      "id": "9425a43a-ab63-4b6f-8dbd-70c38c08fe8d",
      "metadata": {
        "id": "9425a43a-ab63-4b6f-8dbd-70c38c08fe8d",
        "outputId": "5363804b-467b-4c83-f1f8-cc72ec5c6428"
      },
      "outputs": [
        {
          "data": {
            "text/plain": [
              "Index(['status', 'propertyType', 'city', 'sqft', 'state', 'target',\n",
              "       'Year built', 'Heating', 'mean_school_rate', 'target_log'],\n",
              "      dtype='object')"
            ]
          },
          "execution_count": 286,
          "metadata": {},
          "output_type": "execute_result"
        }
      ],
      "source": [
        "df_cod.columns"
      ]
    },
    {
      "cell_type": "markdown",
      "id": "77226a92-4c36-4cfc-beee-45aa91101b2b",
      "metadata": {
        "id": "77226a92-4c36-4cfc-beee-45aa91101b2b"
      },
      "source": [
        "'status' - 10 значений, 'propertyType'-20 значений, 'city' -256 значений, 'state' -20 значений, 'Heating' - 10 значений- рассмотрим следующие столбцы"
      ]
    },
    {
      "cell_type": "markdown",
      "id": "eda90b57-ad38-4c79-a293-55b815aa1566",
      "metadata": {
        "id": "eda90b57-ad38-4c79-a293-55b815aa1566"
      },
      "source": [
        "'propertyType', 'city', 'state' столбцы BinaryEncoder"
      ]
    },
    {
      "cell_type": "code",
      "execution_count": null,
      "id": "82edb323-94ff-48b4-8074-b7020342ec0a",
      "metadata": {
        "id": "82edb323-94ff-48b4-8074-b7020342ec0a"
      },
      "outputs": [],
      "source": [
        "import category_encoders as ce\n",
        "# Создание экземпляра бинарного кодировщика\n",
        "encoder = ce.BinaryEncoder(cols=['propertyType', 'city', 'state'])\n",
        "\n",
        "# Применение бинарного кодировщика к датафрейму df\n",
        "df_cod = encoder.fit_transform(df_cod)"
      ]
    },
    {
      "cell_type": "markdown",
      "id": "c7d959a8-4f5e-4204-96fa-7f8486eaceb8",
      "metadata": {
        "id": "c7d959a8-4f5e-4204-96fa-7f8486eaceb8"
      },
      "source": [
        "'status', 'Heating' закодируем с помощью get_dummies"
      ]
    },
    {
      "cell_type": "code",
      "execution_count": null,
      "id": "eb3ec2c0-31ac-4330-92c5-65815fcd0a99",
      "metadata": {
        "id": "eb3ec2c0-31ac-4330-92c5-65815fcd0a99"
      },
      "outputs": [],
      "source": [
        "df_cod = pd.get_dummies(df_cod, columns=['status'])\n",
        "df_cod = pd.get_dummies(df_cod, columns=['Heating'])"
      ]
    },
    {
      "cell_type": "code",
      "execution_count": null,
      "id": "6c072306-3e05-4f9a-b33b-265ac00b8fc1",
      "metadata": {
        "id": "6c072306-3e05-4f9a-b33b-265ac00b8fc1",
        "outputId": "e2a9f1e4-57b6-435b-b0f0-1fe698465e1a"
      },
      "outputs": [
        {
          "data": {
            "text/plain": [
              "46"
            ]
          },
          "execution_count": 289,
          "metadata": {},
          "output_type": "execute_result"
        }
      ],
      "source": [
        "len(df_cod.columns)"
      ]
    },
    {
      "cell_type": "markdown",
      "id": "ebc8e6a4-be73-4eea-a947-2d2ce1d307ce",
      "metadata": {
        "id": "ebc8e6a4-be73-4eea-a947-2d2ce1d307ce"
      },
      "source": [
        "Обучим данную модель с помощью градиентного бустинга"
      ]
    },
    {
      "cell_type": "code",
      "execution_count": null,
      "id": "f46343f0-ee6e-4a5e-b065-9ef43c3a80b4",
      "metadata": {
        "id": "f46343f0-ee6e-4a5e-b065-9ef43c3a80b4"
      },
      "outputs": [],
      "source": [
        "X=df_cod.drop(['target', 'target_log'], axis=1)\n",
        "y=df_cod['target']\n",
        "y_log = df_cod['target_log']"
      ]
    },
    {
      "cell_type": "code",
      "execution_count": null,
      "id": "dedc1dcd-d835-4295-84b5-ee83af1d52d4",
      "metadata": {
        "id": "dedc1dcd-d835-4295-84b5-ee83af1d52d4"
      },
      "outputs": [],
      "source": [
        "X_train, X_test, y_train_log, y_test_log = model_selection.train_test_split(X, y_log, test_size=0.3, random_state=42)"
      ]
    },
    {
      "cell_type": "code",
      "execution_count": null,
      "id": "ba6609cb-8a41-4475-9dfb-83c46cda01c8",
      "metadata": {
        "id": "ba6609cb-8a41-4475-9dfb-83c46cda01c8"
      },
      "outputs": [],
      "source": [
        "scaler = preprocessing.StandardScaler()\n",
        "scaler.fit(X_train)\n",
        "X_train_scaled = scaler.transform(X_train)\n",
        "X_test_scaled = scaler.transform(X_test)"
      ]
    },
    {
      "cell_type": "code",
      "execution_count": null,
      "id": "749fde6a-51d5-4e70-8ea9-d7bdbcca53b7",
      "metadata": {
        "id": "749fde6a-51d5-4e70-8ea9-d7bdbcca53b7",
        "outputId": "97a75c77-2c8e-4b68-fd88-0b7c5d63c883"
      },
      "outputs": [
        {
          "name": "stdout",
          "output_type": "stream",
          "text": [
            "Train RMSLE score: 0.60\n",
            "Test RMSLE score: 0.62\n"
          ]
        }
      ],
      "source": [
        "gbr = ensemble.GradientBoostingRegressor(learning_rate = 0.5,\n",
        "                                         max_depth=6,\n",
        "                                         n_estimators=100, #количество деревьев по-умолчанию\n",
        "                                         min_samples_split = 30,\n",
        "                                         random_state=42 #генератор случайных чисел\n",
        "                                         )\n",
        "gbr.fit(X_train_scaled, y_train_log)\n",
        "\n",
        "y_train_predict_gbr = gbr.predict(X_train_scaled)\n",
        "y_test_predict_gbr = gbr.predict(X_test_scaled)\n",
        "\n",
        "# метрики\n",
        "print('Train RMSLE score: {:.2f}'.format(np.sqrt(metrics.mean_squared_error(y_train_log, y_train_predict_gbr))))\n",
        "print('Test RMSLE score: {:.2f}'.format(np.sqrt(metrics.mean_squared_error(y_test_log, y_test_predict_gbr))))"
      ]
    },
    {
      "cell_type": "code",
      "execution_count": null,
      "id": "48b8b2b4-4889-4656-a69f-5bacca934d08",
      "metadata": {
        "id": "48b8b2b4-4889-4656-a69f-5bacca934d08",
        "outputId": "c2a9d8a7-77f2-4a89-c358-f3679eac51eb"
      },
      "outputs": [
        {
          "data": {
            "text/plain": [
              "261665.65407248813"
            ]
          },
          "execution_count": 294,
          "metadata": {},
          "output_type": "execute_result"
        }
      ],
      "source": [
        "y_test1 = np.exp(y_test_log)\n",
        "y65_test_predict1 = np.exp(y_test_predict_gbr)\n",
        "\n",
        "msa = metrics.mean_absolute_error(y_test, y65_test_predict1)\n",
        "msa"
      ]
    },
    {
      "cell_type": "markdown",
      "id": "3e8248c8-e2bb-45cf-9b47-0d799d0a7bbd",
      "metadata": {
        "id": "3e8248c8-e2bb-45cf-9b47-0d799d0a7bbd"
      },
      "source": [
        "Рассмотрим результаты при отсутствии 'city'"
      ]
    },
    {
      "cell_type": "code",
      "execution_count": null,
      "id": "98e88df7-aa85-4fbb-a083-790460dbbc08",
      "metadata": {
        "id": "98e88df7-aa85-4fbb-a083-790460dbbc08",
        "outputId": "b457c2fb-62c8-429f-b57a-e7d58b8c7ca7"
      },
      "outputs": [
        {
          "data": {
            "text/plain": [
              "Index(['status', 'propertyType', 'city', 'sqft', 'state', 'target',\n",
              "       'Year built', 'Heating', 'mean_school_rate', 'target_log'],\n",
              "      dtype='object')"
            ]
          },
          "execution_count": 295,
          "metadata": {},
          "output_type": "execute_result"
        }
      ],
      "source": [
        "df_drop.columns"
      ]
    },
    {
      "cell_type": "code",
      "execution_count": null,
      "id": "4818351a-3690-47f0-ab2f-c6a747d8fef5",
      "metadata": {
        "id": "4818351a-3690-47f0-ab2f-c6a747d8fef5"
      },
      "outputs": [],
      "source": [
        "df_drop1=df_drop.drop('city', axis=1)"
      ]
    },
    {
      "cell_type": "code",
      "execution_count": null,
      "id": "8f6303d8-60d1-44ca-a45e-8917786626e1",
      "metadata": {
        "id": "8f6303d8-60d1-44ca-a45e-8917786626e1"
      },
      "outputs": [],
      "source": [
        "df_drop1 = pd.get_dummies(df_drop1, columns=['status', 'Heating'])"
      ]
    },
    {
      "cell_type": "code",
      "execution_count": null,
      "id": "2a357a7f-210c-42e8-a7e5-c48de99c3edb",
      "metadata": {
        "id": "2a357a7f-210c-42e8-a7e5-c48de99c3edb"
      },
      "outputs": [],
      "source": [
        "encoder = ce.BinaryEncoder(cols=['propertyType', 'state'])\n",
        "\n",
        "# Применение бинарного кодировщика к датафрейму df\n",
        "df_drop1 = encoder.fit_transform(df_drop1)"
      ]
    },
    {
      "cell_type": "code",
      "execution_count": null,
      "id": "d074cb9f-acb9-4c50-a34d-7304e49bccb4",
      "metadata": {
        "id": "d074cb9f-acb9-4c50-a34d-7304e49bccb4",
        "outputId": "66d3c876-9e3b-4c31-ecc2-aa720d0d3ffd"
      },
      "outputs": [
        {
          "data": {
            "text/plain": [
              "37"
            ]
          },
          "execution_count": 299,
          "metadata": {},
          "output_type": "execute_result"
        }
      ],
      "source": [
        "len(df_drop1.columns)"
      ]
    },
    {
      "cell_type": "code",
      "execution_count": null,
      "id": "0502f01f-0b1b-4602-8c8c-5ecd518d69b7",
      "metadata": {
        "id": "0502f01f-0b1b-4602-8c8c-5ecd518d69b7"
      },
      "outputs": [],
      "source": [
        "X=df_drop1.drop(['target', 'target_log'], axis=1)\n",
        "y=df_drop1['target']\n",
        "y_log = df_drop1['target_log']"
      ]
    },
    {
      "cell_type": "code",
      "execution_count": null,
      "id": "e39c0525-5a89-4c4f-9cf4-9f6113a8a982",
      "metadata": {
        "id": "e39c0525-5a89-4c4f-9cf4-9f6113a8a982"
      },
      "outputs": [],
      "source": [
        "X_train, X_test, y_train_log, y_test_log = model_selection.train_test_split(X, y_log, test_size=0.3, random_state=42)"
      ]
    },
    {
      "cell_type": "code",
      "execution_count": null,
      "id": "464895c8-fa7d-4ca8-ad4c-1c06141635db",
      "metadata": {
        "id": "464895c8-fa7d-4ca8-ad4c-1c06141635db"
      },
      "outputs": [],
      "source": [
        "scaler = preprocessing.StandardScaler()\n",
        "scaler.fit(X_train)\n",
        "X_train_scaled = scaler.transform(X_train)\n",
        "X_test_scaled = scaler.transform(X_test)"
      ]
    },
    {
      "cell_type": "code",
      "execution_count": null,
      "id": "22e5312e-028e-4289-a7d4-429d5150dcda",
      "metadata": {
        "id": "22e5312e-028e-4289-a7d4-429d5150dcda",
        "outputId": "2affc3ca-ff2b-41ab-b3f4-d3235b4c140f"
      },
      "outputs": [
        {
          "name": "stdout",
          "output_type": "stream",
          "text": [
            "Train RMSLE score: 0.65\n",
            "Test RMSLE score: 0.67\n"
          ]
        }
      ],
      "source": [
        "gbr = ensemble.GradientBoostingRegressor(learning_rate = 0.5,\n",
        "                                         max_depth=6,\n",
        "                                         n_estimators=100, #количество деревьев по-умолчанию\n",
        "                                         min_samples_split = 30,\n",
        "                                         random_state=42 #генератор случайных чисел\n",
        "                                         )\n",
        "gbr.fit(X_train_scaled, y_train_log)\n",
        "\n",
        "y_train_predict_gbr = gbr.predict(X_train_scaled)\n",
        "y_test_predict_gbr = gbr.predict(X_test_scaled)\n",
        "\n",
        "# метрики\n",
        "print('Train RMSLE score: {:.2f}'.format(np.sqrt(metrics.mean_squared_error(y_train_log, y_train_predict_gbr))))\n",
        "print('Test RMSLE score: {:.2f}'.format(np.sqrt(metrics.mean_squared_error(y_test_log, y_test_predict_gbr))))"
      ]
    },
    {
      "cell_type": "code",
      "execution_count": null,
      "id": "969a8bda-d490-4611-9c94-a8cd039a9aa9",
      "metadata": {
        "id": "969a8bda-d490-4611-9c94-a8cd039a9aa9",
        "outputId": "f363f221-8d8a-4279-a6e3-be9a847eda8f"
      },
      "outputs": [
        {
          "data": {
            "text/plain": [
              "284806.49460770143"
            ]
          },
          "execution_count": 304,
          "metadata": {},
          "output_type": "execute_result"
        }
      ],
      "source": [
        "y_test = np.exp(y_test_log)\n",
        "y65_test_predict = np.exp(y_test_predict_gbr)\n",
        "\n",
        "msa = metrics.mean_absolute_error(y_test, y65_test_predict)\n",
        "msa"
      ]
    },
    {
      "cell_type": "markdown",
      "id": "28254fba-3f17-43e0-a8ba-0fde3515e168",
      "metadata": {
        "id": "28254fba-3f17-43e0-a8ba-0fde3515e168"
      },
      "source": [
        "И напоследок попробуем закодировать ProrertyType под get_dummies"
      ]
    },
    {
      "cell_type": "code",
      "execution_count": null,
      "id": "54c29cde-2bbd-482a-8809-75bcef74bc8b",
      "metadata": {
        "id": "54c29cde-2bbd-482a-8809-75bcef74bc8b"
      },
      "outputs": [],
      "source": [
        "df_cod1=df_drop"
      ]
    },
    {
      "cell_type": "code",
      "execution_count": null,
      "id": "6cea5a8c-cb37-470b-89a2-a1164e858433",
      "metadata": {
        "id": "6cea5a8c-cb37-470b-89a2-a1164e858433",
        "outputId": "6eaac7bf-4a33-4777-8dc5-0d698ffc7dd3"
      },
      "outputs": [
        {
          "data": {
            "text/plain": [
              "57"
            ]
          },
          "execution_count": 306,
          "metadata": {},
          "output_type": "execute_result"
        }
      ],
      "source": [
        "import category_encoders as ce\n",
        "# Создание экземпляра бинарного кодировщика\n",
        "encoder = ce.BinaryEncoder(cols=['city', 'state'])\n",
        "\n",
        "# Применение бинарного кодировщика к датафрейму df\n",
        "df_cod1 = encoder.fit_transform(df_cod1)\n",
        "\n",
        "df_cod1 = pd.get_dummies(df_cod1, columns=['status'])\n",
        "df_cod1 = pd.get_dummies(df_cod1, columns=['Heating'])\n",
        "df_cod1 = pd.get_dummies(df_cod1, columns=['propertyType'])\n",
        "\n",
        "len(df_cod1.columns)"
      ]
    },
    {
      "cell_type": "code",
      "execution_count": null,
      "id": "da76ede1-b12f-400b-b103-2f6ee36b224a",
      "metadata": {
        "id": "da76ede1-b12f-400b-b103-2f6ee36b224a",
        "outputId": "b5d54189-3d7b-4078-ac02-eaf3ecd3b708"
      },
      "outputs": [
        {
          "data": {
            "text/plain": [
              "Index(['city_0', 'city_1', 'city_2', 'city_3', 'city_4', 'city_5', 'city_6',\n",
              "       'city_7', 'city_8', 'sqft', 'state_0', 'state_1', 'state_2', 'state_3',\n",
              "       'state_4', 'target', 'Year built', 'mean_school_rate', 'target_log',\n",
              "       'status_0', 'status_1', 'status_2', 'status_3', 'status_4', 'status_5',\n",
              "       'status_6', 'status_7', 'status_8', 'status_9', 'status_10',\n",
              "       'Heating_0', 'Heating_1', 'Heating_2', 'Heating_3', 'Heating_4',\n",
              "       'Heating_5', 'Heating_6', 'Heating_7', 'Heating_8', 'Heating_9',\n",
              "       'Heating_10', 'propertyType_0', 'propertyType_1', 'propertyType_2',\n",
              "       'propertyType_3', 'propertyType_4', 'propertyType_5', 'propertyType_6',\n",
              "       'propertyType_7', 'propertyType_8', 'propertyType_9', 'propertyType_10',\n",
              "       'propertyType_11', 'propertyType_12', 'propertyType_13',\n",
              "       'propertyType_14', 'propertyType_15'],\n",
              "      dtype='object')"
            ]
          },
          "execution_count": 307,
          "metadata": {},
          "output_type": "execute_result"
        }
      ],
      "source": [
        "df_cod1.columns"
      ]
    },
    {
      "cell_type": "code",
      "execution_count": null,
      "id": "2c7863da-87e1-4624-901e-4eb600a11833",
      "metadata": {
        "id": "2c7863da-87e1-4624-901e-4eb600a11833"
      },
      "outputs": [],
      "source": [
        "X=df_cod1.drop(['target', 'target_log'], axis=1)\n",
        "y=df_cod1['target']\n",
        "y_log = df_cod1['target_log']"
      ]
    },
    {
      "cell_type": "code",
      "execution_count": null,
      "id": "5b5ea001-64a3-40b6-9cbc-568b0d7b9aed",
      "metadata": {
        "id": "5b5ea001-64a3-40b6-9cbc-568b0d7b9aed"
      },
      "outputs": [],
      "source": [
        "X_train, X_test, y_train_log, y_test_log = model_selection.train_test_split(X, y_log, test_size=0.3, random_state=42)"
      ]
    },
    {
      "cell_type": "code",
      "execution_count": null,
      "id": "4151a177-d5e4-403a-a98c-bd479973b212",
      "metadata": {
        "id": "4151a177-d5e4-403a-a98c-bd479973b212"
      },
      "outputs": [],
      "source": [
        "scaler = preprocessing.StandardScaler()\n",
        "scaler.fit(X_train)\n",
        "X_train_scaled = scaler.transform(X_train)\n",
        "X_test_scaled = scaler.transform(X_test)"
      ]
    },
    {
      "cell_type": "code",
      "execution_count": null,
      "id": "2c7a52a1-0bed-48b6-b8c3-7048dbaa8980",
      "metadata": {
        "id": "2c7a52a1-0bed-48b6-b8c3-7048dbaa8980",
        "outputId": "7eb92862-971a-45f7-91f0-34125474f916"
      },
      "outputs": [
        {
          "name": "stdout",
          "output_type": "stream",
          "text": [
            "Train RMSLE score: 0.58\n",
            "Test RMSLE score: 0.61\n"
          ]
        }
      ],
      "source": [
        "gbr = ensemble.GradientBoostingRegressor(learning_rate = 0.5,\n",
        "                                         max_depth=6,\n",
        "                                         n_estimators=100, #количество деревьев по-умолчанию\n",
        "                                         min_samples_split = 30,\n",
        "                                         random_state=42 #генератор случайных чисел\n",
        "                                         )\n",
        "gbr.fit(X_train_scaled, y_train_log)\n",
        "\n",
        "y_train_predict_gbr = gbr.predict(X_train_scaled)\n",
        "y_test_predict_gbr = gbr.predict(X_test_scaled)\n",
        "\n",
        "# метрики\n",
        "print('Train RMSLE score: {:.2f}'.format(np.sqrt(metrics.mean_squared_error(y_train_log, y_train_predict_gbr))))\n",
        "print('Test RMSLE score: {:.2f}'.format(np.sqrt(metrics.mean_squared_error(y_test_log, y_test_predict_gbr))))"
      ]
    },
    {
      "cell_type": "code",
      "execution_count": null,
      "id": "c5f59c8b-57ed-4263-9b5d-d4b884adf3e5",
      "metadata": {
        "id": "c5f59c8b-57ed-4263-9b5d-d4b884adf3e5",
        "outputId": "2fd6eab9-6bac-4fd9-dd8f-d2c5c4bbcfc2"
      },
      "outputs": [
        {
          "data": {
            "text/plain": [
              "257807.29142068556"
            ]
          },
          "execution_count": 312,
          "metadata": {},
          "output_type": "execute_result"
        }
      ],
      "source": [
        "y_test2 = np.exp(y_test_log)\n",
        "y65_test_predict2 = np.exp(y_test_predict_gbr)\n",
        "\n",
        "msa = metrics.mean_absolute_error(y_test2, y65_test_predict2)\n",
        "msa"
      ]
    },
    {
      "cell_type": "markdown",
      "id": "71c9247f-b858-49c5-8d3c-8d9b06088dc7",
      "metadata": {
        "id": "71c9247f-b858-49c5-8d3c-8d9b06088dc7"
      },
      "source": [
        "Показатели улучшились :) Попробуем то же самое, добавив 'state' и на всех фичах(показатели оказались лучше)"
      ]
    },
    {
      "cell_type": "code",
      "execution_count": null,
      "id": "e96663d0-462f-4b15-a4c5-d54c4a629237",
      "metadata": {
        "id": "e96663d0-462f-4b15-a4c5-d54c4a629237"
      },
      "outputs": [],
      "source": [
        "df_cod2=df"
      ]
    },
    {
      "cell_type": "code",
      "execution_count": null,
      "id": "83ca39ee-1dac-434c-816b-600bd8f72d7c",
      "metadata": {
        "id": "83ca39ee-1dac-434c-816b-600bd8f72d7c",
        "outputId": "dca31e87-1789-4e1b-cdd2-f4a96d1aef4f"
      },
      "outputs": [
        {
          "data": {
            "text/plain": [
              "77"
            ]
          },
          "execution_count": 314,
          "metadata": {},
          "output_type": "execute_result"
        }
      ],
      "source": [
        "import category_encoders as ce\n",
        "# Создание экземпляра бинарного кодировщика\n",
        "encoder = ce.BinaryEncoder(cols=['city'])\n",
        "\n",
        "# Применение бинарного кодировщика к датафрейму df\n",
        "df_cod2 = encoder.fit_transform(df_cod2)\n",
        "\n",
        "df_cod2 = pd.get_dummies(df_cod2, columns=['status'])\n",
        "df_cod2 = pd.get_dummies(df_cod2, columns=['Heating'])\n",
        "df_cod2 = pd.get_dummies(df_cod2, columns=['propertyType'])\n",
        "df_cod2 = pd.get_dummies(df_cod2, columns=['state'])\n",
        "\n",
        "len(df_cod2.columns)"
      ]
    },
    {
      "cell_type": "code",
      "execution_count": null,
      "id": "514c3ebc-3e16-449e-9de9-df02d50fde7c",
      "metadata": {
        "id": "514c3ebc-3e16-449e-9de9-df02d50fde7c",
        "outputId": "6f00797d-4bbf-480e-82c2-eb7bdd80ba6b"
      },
      "outputs": [
        {
          "data": {
            "text/plain": [
              "Index(['city_0', 'city_1', 'city_2', 'city_3', 'city_4', 'city_5', 'city_6',\n",
              "       'city_7', 'city_8', 'sqft', 'beds', 'stories', 'PrivatePool', 'target',\n",
              "       'Year built', 'lotsize', 'mean_school_rate', 'target_log', 'status_0',\n",
              "       'status_1', 'status_2', 'status_3', 'status_4', 'status_5', 'status_6',\n",
              "       'status_7', 'status_8', 'status_9', 'status_10', 'Heating_0',\n",
              "       'Heating_1', 'Heating_2', 'Heating_3', 'Heating_4', 'Heating_5',\n",
              "       'Heating_6', 'Heating_7', 'Heating_8', 'Heating_9', 'Heating_10',\n",
              "       'propertyType_0', 'propertyType_1', 'propertyType_2', 'propertyType_3',\n",
              "       'propertyType_4', 'propertyType_5', 'propertyType_6', 'propertyType_7',\n",
              "       'propertyType_8', 'propertyType_9', 'propertyType_10',\n",
              "       'propertyType_11', 'propertyType_12', 'propertyType_13',\n",
              "       'propertyType_14', 'propertyType_15', 'state_0', 'state_1', 'state_2',\n",
              "       'state_3', 'state_4', 'state_5', 'state_6', 'state_7', 'state_8',\n",
              "       'state_9', 'state_10', 'state_11', 'state_12', 'state_13', 'state_14',\n",
              "       'state_15', 'state_16', 'state_17', 'state_18', 'state_19', 'state_20'],\n",
              "      dtype='object')"
            ]
          },
          "execution_count": 315,
          "metadata": {},
          "output_type": "execute_result"
        }
      ],
      "source": [
        "df_cod2.columns"
      ]
    },
    {
      "cell_type": "code",
      "execution_count": null,
      "id": "b8275882-28fc-40ef-a2ea-1aedc3fe4213",
      "metadata": {
        "id": "b8275882-28fc-40ef-a2ea-1aedc3fe4213"
      },
      "outputs": [],
      "source": [
        "X=df_cod2.drop(['target', 'target_log'], axis=1)\n",
        "y=df_cod2['target']\n",
        "y_log = df_cod2['target_log']"
      ]
    },
    {
      "cell_type": "code",
      "execution_count": null,
      "id": "5d55ae49-165e-4ec8-8214-39a9ea5361b1",
      "metadata": {
        "id": "5d55ae49-165e-4ec8-8214-39a9ea5361b1"
      },
      "outputs": [],
      "source": [
        "X_train, X_test, y_train_log, y_test_log = model_selection.train_test_split(X, y_log, test_size=0.3, random_state=42)"
      ]
    },
    {
      "cell_type": "code",
      "execution_count": null,
      "id": "70fcfedb-42be-406d-b784-f1efe648e77e",
      "metadata": {
        "id": "70fcfedb-42be-406d-b784-f1efe648e77e"
      },
      "outputs": [],
      "source": [
        "scaler = preprocessing.StandardScaler()\n",
        "scaler.fit(X_train)\n",
        "X_train_scaled = scaler.transform(X_train)\n",
        "X_test_scaled = scaler.transform(X_test)"
      ]
    },
    {
      "cell_type": "code",
      "execution_count": null,
      "id": "603c690e-8290-47c2-9701-340ef1d56d27",
      "metadata": {
        "id": "603c690e-8290-47c2-9701-340ef1d56d27",
        "outputId": "4667080b-0fa8-45f8-e1d3-1a778624657e"
      },
      "outputs": [
        {
          "name": "stdout",
          "output_type": "stream",
          "text": [
            "Train RMSLE score: 0.54\n",
            "Test RMSLE score: 0.57\n"
          ]
        }
      ],
      "source": [
        "gbr = ensemble.GradientBoostingRegressor(learning_rate = 0.5,\n",
        "                                         max_depth=6,\n",
        "                                         n_estimators=100, #количество деревьев по-умолчанию\n",
        "                                         min_samples_split = 30,\n",
        "                                         random_state=42 #генератор случайных чисел\n",
        "                                         )\n",
        "gbr.fit(X_train_scaled, y_train_log)\n",
        "\n",
        "y_train_predict_gbr = gbr.predict(X_train_scaled)\n",
        "y_test_predict_gbr = gbr.predict(X_test_scaled)\n",
        "\n",
        "# метрики\n",
        "print('Train RMSLE score: {:.2f}'.format(np.sqrt(metrics.mean_squared_error(y_train_log, y_train_predict_gbr))))\n",
        "print('Test RMSLE score: {:.2f}'.format(np.sqrt(metrics.mean_squared_error(y_test_log, y_test_predict_gbr))))"
      ]
    },
    {
      "cell_type": "code",
      "execution_count": null,
      "id": "6f028cb4-6e0a-442b-ac21-721df861815a",
      "metadata": {
        "id": "6f028cb4-6e0a-442b-ac21-721df861815a",
        "outputId": "530aa39b-de3b-497f-d062-c10bd96223d3"
      },
      "outputs": [
        {
          "data": {
            "text/plain": [
              "249927.4924670404"
            ]
          },
          "execution_count": 320,
          "metadata": {},
          "output_type": "execute_result"
        }
      ],
      "source": [
        "y_test3 = np.exp(y_test_log)\n",
        "y65_test_predict3 = np.exp(y_test_predict_gbr)\n",
        "\n",
        "msa = metrics.mean_absolute_error(y_test3, y65_test_predict3)\n",
        "msa"
      ]
    },
    {
      "cell_type": "markdown",
      "id": "55f0212a-f793-4337-bda3-8e61c2649171",
      "metadata": {
        "id": "55f0212a-f793-4337-bda3-8e61c2649171"
      },
      "source": [
        "df_cod2 выдаёт лучшие результаты по msa"
      ]
    },
    {
      "cell_type": "code",
      "execution_count": null,
      "id": "7786b157-8aee-4471-8a33-09de5ee144c1",
      "metadata": {
        "id": "7786b157-8aee-4471-8a33-09de5ee144c1",
        "outputId": "88ac4091-b5fc-4330-dba7-2852345f8634"
      },
      "outputs": [
        {
          "data": {
            "text/plain": [
              "Index(['city_0', 'city_1', 'city_2', 'city_3', 'city_4', 'city_5', 'city_6',\n",
              "       'city_7', 'city_8', 'sqft', 'beds', 'stories', 'PrivatePool', 'target',\n",
              "       'Year built', 'lotsize', 'mean_school_rate', 'target_log', 'status_0',\n",
              "       'status_1', 'status_2', 'status_3', 'status_4', 'status_5', 'status_6',\n",
              "       'status_7', 'status_8', 'status_9', 'status_10', 'Heating_0',\n",
              "       'Heating_1', 'Heating_2', 'Heating_3', 'Heating_4', 'Heating_5',\n",
              "       'Heating_6', 'Heating_7', 'Heating_8', 'Heating_9', 'Heating_10',\n",
              "       'propertyType_0', 'propertyType_1', 'propertyType_2', 'propertyType_3',\n",
              "       'propertyType_4', 'propertyType_5', 'propertyType_6', 'propertyType_7',\n",
              "       'propertyType_8', 'propertyType_9', 'propertyType_10',\n",
              "       'propertyType_11', 'propertyType_12', 'propertyType_13',\n",
              "       'propertyType_14', 'propertyType_15', 'state_0', 'state_1', 'state_2',\n",
              "       'state_3', 'state_4', 'state_5', 'state_6', 'state_7', 'state_8',\n",
              "       'state_9', 'state_10', 'state_11', 'state_12', 'state_13', 'state_14',\n",
              "       'state_15', 'state_16', 'state_17', 'state_18', 'state_19', 'state_20'],\n",
              "      dtype='object')"
            ]
          },
          "execution_count": 321,
          "metadata": {},
          "output_type": "execute_result"
        }
      ],
      "source": [
        "df_cod2.columns"
      ]
    },
    {
      "cell_type": "code",
      "execution_count": null,
      "id": "ee42889d-fabc-4678-968d-5428cb5eb30e",
      "metadata": {
        "id": "ee42889d-fabc-4678-968d-5428cb5eb30e",
        "outputId": "e19f1a8f-57e2-490b-c127-022359273c98"
      },
      "outputs": [
        {
          "data": {
            "text/plain": [
              "Index(['status', 'propertyType', 'city', 'sqft', 'state', 'target',\n",
              "       'Year built', 'Heating', 'mean_school_rate', 'target_log'],\n",
              "      dtype='object')"
            ]
          },
          "execution_count": 322,
          "metadata": {},
          "output_type": "execute_result"
        }
      ],
      "source": [
        "df_drop.columns # с данными колонками работаем на тесте"
      ]
    },
    {
      "cell_type": "markdown",
      "id": "889562f7-ca41-4697-9cbd-92594d2e0c09",
      "metadata": {
        "id": "889562f7-ca41-4697-9cbd-92594d2e0c09"
      },
      "source": [
        "Посмотрим в сравнении показатели таргета и предсказаний"
      ]
    },
    {
      "cell_type": "code",
      "execution_count": null,
      "id": "2530867c-8039-4f2b-9d7b-e32b5a62bdce",
      "metadata": {
        "id": "2530867c-8039-4f2b-9d7b-e32b5a62bdce"
      },
      "outputs": [],
      "source": [
        "columns = ['target', 'target_pred']\n",
        "df_tar = pd.DataFrame(columns=columns)\n",
        "df_tar['target']=y_test3\n",
        "df_tar['target_pred']=y65_test_predict3"
      ]
    },
    {
      "cell_type": "code",
      "execution_count": null,
      "id": "d129e3cd-3b59-4f69-94a6-f4515bb69f48",
      "metadata": {
        "id": "d129e3cd-3b59-4f69-94a6-f4515bb69f48"
      },
      "outputs": [],
      "source": [
        "df_tar['target_pred'] = df_tar['target_pred'].astype(int)"
      ]
    },
    {
      "cell_type": "code",
      "execution_count": null,
      "id": "5c191bf7-825e-4a14-b9bb-c1a8149d38a6",
      "metadata": {
        "id": "5c191bf7-825e-4a14-b9bb-c1a8149d38a6"
      },
      "outputs": [],
      "source": [
        "df_tar['target']=df_tar['target'].astype(int)"
      ]
    },
    {
      "cell_type": "code",
      "execution_count": null,
      "id": "feebb5f7-c0a0-4fb7-b11d-ee95fb4a757a",
      "metadata": {
        "id": "feebb5f7-c0a0-4fb7-b11d-ee95fb4a757a",
        "outputId": "d729863b-1a79-4813-f4e2-1d7198cfedf3"
      },
      "outputs": [
        {
          "data": {
            "text/html": [
              "<div>\n",
              "<style scoped>\n",
              "    .dataframe tbody tr th:only-of-type {\n",
              "        vertical-align: middle;\n",
              "    }\n",
              "\n",
              "    .dataframe tbody tr th {\n",
              "        vertical-align: top;\n",
              "    }\n",
              "\n",
              "    .dataframe thead th {\n",
              "        text-align: right;\n",
              "    }\n",
              "</style>\n",
              "<table border=\"1\" class=\"dataframe\">\n",
              "  <thead>\n",
              "    <tr style=\"text-align: right;\">\n",
              "      <th></th>\n",
              "      <th>target</th>\n",
              "      <th>target_pred</th>\n",
              "    </tr>\n",
              "  </thead>\n",
              "  <tbody>\n",
              "    <tr>\n",
              "      <th>156272</th>\n",
              "      <td>154990</td>\n",
              "      <td>190967</td>\n",
              "    </tr>\n",
              "    <tr>\n",
              "      <th>123170</th>\n",
              "      <td>126899</td>\n",
              "      <td>218285</td>\n",
              "    </tr>\n",
              "    <tr>\n",
              "      <th>172480</th>\n",
              "      <td>318489</td>\n",
              "      <td>357296</td>\n",
              "    </tr>\n",
              "    <tr>\n",
              "      <th>242459</th>\n",
              "      <td>730000</td>\n",
              "      <td>634357</td>\n",
              "    </tr>\n",
              "    <tr>\n",
              "      <th>23281</th>\n",
              "      <td>619950</td>\n",
              "      <td>433627</td>\n",
              "    </tr>\n",
              "  </tbody>\n",
              "</table>\n",
              "</div>"
            ],
            "text/plain": [
              "        target  target_pred\n",
              "156272  154990       190967\n",
              "123170  126899       218285\n",
              "172480  318489       357296\n",
              "242459  730000       634357\n",
              "23281   619950       433627"
            ]
          },
          "execution_count": 326,
          "metadata": {},
          "output_type": "execute_result"
        }
      ],
      "source": [
        "df_tar.head()"
      ]
    },
    {
      "cell_type": "markdown",
      "id": "e3389c42-a290-44f3-9318-85fce3cec8c5",
      "metadata": {
        "id": "e3389c42-a290-44f3-9318-85fce3cec8c5"
      },
      "source": [
        "Оценим число предсказаний которые отличаются от таргета <100000"
      ]
    },
    {
      "cell_type": "code",
      "execution_count": null,
      "id": "19e04948-c118-40e2-899c-f2c62e932eef",
      "metadata": {
        "id": "19e04948-c118-40e2-899c-f2c62e932eef",
        "outputId": "3d783187-edd6-4328-9bae-2466510e26fe"
      },
      "outputs": [
        {
          "data": {
            "text/plain": [
              "61.96930618815051"
            ]
          },
          "execution_count": 327,
          "metadata": {},
          "output_type": "execute_result"
        }
      ],
      "source": [
        "df_tar['abs_diff'] = abs(df_tar['target'] - df_tar['target_pred'])\n",
        "# Подсчитываем процент значений, удовлетворяющих условию\n",
        "percent_below = (df_tar[df_tar['abs_diff'] <100000].shape[0] / df_tar.shape[0]) * 100\n",
        "percent_below"
      ]
    },
    {
      "cell_type": "code",
      "execution_count": null,
      "id": "6bd61773-65c2-48ac-bf58-fe99893816df",
      "metadata": {
        "id": "6bd61773-65c2-48ac-bf58-fe99893816df"
      },
      "outputs": [],
      "source": [
        "sorted_df = df_tar.sort_index() #сортировка по индексам"
      ]
    },
    {
      "cell_type": "code",
      "execution_count": null,
      "id": "975932c1-488f-4951-a388-b1f19355c310",
      "metadata": {
        "id": "975932c1-488f-4951-a388-b1f19355c310",
        "outputId": "baca79e1-81ec-434d-a170-ef9b92534e47"
      },
      "outputs": [
        {
          "data": {
            "image/png": "[encoded data removed]",
            "text/plain": [
              "<Figure size 1000x600 with 1 Axes>"
            ]
          },
          "metadata": {},
          "output_type": "display_data"
        }
      ],
      "source": [
        "# Построение графика разницы target и target_pred для первых 200 точек\n",
        "plt.figure(figsize=(10, 6))\n",
        "plt.scatter(range(200), sorted_df['target'][:200], label='target', marker='o')\n",
        "plt.scatter(range(200), sorted_df['target_pred'][:200], label='target_pred', marker='x')\n",
        "plt.xlabel('Номер наблюдения')\n",
        "plt.ylabel('Значение')\n",
        "plt.title('Сравнение target и target_pred')\n",
        "plt.legend()\n",
        "plt.show()"
      ]
    },
    {
      "cell_type": "code",
      "execution_count": null,
      "id": "1ec4724a-5b80-417a-b2b5-cde9f649f325",
      "metadata": {
        "id": "1ec4724a-5b80-417a-b2b5-cde9f649f325",
        "outputId": "dede3c0e-a168-4962-da88-85079f561e46"
      },
      "outputs": [
        {
          "data": {
            "text/plain": [
              "256474"
            ]
          },
          "execution_count": 330,
          "metadata": {},
          "output_type": "execute_result"
        }
      ],
      "source": [
        "len(df[df['target']<500000]) #большая часть выборки построена на таргете <500000, присутствуют выбросы"
      ]
    },
    {
      "cell_type": "markdown",
      "id": "5dc19d6a-8607-4bc2-9af6-9cddd78d97a8",
      "metadata": {
        "id": "5dc19d6a-8607-4bc2-9af6-9cddd78d97a8"
      },
      "source": [
        "Соответственно на тесте работаем с теми же фичами, с аналогичным форматом кодировок, что и в последнем варианте."
      ]
    },
    {
      "cell_type": "markdown",
      "id": "af6cf612-b9d1-4006-8f59-933cf64236d5",
      "metadata": {
        "id": "af6cf612-b9d1-4006-8f59-933cf64236d5"
      },
      "source": [
        "Обучим модель на всех данных"
      ]
    },
    {
      "cell_type": "code",
      "execution_count": null,
      "id": "3916acc4-31ff-48af-8432-0e51f6d44c0c",
      "metadata": {
        "id": "3916acc4-31ff-48af-8432-0e51f6d44c0c"
      },
      "outputs": [],
      "source": [
        "scaler = preprocessing.StandardScaler()\n",
        "scaler.fit(X)\n",
        "X_train_scaled = scaler.transform(X)"
      ]
    },
    {
      "cell_type": "code",
      "execution_count": null,
      "id": "22631f1f-02f3-4e46-b080-7014b1a05d25",
      "metadata": {
        "id": "22631f1f-02f3-4e46-b080-7014b1a05d25",
        "outputId": "3295c370-9d1d-477e-aab3-1bae37b93216"
      },
      "outputs": [
        {
          "name": "stdout",
          "output_type": "stream",
          "text": [
            "Train RMSLE score: 1949288.75\n"
          ]
        }
      ],
      "source": [
        "gbr_result = ensemble.GradientBoostingRegressor(learning_rate = 0.5,\n",
        "                                         max_depth=6,\n",
        "                                         n_estimators=100, #количество деревьев по-умолчанию\n",
        "                                         min_samples_split = 30,\n",
        "                                         random_state=42 #генератор случайных чисел\n",
        "                                         )\n",
        "gbr_result.fit(X_train_scaled, y_log)\n",
        "\n",
        "y_train_predict_gbr = gbr_result.predict(X_train_scaled)\n",
        "\n",
        "# метрики\n",
        "print('Train RMSLE score: {:.2f}'.format(np.sqrt(metrics.mean_squared_error(y, y_train_predict_gbr))))"
      ]
    },
    {
      "cell_type": "code",
      "execution_count": null,
      "id": "a3c6b1f1-8536-49c8-8698-a3750d8abe33",
      "metadata": {
        "id": "a3c6b1f1-8536-49c8-8698-a3750d8abe33",
        "outputId": "622fa1a9-e50b-44d6-ded8-1ab2a8b86205"
      },
      "outputs": [
        {
          "data": {
            "text/plain": [
              "238405.3576538492"
            ]
          },
          "execution_count": 333,
          "metadata": {},
          "output_type": "execute_result"
        }
      ],
      "source": [
        "y_test = np.exp(y_log)\n",
        "y65_test_predict = np.exp(y_train_predict_gbr)\n",
        "\n",
        "msa = metrics.mean_absolute_error(y_test, y65_test_predict)\n",
        "msa"
      ]
    },
    {
      "cell_type": "code",
      "execution_count": null,
      "id": "7a464168-60df-44da-9c20-614836fb086d",
      "metadata": {
        "id": "7a464168-60df-44da-9c20-614836fb086d"
      },
      "outputs": [],
      "source": []
    }
  ],
  "metadata": {
    "kernelspec": {
      "display_name": "Python 3 (ipykernel)",
      "language": "python",
      "name": "python3"
    },
    "language_info": {
      "codemirror_mode": {
        "name": "ipython",
        "version": 3
      },
      "file_extension": ".py",
      "mimetype": "text/x-python",
      "name": "python",
      "nbconvert_exporter": "python",
      "pygments_lexer": "ipython3",
      "version": "3.11.4"
    },
    "colab": {
      "provenance": []
    }
  },
  "nbformat": 4,
  "nbformat_minor": 5
}